{
 "cells": [
  {
   "cell_type": "code",
   "execution_count": 1,
   "metadata": {
    "ExecuteTime": {
     "end_time": "2024-02-20T15:01:53.806273748Z",
     "start_time": "2024-02-20T15:01:52.965504636Z"
    }
   },
   "outputs": [
    {
     "name": "stderr",
     "output_type": "stream",
     "text": [
      "/tmp/ipykernel_29621/3392709059.py:1: DeprecationWarning: \n",
      "Pyarrow will become a required dependency of pandas in the next major release of pandas (pandas 3.0),\n",
      "(to allow more performant data types, such as the Arrow string type, and better interoperability with other libraries)\n",
      "but was not found to be installed on your system.\n",
      "If this would cause problems for you,\n",
      "please provide us feedback at https://github.com/pandas-dev/pandas/issues/54466\n",
      "        \n",
      "  import pandas as pd\n"
     ]
    }
   ],
   "source": [
    "import pandas as pd\n",
    "import geopandas as gpd\n",
    "from get_data import SL as sl\n",
    "import zipfile\n",
    "#import geodatasets as gds\n",
    "import matplotlib.pyplot as plt\n",
    "from shapely.geometry import LineString\n",
    "import io\n",
    "import glob\n",
    "import os"
   ]
  },
  {
   "cell_type": "code",
   "outputs": [
    {
     "ename": "TypeError",
     "evalue": "SL.get_agency() missing 1 required positional argument: 'self'",
     "output_type": "error",
     "traceback": [
      "\u001B[0;31m---------------------------------------------------------------------------\u001B[0m",
      "\u001B[0;31mTypeError\u001B[0m                                 Traceback (most recent call last)",
      "Cell \u001B[0;32mIn[2], line 2\u001B[0m\n\u001B[1;32m      1\u001B[0m \u001B[38;5;66;03m# r = requests.get('https://opendata.samtrafiken.se/gtfs/{sl}/{sl_latest}.zip?key={bec5adeaed4140a88c62771ee7fa6c61}')\u001B[39;00m\n\u001B[0;32m----> 2\u001B[0m agency_df \u001B[38;5;241m=\u001B[39m pd\u001B[38;5;241m.\u001B[39mread_csv(\u001B[43msl\u001B[49m\u001B[38;5;241;43m.\u001B[39;49m\u001B[43mget_agency\u001B[49m\u001B[43m(\u001B[49m\u001B[43m)\u001B[49m)\n\u001B[1;32m      3\u001B[0m \u001B[38;5;124;03m\"\"\"with zipfile.ZipFile('/home/pablo/dev23/data_sets/sl.zip') as f:\u001B[39;00m\n\u001B[1;32m      4\u001B[0m \u001B[38;5;124;03m    \u001B[39;00m\n\u001B[1;32m      5\u001B[0m \u001B[38;5;124;03m    agency_df = pd.read_csv(f.open(\"agency.txt\"))\u001B[39;00m\n\u001B[0;32m   (...)\u001B[0m\n\u001B[1;32m     11\u001B[0m \u001B[38;5;124;03m    attributions_df = pd.read_csv(f.open(\"attributions.txt\"))\u001B[39;00m\n\u001B[1;32m     12\u001B[0m \u001B[38;5;124;03m\"\"\"\u001B[39;00m\n",
      "\u001B[0;31mTypeError\u001B[0m: SL.get_agency() missing 1 required positional argument: 'self'"
     ]
    }
   ],
   "source": [
    "# r = requests.get('https://opendata.samtrafiken.se/gtfs/{sl}/{sl_latest}.zip?key={bec5adeaed4140a88c62771ee7fa6c61}')\n",
    "agency_df = pd.read_csv(sl.get_agency())\n",
    "\"\"\"with zipfile.ZipFile('/home/pablo/dev23/data_sets/sl.zip') as f:\n",
    "    \n",
    "    agency_df = pd.read_csv(f.open(\"agency.txt\"))\n",
    "    shapes_df = pd.read_csv(f.open(\"shapes.txt\"))\n",
    "    feed_info_df = pd.read_csv(f.open(\"feed_info.txt\"))\n",
    "    routes_df = pd.read_csv(f.open(\"routes.txt\"))\n",
    "    trips_df = pd.read_csv(f.open(\"trips.txt\"))\n",
    "    stop_times_df = pd.read_csv(f.open(\"stop_times.txt\"))\n",
    "    attributions_df = pd.read_csv(f.open(\"attributions.txt\"))\n",
    "\"\"\"\n"
   ],
   "metadata": {
    "collapsed": false,
    "ExecuteTime": {
     "end_time": "2024-02-20T15:02:12.946941962Z",
     "start_time": "2024-02-20T15:02:12.726300294Z"
    }
   },
   "execution_count": 2
  },
  {
   "cell_type": "code",
   "outputs": [
    {
     "data": {
      "text/plain": "           agency_id                    agency_name                agency_url  \\\n0  14010000000001917           Upplands lokaltrafik  https://www.resrobot.se/   \n1  14010000000001983      Kommuner i Stockholms Län  https://www.resrobot.se/   \n2  14010000000001939          Länstrafiken Sörmland  https://www.resrobot.se/   \n3  14010000000002005              Färdtjänstnämnden  https://www.resrobot.se/   \n4  14010000000002071  Waxholmsbolaget Ångfartygs AB  https://www.resrobot.se/   \n\n    agency_timezone agency_lang agency_fare_url  \n0  Europe/Stockholm          sv             NaN  \n1  Europe/Stockholm          sv             NaN  \n2  Europe/Stockholm          sv             NaN  \n3  Europe/Stockholm          sv             NaN  \n4  Europe/Stockholm          sv             NaN  ",
      "text/html": "<div>\n<style scoped>\n    .dataframe tbody tr th:only-of-type {\n        vertical-align: middle;\n    }\n\n    .dataframe tbody tr th {\n        vertical-align: top;\n    }\n\n    .dataframe thead th {\n        text-align: right;\n    }\n</style>\n<table border=\"1\" class=\"dataframe\">\n  <thead>\n    <tr style=\"text-align: right;\">\n      <th></th>\n      <th>agency_id</th>\n      <th>agency_name</th>\n      <th>agency_url</th>\n      <th>agency_timezone</th>\n      <th>agency_lang</th>\n      <th>agency_fare_url</th>\n    </tr>\n  </thead>\n  <tbody>\n    <tr>\n      <th>0</th>\n      <td>14010000000001917</td>\n      <td>Upplands lokaltrafik</td>\n      <td>https://www.resrobot.se/</td>\n      <td>Europe/Stockholm</td>\n      <td>sv</td>\n      <td>NaN</td>\n    </tr>\n    <tr>\n      <th>1</th>\n      <td>14010000000001983</td>\n      <td>Kommuner i Stockholms Län</td>\n      <td>https://www.resrobot.se/</td>\n      <td>Europe/Stockholm</td>\n      <td>sv</td>\n      <td>NaN</td>\n    </tr>\n    <tr>\n      <th>2</th>\n      <td>14010000000001939</td>\n      <td>Länstrafiken Sörmland</td>\n      <td>https://www.resrobot.se/</td>\n      <td>Europe/Stockholm</td>\n      <td>sv</td>\n      <td>NaN</td>\n    </tr>\n    <tr>\n      <th>3</th>\n      <td>14010000000002005</td>\n      <td>Färdtjänstnämnden</td>\n      <td>https://www.resrobot.se/</td>\n      <td>Europe/Stockholm</td>\n      <td>sv</td>\n      <td>NaN</td>\n    </tr>\n    <tr>\n      <th>4</th>\n      <td>14010000000002071</td>\n      <td>Waxholmsbolaget Ångfartygs AB</td>\n      <td>https://www.resrobot.se/</td>\n      <td>Europe/Stockholm</td>\n      <td>sv</td>\n      <td>NaN</td>\n    </tr>\n  </tbody>\n</table>\n</div>"
     },
     "execution_count": 11,
     "metadata": {},
     "output_type": "execute_result"
    }
   ],
   "source": [
    "agency_df.head()"
   ],
   "metadata": {
    "collapsed": false,
    "ExecuteTime": {
     "end_time": "2024-02-19T13:00:16.119775898Z",
     "start_time": "2024-02-19T13:00:16.098035498Z"
    }
   },
   "execution_count": 11
  },
  {
   "cell_type": "code",
   "outputs": [
    {
     "name": "stdout",
     "output_type": "stream",
     "text": [
      "                    shape_id  shape_pt_lat  shape_pt_lon  shape_pt_sequence  \\\n",
      "0        1014010000482329256     59.341873     18.118316                  1   \n",
      "1        1014010000482329256     59.341854     18.118403                  2   \n",
      "2        1014010000482329256     59.341754     18.118334                  3   \n",
      "3        1014010000482329256     59.341260     18.118048                  4   \n",
      "4        1014010000482329256     59.340930     18.116765                  5   \n",
      "...                      ...           ...           ...                ...   \n",
      "2691038  6014010000653262048     59.658364     18.918478                 71   \n",
      "2691039  6014010000653262048     59.658153     18.917480                 72   \n",
      "2691040  6014010000653262048     59.658087     18.916796                 73   \n",
      "2691041  6014010000653262048     59.658105     18.916555                 74   \n",
      "2691042  6014010000653262048     59.658238     18.916405                 75   \n",
      "\n",
      "         shape_dist_traveled                   geometry  \n",
      "0                       0.00  POINT (18.11832 59.34187)  \n",
      "1                       0.00  POINT (18.11840 59.34185)  \n",
      "2                      11.74  POINT (18.11833 59.34175)  \n",
      "3                      69.17  POINT (18.11805 59.34126)  \n",
      "4                     150.88  POINT (18.11677 59.34093)  \n",
      "...                      ...                        ...  \n",
      "2691038             35771.16  POINT (18.91848 59.65836)  \n",
      "2691039             35832.12  POINT (18.91748 59.65815)  \n",
      "2691040             35871.38  POINT (18.91680 59.65809)  \n",
      "2691041             35885.12  POINT (18.91655 59.65810)  \n",
      "2691042             35885.12  POINT (18.91641 59.65824)  \n",
      "\n",
      "[2691043 rows x 6 columns]\n"
     ]
    }
   ],
   "source": [
    "shapes_gdf = gpd.GeoDataFrame(shapes_df, geometry=gpd.points_from_xy(shapes_df.shape_pt_lon, shapes_df.shape_pt_lat)).set_crs(epsg=4326)\n",
    "print(shapes_gdf)"
   ],
   "metadata": {
    "collapsed": false,
    "ExecuteTime": {
     "end_time": "2024-02-18T18:32:00.113923678Z",
     "start_time": "2024-02-18T18:31:58.153410825Z"
    }
   },
   "execution_count": 59
  },
  {
   "cell_type": "code",
   "outputs": [
    {
     "name": "stdout",
     "output_type": "stream",
     "text": [
      "           agency_id                    agency_name                agency_url  \\\n",
      "0  14010000000001917           Upplands lokaltrafik  https://www.resrobot.se/   \n",
      "1  14010000000001983      Kommuner i Stockholms Län  https://www.resrobot.se/   \n",
      "2  14010000000001939          Länstrafiken Sörmland  https://www.resrobot.se/   \n",
      "3  14010000000002005              Färdtjänstnämnden  https://www.resrobot.se/   \n",
      "4  14010000000002071  Waxholmsbolaget Ångfartygs AB  https://www.resrobot.se/   \n",
      "\n",
      "    agency_timezone agency_lang agency_fare_url  \n",
      "0  Europe/Stockholm          sv             NaN  \n",
      "1  Europe/Stockholm          sv             NaN  \n",
      "2  Europe/Stockholm          sv             NaN  \n",
      "3  Europe/Stockholm          sv             NaN  \n",
      "4  Europe/Stockholm          sv             NaN  \n"
     ]
    }
   ],
   "source": [
    "agency_gdf = gpd.GeoDataFrame(agency_df.head())\n",
    "print(agency_gdf)        "
   ],
   "metadata": {
    "collapsed": false,
    "ExecuteTime": {
     "end_time": "2024-02-18T18:32:00.114697811Z",
     "start_time": "2024-02-18T18:32:00.113080610Z"
    }
   },
   "execution_count": 60
  },
  {
   "cell_type": "code",
   "outputs": [
    {
     "name": "stdout",
     "output_type": "stream",
     "text": [
      "             trip_id organization_name  is_operator\n",
      "0  14010000635912911            Keolis            1\n",
      "1  14010000635913205            Keolis            1\n",
      "2  14010000635913522            Keolis            1\n",
      "3  14010000635913770            Keolis            1\n",
      "4  14010000635914062            Keolis            1\n"
     ]
    }
   ],
   "source": [
    "attributions_gdf = gpd.GeoDataFrame(attributions_df.head())\n",
    "print(attributions_gdf)"
   ],
   "metadata": {
    "collapsed": false,
    "ExecuteTime": {
     "end_time": "2024-02-18T18:32:00.115403150Z",
     "start_time": "2024-02-18T18:32:00.113258289Z"
    }
   },
   "execution_count": 61
  },
  {
   "cell_type": "code",
   "execution_count": 62,
   "metadata": {
    "ExecuteTime": {
     "end_time": "2024-02-18T18:32:00.115988569Z",
     "start_time": "2024-02-18T18:32:00.113344125Z"
    }
   },
   "outputs": [
    {
     "name": "stdout",
     "output_type": "stream",
     "text": [
      "           route_id          agency_id route_short_name route_long_name  \\\n",
      "0  9011001000100000  14010000000001001                1             NaN   \n",
      "1  9011001000200000  14010000000001001                2             NaN   \n",
      "2  9011001000300000  14010000000001001                3             NaN   \n",
      "3  9011001000400000  14010000000001001                4             NaN   \n",
      "4  9011001001000000  14010000000001001               10      Blå linjen   \n",
      "\n",
      "   route_type              route_desc  \n",
      "0         700                 blåbuss  \n",
      "1         700                 blåbuss  \n",
      "2         700                 blåbuss  \n",
      "3         700                 blåbuss  \n",
      "4         401  tunnelbanans blå linje  \n"
     ]
    }
   ],
   "source": [
    "\n",
    "routes_gdf = gpd.GeoDataFrame(routes_df.head())\n",
    "print(routes_gdf)"
   ]
  },
  {
   "cell_type": "code",
   "outputs": [
    {
     "name": "stdout",
     "output_type": "stream",
     "text": [
      "           route_id  service_id            trip_id  trip_headsign  \\\n",
      "0  9011001000100000           1  14010000635912911            NaN   \n",
      "1  9011001000100000           1  14010000635913205            NaN   \n",
      "2  9011001000100000           1  14010000635913522            NaN   \n",
      "3  9011001000100000           1  14010000635913770            NaN   \n",
      "4  9011001000100000           2  14010000635914062            NaN   \n",
      "\n",
      "   direction_id             shape_id  \n",
      "0             1  1014010000482329256  \n",
      "1             1  1014010000482329256  \n",
      "2             1  1014010000482329256  \n",
      "3             1  1014010000482329256  \n",
      "4             1  1014010000482329256  \n"
     ]
    }
   ],
   "source": [
    "trips_gdf = gpd.GeoDataFrame(trips_df.head())\n",
    "print(trips_gdf)"
   ],
   "metadata": {
    "collapsed": false,
    "ExecuteTime": {
     "end_time": "2024-02-18T18:32:00.116584116Z",
     "start_time": "2024-02-18T18:32:00.113425632Z"
    }
   },
   "execution_count": 63
  },
  {
   "cell_type": "code",
   "outputs": [
    {
     "name": "stdout",
     "output_type": "stream",
     "text": [
      "             trip_id arrival_time departure_time           stop_id  \\\n",
      "0  14010000635912911     05:53:00       05:53:00  9022001010028003   \n",
      "1  14010000635912911     05:53:56       05:53:56  9022001010052003   \n",
      "2  14010000635912911     05:54:23       05:54:23  9022001010054002   \n",
      "3  14010000635912911     05:54:57       05:54:57  9022001010056002   \n",
      "4  14010000635912911     05:55:45       05:55:45  9022001010058002   \n",
      "\n",
      "   stop_sequence   stop_headsign  pickup_type  drop_off_type  \\\n",
      "0              1  Stora Essingen            3              1   \n",
      "1              2  Stora Essingen            3              3   \n",
      "2              3  Stora Essingen            3              3   \n",
      "3              4  Stora Essingen            3              3   \n",
      "4              5  Stora Essingen            3              3   \n",
      "\n",
      "   shape_dist_traveled  timepoint  \n",
      "0                 0.00          1  \n",
      "1               398.26          0  \n",
      "2               570.67          0  \n",
      "3               808.54          0  \n",
      "4              1107.90          0  \n"
     ]
    }
   ],
   "source": [
    "stop_times_gdf = gpd.GeoDataFrame(stop_times_df.head())\n",
    "print(stop_times_gdf)"
   ],
   "metadata": {
    "collapsed": false,
    "ExecuteTime": {
     "end_time": "2024-02-18T18:32:00.125468910Z",
     "start_time": "2024-02-18T18:32:00.113589831Z"
    }
   },
   "execution_count": 64
  },
  {
   "cell_type": "code",
   "outputs": [
    {
     "name": "stdout",
     "output_type": "stream",
     "text": [
      "  feed_id       feed_publisher_name          feed_publisher_url feed_lang  \\\n",
      "0   SE-sl  Samtrafiken i Sverige AB  https://www.samtrafiken.se        sv   \n",
      "\n",
      "  feed_version  \n",
      "0   2024-02-15  \n"
     ]
    }
   ],
   "source": [
    "feed_info_gdf = gpd.GeoDataFrame(feed_info_df.head())\n",
    "print(feed_info_gdf)"
   ],
   "metadata": {
    "collapsed": false,
    "ExecuteTime": {
     "end_time": "2024-02-18T18:32:00.187786793Z",
     "start_time": "2024-02-18T18:32:00.121477695Z"
    }
   },
   "execution_count": 65
  },
  {
   "cell_type": "code",
   "outputs": [],
   "source": [],
   "metadata": {
    "collapsed": false,
    "ExecuteTime": {
     "end_time": "2024-02-18T18:32:00.188237346Z",
     "start_time": "2024-02-18T18:32:00.169080058Z"
    }
   },
   "execution_count": 65
  },
  {
   "cell_type": "code",
   "outputs": [],
   "source": [],
   "metadata": {
    "collapsed": false,
    "ExecuteTime": {
     "end_time": "2024-02-18T18:32:00.188554151Z",
     "start_time": "2024-02-18T18:32:00.169238670Z"
    }
   },
   "execution_count": 65
  }
 ],
 "metadata": {
  "kernelspec": {
   "display_name": "Python 3 (ipykernel)",
   "language": "python",
   "name": "python3"
  },
  "language_info": {
   "codemirror_mode": {
    "name": "ipython",
    "version": 3
   },
   "file_extension": ".py",
   "mimetype": "text/x-python",
   "name": "python",
   "nbconvert_exporter": "python",
   "pygments_lexer": "ipython3",
   "version": "3.12.1"
  }
 },
 "nbformat": 4,
 "nbformat_minor": 4
}

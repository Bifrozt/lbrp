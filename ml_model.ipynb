{
 "cells": [
  {
   "cell_type": "code",
   "execution_count": 1,
   "metadata": {
    "ExecuteTime": {
     "end_time": "2024-02-16T19:37:30.153624935Z",
     "start_time": "2024-02-16T19:37:29.404499785Z"
    }
   },
   "outputs": [],
   "source": [
    "import pandas as pd\n",
    "import geopandas as gpd\n",
    "from zipfile import ZipFile\n",
    "#import geodatasets as gds\n",
    "import matplotlib.pyplot as plt\n",
    "from shapely.geometry import LineString\n",
    "import io\n",
    "import glob\n",
    "import os"
   ]
  },
  {
   "cell_type": "code",
   "outputs": [],
   "source": [
    "#col = ['route_id', 'agency_id', 'route_short_name', 'route_long_name', 'route_type', 'route_desc']\n",
    "with ZipFile(\"/home/pablo/dev23/data_sets/sl.zip\") as myzip:\n",
    "    \n",
    "    shapes_df = pd.read_csv(myzip.open(\"shapes.txt\"))\n",
    "    #pathway_df = pd.read_csv(myzip.open(\"pathways.txt\"))\n",
    "    routes_df = pd.read_csv(myzip.open(\"routes.txt\"))\n",
    "    trips_df = pd.read_csv(myzip.open(\"trips.txt\"))\n",
    "    stop_times_df = pd.read_csv(myzip.open(\"stop_times.txt\"))\n"
   ],
   "metadata": {
    "collapsed": false,
    "ExecuteTime": {
     "end_time": "2024-02-16T19:39:14.106781512Z",
     "start_time": "2024-02-16T19:39:10.907255159Z"
    }
   },
   "execution_count": 4
  },
  {
   "cell_type": "code",
   "outputs": [
    {
     "data": {
      "text/plain": "              shape_id  shape_pt_lat  shape_pt_lon  shape_pt_sequence  \\\n0  1014010000482329256     59.341873     18.118316                  1   \n1  1014010000482329256     59.341854     18.118403                  2   \n2  1014010000482329256     59.341754     18.118334                  3   \n3  1014010000482329256     59.341260     18.118048                  4   \n4  1014010000482329256     59.340930     18.116765                  5   \n\n   shape_dist_traveled  \n0                 0.00  \n1                 0.00  \n2                11.74  \n3                69.17  \n4               150.88  ",
      "text/html": "<div>\n<style scoped>\n    .dataframe tbody tr th:only-of-type {\n        vertical-align: middle;\n    }\n\n    .dataframe tbody tr th {\n        vertical-align: top;\n    }\n\n    .dataframe thead th {\n        text-align: right;\n    }\n</style>\n<table border=\"1\" class=\"dataframe\">\n  <thead>\n    <tr style=\"text-align: right;\">\n      <th></th>\n      <th>shape_id</th>\n      <th>shape_pt_lat</th>\n      <th>shape_pt_lon</th>\n      <th>shape_pt_sequence</th>\n      <th>shape_dist_traveled</th>\n    </tr>\n  </thead>\n  <tbody>\n    <tr>\n      <th>0</th>\n      <td>1014010000482329256</td>\n      <td>59.341873</td>\n      <td>18.118316</td>\n      <td>1</td>\n      <td>0.00</td>\n    </tr>\n    <tr>\n      <th>1</th>\n      <td>1014010000482329256</td>\n      <td>59.341854</td>\n      <td>18.118403</td>\n      <td>2</td>\n      <td>0.00</td>\n    </tr>\n    <tr>\n      <th>2</th>\n      <td>1014010000482329256</td>\n      <td>59.341754</td>\n      <td>18.118334</td>\n      <td>3</td>\n      <td>11.74</td>\n    </tr>\n    <tr>\n      <th>3</th>\n      <td>1014010000482329256</td>\n      <td>59.341260</td>\n      <td>18.118048</td>\n      <td>4</td>\n      <td>69.17</td>\n    </tr>\n    <tr>\n      <th>4</th>\n      <td>1014010000482329256</td>\n      <td>59.340930</td>\n      <td>18.116765</td>\n      <td>5</td>\n      <td>150.88</td>\n    </tr>\n  </tbody>\n</table>\n</div>"
     },
     "execution_count": 5,
     "metadata": {},
     "output_type": "execute_result"
    }
   ],
   "source": [
    "shapes_df.head()"
   ],
   "metadata": {
    "collapsed": false,
    "ExecuteTime": {
     "end_time": "2024-02-16T19:39:27.422414201Z",
     "start_time": "2024-02-16T19:39:27.406343024Z"
    }
   },
   "execution_count": 5
  },
  {
   "cell_type": "code",
   "outputs": [
    {
     "name": "stdout",
     "output_type": "stream",
     "text": [
      "                    shape_id  shape_pt_lat  shape_pt_lon  shape_pt_sequence  \\\n",
      "0        1014010000482329256     59.341873     18.118316                  1   \n",
      "1        1014010000482329256     59.341854     18.118403                  2   \n",
      "2        1014010000482329256     59.341754     18.118334                  3   \n",
      "3        1014010000482329256     59.341260     18.118048                  4   \n",
      "4        1014010000482329256     59.340930     18.116765                  5   \n",
      "...                      ...           ...           ...                ...   \n",
      "2691038  6014010000653262048     59.658364     18.918478                 71   \n",
      "2691039  6014010000653262048     59.658153     18.917480                 72   \n",
      "2691040  6014010000653262048     59.658087     18.916796                 73   \n",
      "2691041  6014010000653262048     59.658105     18.916555                 74   \n",
      "2691042  6014010000653262048     59.658238     18.916405                 75   \n",
      "\n",
      "         shape_dist_traveled                   geometry  \n",
      "0                       0.00  POINT (18.11832 59.34187)  \n",
      "1                       0.00  POINT (18.11840 59.34185)  \n",
      "2                      11.74  POINT (18.11833 59.34175)  \n",
      "3                      69.17  POINT (18.11805 59.34126)  \n",
      "4                     150.88  POINT (18.11677 59.34093)  \n",
      "...                      ...                        ...  \n",
      "2691038             35771.16  POINT (18.91848 59.65836)  \n",
      "2691039             35832.12  POINT (18.91748 59.65815)  \n",
      "2691040             35871.38  POINT (18.91680 59.65809)  \n",
      "2691041             35885.12  POINT (18.91655 59.65810)  \n",
      "2691042             35885.12  POINT (18.91641 59.65824)  \n",
      "\n",
      "[2691043 rows x 6 columns]\n"
     ]
    }
   ],
   "source": [
    "shapes_gdf = gpd.GeoDataFrame(shapes_df, geometry=gpd.points_from_xy(shapes_df.shape_pt_lon, shapes_df.shape_pt_lat)).set_crs(epsg=4326)\n",
    "print(shapes_gdf)"
   ],
   "metadata": {
    "collapsed": false,
    "ExecuteTime": {
     "end_time": "2024-02-16T19:39:33.710860921Z",
     "start_time": "2024-02-16T19:39:32.127317083Z"
    }
   },
   "execution_count": 6
  },
  {
   "cell_type": "code",
   "outputs": [],
   "source": [
    "#pathway_df.head()\n",
    "        "
   ],
   "metadata": {
    "collapsed": false,
    "ExecuteTime": {
     "end_time": "2024-02-16T19:39:40.322049530Z",
     "start_time": "2024-02-16T19:39:40.319034673Z"
    }
   },
   "execution_count": 7
  },
  {
   "cell_type": "code",
   "execution_count": 20,
   "metadata": {
    "ExecuteTime": {
     "end_time": "2024-02-16T19:50:31.203581993Z",
     "start_time": "2024-02-16T19:50:31.158484011Z"
    }
   },
   "outputs": [
    {
     "name": "stdout",
     "output_type": "stream",
     "text": [
      "           route_id          agency_id route_short_name route_long_name  \\\n",
      "0  9011001000100000  14010000000001001                1             NaN   \n",
      "1  9011001000200000  14010000000001001                2             NaN   \n",
      "2  9011001000300000  14010000000001001                3             NaN   \n",
      "3  9011001000400000  14010000000001001                4             NaN   \n",
      "4  9011001001000000  14010000000001001               10      Blå linjen   \n",
      "\n",
      "   route_type              route_desc  \n",
      "0         700                 blåbuss  \n",
      "1         700                 blåbuss  \n",
      "2         700                 blåbuss  \n",
      "3         700                 blåbuss  \n",
      "4         401  tunnelbanans blå linje  \n"
     ]
    }
   ],
   "source": [
    "\n",
    "routes_gdf = gpd.GeoDataFrame(routes_df.head())\n",
    "print(routes_gdf)"
   ]
  },
  {
   "cell_type": "code",
   "outputs": [
    {
     "name": "stdout",
     "output_type": "stream",
     "text": [
      "           route_id  service_id            trip_id  trip_headsign  \\\n",
      "0  9011001000100000           1  14010000635912911            NaN   \n",
      "1  9011001000100000           1  14010000635913205            NaN   \n",
      "2  9011001000100000           1  14010000635913522            NaN   \n",
      "3  9011001000100000           1  14010000635913770            NaN   \n",
      "4  9011001000100000           2  14010000635914062            NaN   \n",
      "\n",
      "   direction_id             shape_id  \n",
      "0             1  1014010000482329256  \n",
      "1             1  1014010000482329256  \n",
      "2             1  1014010000482329256  \n",
      "3             1  1014010000482329256  \n",
      "4             1  1014010000482329256  \n"
     ]
    }
   ],
   "source": [
    "trips_gdf = gpd.GeoDataFrame(trips_df.head())\n",
    "print(trips_gdf)"
   ],
   "metadata": {
    "collapsed": false,
    "ExecuteTime": {
     "end_time": "2024-02-16T19:51:30.935787471Z",
     "start_time": "2024-02-16T19:51:30.887957877Z"
    }
   },
   "execution_count": 22
  },
  {
   "cell_type": "code",
   "outputs": [
    {
     "name": "stdout",
     "output_type": "stream",
     "text": [
      "             trip_id arrival_time departure_time           stop_id  \\\n",
      "0  14010000635912911     05:53:00       05:53:00  9022001010028003   \n",
      "1  14010000635912911     05:53:56       05:53:56  9022001010052003   \n",
      "2  14010000635912911     05:54:23       05:54:23  9022001010054002   \n",
      "3  14010000635912911     05:54:57       05:54:57  9022001010056002   \n",
      "4  14010000635912911     05:55:45       05:55:45  9022001010058002   \n",
      "\n",
      "   stop_sequence   stop_headsign  pickup_type  drop_off_type  \\\n",
      "0              1  Stora Essingen            3              1   \n",
      "1              2  Stora Essingen            3              3   \n",
      "2              3  Stora Essingen            3              3   \n",
      "3              4  Stora Essingen            3              3   \n",
      "4              5  Stora Essingen            3              3   \n",
      "\n",
      "   shape_dist_traveled  timepoint  \n",
      "0                 0.00          1  \n",
      "1               398.26          0  \n",
      "2               570.67          0  \n",
      "3               808.54          0  \n",
      "4              1107.90          0  \n"
     ]
    }
   ],
   "source": [
    "stop_times_gdf = gpd.GeoDataFrame(stop_times_df.head())\n",
    "print(stop_times_gdf)"
   ],
   "metadata": {
    "collapsed": false,
    "ExecuteTime": {
     "end_time": "2024-02-16T19:52:22.170612160Z",
     "start_time": "2024-02-16T19:52:22.125972531Z"
    }
   },
   "execution_count": 23
  },
  {
   "cell_type": "code",
   "outputs": [
    {
     "ename": "KeyboardInterrupt",
     "evalue": "",
     "output_type": "error",
     "traceback": [
      "\u001B[0;31m---------------------------------------------------------------------------\u001B[0m",
      "\u001B[0;31mKeyboardInterrupt\u001B[0m                         Traceback (most recent call last)",
      "Cell \u001B[0;32mIn[13], line 1\u001B[0m\n\u001B[0;32m----> 1\u001B[0m \u001B[43mshapes_gdf\u001B[49m\u001B[38;5;241;43m.\u001B[39;49m\u001B[43mplot\u001B[49m\u001B[43m(\u001B[49m\u001B[43m)\u001B[49m\n",
      "File \u001B[0;32m~/.local/lib/python3.10/site-packages/geopandas/plotting.py:979\u001B[0m, in \u001B[0;36mGeoplotAccessor.__call__\u001B[0;34m(self, *args, **kwargs)\u001B[0m\n\u001B[1;32m    977\u001B[0m kind \u001B[38;5;241m=\u001B[39m kwargs\u001B[38;5;241m.\u001B[39mpop(\u001B[38;5;124m\"\u001B[39m\u001B[38;5;124mkind\u001B[39m\u001B[38;5;124m\"\u001B[39m, \u001B[38;5;124m\"\u001B[39m\u001B[38;5;124mgeo\u001B[39m\u001B[38;5;124m\"\u001B[39m)\n\u001B[1;32m    978\u001B[0m \u001B[38;5;28;01mif\u001B[39;00m kind \u001B[38;5;241m==\u001B[39m \u001B[38;5;124m\"\u001B[39m\u001B[38;5;124mgeo\u001B[39m\u001B[38;5;124m\"\u001B[39m:\n\u001B[0;32m--> 979\u001B[0m     \u001B[38;5;28;01mreturn\u001B[39;00m \u001B[43mplot_dataframe\u001B[49m\u001B[43m(\u001B[49m\u001B[43mdata\u001B[49m\u001B[43m,\u001B[49m\u001B[43m \u001B[49m\u001B[38;5;241;43m*\u001B[39;49m\u001B[43margs\u001B[49m\u001B[43m,\u001B[49m\u001B[43m \u001B[49m\u001B[38;5;241;43m*\u001B[39;49m\u001B[38;5;241;43m*\u001B[39;49m\u001B[43mkwargs\u001B[49m\u001B[43m)\u001B[49m\n\u001B[1;32m    980\u001B[0m \u001B[38;5;28;01mif\u001B[39;00m kind \u001B[38;5;129;01min\u001B[39;00m \u001B[38;5;28mself\u001B[39m\u001B[38;5;241m.\u001B[39m_pandas_kinds:\n\u001B[1;32m    981\u001B[0m     \u001B[38;5;66;03m# Access pandas plots\u001B[39;00m\n\u001B[1;32m    982\u001B[0m     \u001B[38;5;28;01mreturn\u001B[39;00m PlotAccessor(data)(kind\u001B[38;5;241m=\u001B[39mkind, \u001B[38;5;241m*\u001B[39m\u001B[38;5;241m*\u001B[39mkwargs)\n",
      "File \u001B[0;32m~/.local/lib/python3.10/site-packages/geopandas/plotting.py:716\u001B[0m, in \u001B[0;36mplot_dataframe\u001B[0;34m(df, column, cmap, color, ax, cax, categorical, legend, scheme, k, vmin, vmax, markersize, figsize, legend_kwds, categories, classification_kwds, missing_kwds, aspect, **style_kwds)\u001B[0m\n\u001B[1;32m    713\u001B[0m     markersize \u001B[38;5;241m=\u001B[39m df[markersize]\u001B[38;5;241m.\u001B[39mvalues\n\u001B[1;32m    715\u001B[0m \u001B[38;5;28;01mif\u001B[39;00m column \u001B[38;5;129;01mis\u001B[39;00m \u001B[38;5;28;01mNone\u001B[39;00m:\n\u001B[0;32m--> 716\u001B[0m     \u001B[38;5;28;01mreturn\u001B[39;00m \u001B[43mplot_series\u001B[49m\u001B[43m(\u001B[49m\n\u001B[1;32m    717\u001B[0m \u001B[43m        \u001B[49m\u001B[43mdf\u001B[49m\u001B[38;5;241;43m.\u001B[39;49m\u001B[43mgeometry\u001B[49m\u001B[43m,\u001B[49m\n\u001B[1;32m    718\u001B[0m \u001B[43m        \u001B[49m\u001B[43mcmap\u001B[49m\u001B[38;5;241;43m=\u001B[39;49m\u001B[43mcmap\u001B[49m\u001B[43m,\u001B[49m\n\u001B[1;32m    719\u001B[0m \u001B[43m        \u001B[49m\u001B[43mcolor\u001B[49m\u001B[38;5;241;43m=\u001B[39;49m\u001B[43mcolor\u001B[49m\u001B[43m,\u001B[49m\n\u001B[1;32m    720\u001B[0m \u001B[43m        \u001B[49m\u001B[43max\u001B[49m\u001B[38;5;241;43m=\u001B[39;49m\u001B[43max\u001B[49m\u001B[43m,\u001B[49m\n\u001B[1;32m    721\u001B[0m \u001B[43m        \u001B[49m\u001B[43mfigsize\u001B[49m\u001B[38;5;241;43m=\u001B[39;49m\u001B[43mfigsize\u001B[49m\u001B[43m,\u001B[49m\n\u001B[1;32m    722\u001B[0m \u001B[43m        \u001B[49m\u001B[43mmarkersize\u001B[49m\u001B[38;5;241;43m=\u001B[39;49m\u001B[43mmarkersize\u001B[49m\u001B[43m,\u001B[49m\n\u001B[1;32m    723\u001B[0m \u001B[43m        \u001B[49m\u001B[43maspect\u001B[49m\u001B[38;5;241;43m=\u001B[39;49m\u001B[43maspect\u001B[49m\u001B[43m,\u001B[49m\n\u001B[1;32m    724\u001B[0m \u001B[43m        \u001B[49m\u001B[38;5;241;43m*\u001B[39;49m\u001B[38;5;241;43m*\u001B[39;49m\u001B[43mstyle_kwds\u001B[49m\u001B[43m,\u001B[49m\n\u001B[1;32m    725\u001B[0m \u001B[43m    \u001B[49m\u001B[43m)\u001B[49m\n\u001B[1;32m    727\u001B[0m \u001B[38;5;66;03m# To accept pd.Series and np.arrays as column\u001B[39;00m\n\u001B[1;32m    728\u001B[0m \u001B[38;5;28;01mif\u001B[39;00m \u001B[38;5;28misinstance\u001B[39m(column, (np\u001B[38;5;241m.\u001B[39mndarray, pd\u001B[38;5;241m.\u001B[39mSeries)):\n",
      "File \u001B[0;32m~/.local/lib/python3.10/site-packages/geopandas/plotting.py:490\u001B[0m, in \u001B[0;36mplot_series\u001B[0;34m(s, cmap, color, ax, figsize, aspect, **style_kwds)\u001B[0m\n\u001B[1;32m    487\u001B[0m     values_ \u001B[38;5;241m=\u001B[39m values[point_idx] \u001B[38;5;28;01mif\u001B[39;00m cmap \u001B[38;5;28;01melse\u001B[39;00m \u001B[38;5;28;01mNone\u001B[39;00m\n\u001B[1;32m    488\u001B[0m     color_ \u001B[38;5;241m=\u001B[39m expl_color[point_idx] \u001B[38;5;28;01mif\u001B[39;00m color_given \u001B[38;5;28;01melse\u001B[39;00m color\n\u001B[0;32m--> 490\u001B[0m     \u001B[43m_plot_point_collection\u001B[49m\u001B[43m(\u001B[49m\n\u001B[1;32m    491\u001B[0m \u001B[43m        \u001B[49m\u001B[43max\u001B[49m\u001B[43m,\u001B[49m\u001B[43m \u001B[49m\u001B[43mpoints\u001B[49m\u001B[43m,\u001B[49m\u001B[43m \u001B[49m\u001B[43mvalues_\u001B[49m\u001B[43m,\u001B[49m\u001B[43m \u001B[49m\u001B[43mcolor\u001B[49m\u001B[38;5;241;43m=\u001B[39;49m\u001B[43mcolor_\u001B[49m\u001B[43m,\u001B[49m\u001B[43m \u001B[49m\u001B[43mcmap\u001B[49m\u001B[38;5;241;43m=\u001B[39;49m\u001B[43mcmap\u001B[49m\u001B[43m,\u001B[49m\u001B[43m \u001B[49m\u001B[38;5;241;43m*\u001B[39;49m\u001B[38;5;241;43m*\u001B[39;49m\u001B[43mstyle_kwds\u001B[49m\n\u001B[1;32m    492\u001B[0m \u001B[43m    \u001B[49m\u001B[43m)\u001B[49m\n\u001B[1;32m    494\u001B[0m plt\u001B[38;5;241m.\u001B[39mdraw()\n\u001B[1;32m    495\u001B[0m \u001B[38;5;28;01mreturn\u001B[39;00m ax\n",
      "File \u001B[0;32m~/.local/lib/python3.10/site-packages/geopandas/plotting.py:297\u001B[0m, in \u001B[0;36m_plot_point_collection\u001B[0;34m(ax, geoms, values, color, cmap, vmin, vmax, marker, markersize, **kwargs)\u001B[0m\n\u001B[1;32m    294\u001B[0m geoms, multiindex \u001B[38;5;241m=\u001B[39m _sanitize_geoms(geoms)\n\u001B[1;32m    295\u001B[0m \u001B[38;5;66;03m# values are expanded below as kwargs[\"c\"]\u001B[39;00m\n\u001B[0;32m--> 297\u001B[0m x \u001B[38;5;241m=\u001B[39m [p\u001B[38;5;241m.\u001B[39mx \u001B[38;5;28;01mif\u001B[39;00m \u001B[38;5;129;01mnot\u001B[39;00m p\u001B[38;5;241m.\u001B[39mis_empty \u001B[38;5;28;01melse\u001B[39;00m \u001B[38;5;28;01mNone\u001B[39;00m \u001B[38;5;28;01mfor\u001B[39;00m p \u001B[38;5;129;01min\u001B[39;00m geoms]\n\u001B[1;32m    298\u001B[0m y \u001B[38;5;241m=\u001B[39m [p\u001B[38;5;241m.\u001B[39my \u001B[38;5;28;01mif\u001B[39;00m \u001B[38;5;129;01mnot\u001B[39;00m p\u001B[38;5;241m.\u001B[39mis_empty \u001B[38;5;28;01melse\u001B[39;00m \u001B[38;5;28;01mNone\u001B[39;00m \u001B[38;5;28;01mfor\u001B[39;00m p \u001B[38;5;129;01min\u001B[39;00m geoms]\n\u001B[1;32m    300\u001B[0m \u001B[38;5;66;03m# matplotlib 1.4 does not support c=None, and < 2.0 does not support s=None\u001B[39;00m\n",
      "File \u001B[0;32m~/.local/lib/python3.10/site-packages/geopandas/plotting.py:297\u001B[0m, in \u001B[0;36m<listcomp>\u001B[0;34m(.0)\u001B[0m\n\u001B[1;32m    294\u001B[0m geoms, multiindex \u001B[38;5;241m=\u001B[39m _sanitize_geoms(geoms)\n\u001B[1;32m    295\u001B[0m \u001B[38;5;66;03m# values are expanded below as kwargs[\"c\"]\u001B[39;00m\n\u001B[0;32m--> 297\u001B[0m x \u001B[38;5;241m=\u001B[39m [\u001B[43mp\u001B[49m\u001B[38;5;241;43m.\u001B[39;49m\u001B[43mx\u001B[49m \u001B[38;5;28;01mif\u001B[39;00m \u001B[38;5;129;01mnot\u001B[39;00m p\u001B[38;5;241m.\u001B[39mis_empty \u001B[38;5;28;01melse\u001B[39;00m \u001B[38;5;28;01mNone\u001B[39;00m \u001B[38;5;28;01mfor\u001B[39;00m p \u001B[38;5;129;01min\u001B[39;00m geoms]\n\u001B[1;32m    298\u001B[0m y \u001B[38;5;241m=\u001B[39m [p\u001B[38;5;241m.\u001B[39my \u001B[38;5;28;01mif\u001B[39;00m \u001B[38;5;129;01mnot\u001B[39;00m p\u001B[38;5;241m.\u001B[39mis_empty \u001B[38;5;28;01melse\u001B[39;00m \u001B[38;5;28;01mNone\u001B[39;00m \u001B[38;5;28;01mfor\u001B[39;00m p \u001B[38;5;129;01min\u001B[39;00m geoms]\n\u001B[1;32m    300\u001B[0m \u001B[38;5;66;03m# matplotlib 1.4 does not support c=None, and < 2.0 does not support s=None\u001B[39;00m\n",
      "File \u001B[0;32m~/.local/lib/python3.10/site-packages/shapely/geometry/point.py:88\u001B[0m, in \u001B[0;36mPoint.x\u001B[0;34m(self)\u001B[0m\n\u001B[1;32m     85\u001B[0m \u001B[38;5;129m@property\u001B[39m\n\u001B[1;32m     86\u001B[0m \u001B[38;5;28;01mdef\u001B[39;00m \u001B[38;5;21mx\u001B[39m(\u001B[38;5;28mself\u001B[39m):\n\u001B[1;32m     87\u001B[0m \u001B[38;5;250m    \u001B[39m\u001B[38;5;124;03m\"\"\"Return x coordinate.\"\"\"\u001B[39;00m\n\u001B[0;32m---> 88\u001B[0m     \u001B[38;5;28;01mreturn\u001B[39;00m \u001B[43mshapely\u001B[49m\u001B[38;5;241;43m.\u001B[39;49m\u001B[43mget_x\u001B[49m\u001B[43m(\u001B[49m\u001B[38;5;28;43mself\u001B[39;49m\u001B[43m)\u001B[49m\n",
      "File \u001B[0;32m~/.local/lib/python3.10/site-packages/shapely/decorators.py:77\u001B[0m, in \u001B[0;36mmultithreading_enabled.<locals>.wrapped\u001B[0;34m(*args, **kwargs)\u001B[0m\n\u001B[1;32m     75\u001B[0m     \u001B[38;5;28;01mfor\u001B[39;00m arr \u001B[38;5;129;01min\u001B[39;00m array_args:\n\u001B[1;32m     76\u001B[0m         arr\u001B[38;5;241m.\u001B[39mflags\u001B[38;5;241m.\u001B[39mwriteable \u001B[38;5;241m=\u001B[39m \u001B[38;5;28;01mFalse\u001B[39;00m\n\u001B[0;32m---> 77\u001B[0m     \u001B[38;5;28;01mreturn\u001B[39;00m \u001B[43mfunc\u001B[49m\u001B[43m(\u001B[49m\u001B[38;5;241;43m*\u001B[39;49m\u001B[43margs\u001B[49m\u001B[43m,\u001B[49m\u001B[43m \u001B[49m\u001B[38;5;241;43m*\u001B[39;49m\u001B[38;5;241;43m*\u001B[39;49m\u001B[43mkwargs\u001B[49m\u001B[43m)\u001B[49m\n\u001B[1;32m     78\u001B[0m \u001B[38;5;28;01mfinally\u001B[39;00m:\n\u001B[1;32m     79\u001B[0m     \u001B[38;5;28;01mfor\u001B[39;00m arr, old_flag \u001B[38;5;129;01min\u001B[39;00m \u001B[38;5;28mzip\u001B[39m(array_args, old_flags):\n",
      "File \u001B[0;32m~/.local/lib/python3.10/site-packages/shapely/_geometry.py:264\u001B[0m, in \u001B[0;36mget_x\u001B[0;34m(point, **kwargs)\u001B[0m\n\u001B[1;32m    241\u001B[0m \u001B[38;5;129m@multithreading_enabled\u001B[39m\n\u001B[1;32m    242\u001B[0m \u001B[38;5;28;01mdef\u001B[39;00m \u001B[38;5;21mget_x\u001B[39m(point, \u001B[38;5;241m*\u001B[39m\u001B[38;5;241m*\u001B[39mkwargs):\n\u001B[1;32m    243\u001B[0m \u001B[38;5;250m    \u001B[39m\u001B[38;5;124;03m\"\"\"Returns the x-coordinate of a point\u001B[39;00m\n\u001B[1;32m    244\u001B[0m \n\u001B[1;32m    245\u001B[0m \u001B[38;5;124;03m    Parameters\u001B[39;00m\n\u001B[0;32m   (...)\u001B[0m\n\u001B[1;32m    262\u001B[0m \u001B[38;5;124;03m    nan\u001B[39;00m\n\u001B[1;32m    263\u001B[0m \u001B[38;5;124;03m    \"\"\"\u001B[39;00m\n\u001B[0;32m--> 264\u001B[0m     \u001B[38;5;28;01mreturn\u001B[39;00m \u001B[43mlib\u001B[49m\u001B[38;5;241;43m.\u001B[39;49m\u001B[43mget_x\u001B[49m\u001B[43m(\u001B[49m\u001B[43mpoint\u001B[49m\u001B[43m,\u001B[49m\u001B[43m \u001B[49m\u001B[38;5;241;43m*\u001B[39;49m\u001B[38;5;241;43m*\u001B[39;49m\u001B[43mkwargs\u001B[49m\u001B[43m)\u001B[49m\n",
      "\u001B[0;31mKeyboardInterrupt\u001B[0m: "
     ]
    },
    {
     "data": {
      "text/plain": "<Figure size 640x480 with 1 Axes>",
      "image/png": "[encoded data removed]"
     },
     "metadata": {},
     "output_type": "display_data"
    }
   ],
   "source": [],
   "metadata": {
    "collapsed": false,
    "ExecuteTime": {
     "end_time": "2024-02-16T19:43:01.772901923Z",
     "start_time": "2024-02-16T19:42:35.059137731Z"
    }
   },
   "execution_count": 13
  },
  {
   "cell_type": "code",
   "outputs": [],
   "source": [],
   "metadata": {
    "collapsed": false,
    "ExecuteTime": {
     "start_time": "2024-02-16T19:43:01.768777518Z"
    }
   }
  },
  {
   "cell_type": "code",
   "outputs": [],
   "source": [],
   "metadata": {
    "collapsed": false
   }
  }
 ],
 "metadata": {
  "kernelspec": {
   "display_name": "Python 3 (ipykernel)",
   "language": "python",
   "name": "python3"
  },
  "language_info": {
   "codemirror_mode": {
    "name": "ipython",
    "version": 3
   },
   "file_extension": ".py",
   "mimetype": "text/x-python",
   "name": "python",
   "nbconvert_exporter": "python",
   "pygments_lexer": "ipython3",
   "version": "3.12.1"
  }
 },
 "nbformat": 4,
 "nbformat_minor": 4
}

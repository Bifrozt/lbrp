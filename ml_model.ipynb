{
 "cells": [
  {
   "cell_type": "code",
   "execution_count": 1,
   "metadata": {
    "ExecuteTime": {
     "end_time": "2024-02-23T18:22:03.576336944Z",
     "start_time": "2024-02-23T18:22:02.917631686Z"
    }
   },
   "outputs": [],
   "source": [
    "import pandas as pd\n",
    "import geopandas as gpd\n",
    "import zipfile\n",
    "from pyraptor import query_mcraptor\n",
    "\n",
    "import sys\n",
    "import geodatasets as gds\n",
    "import matplotlib.pyplot as plt\n",
    "from shapely.geometry import LineString\n",
    "import io\n",
    "import glob\n",
    "import os"
   ]
  },
  {
   "cell_type": "code",
   "outputs": [],
   "source": [
    "# r = requests.get('https://opendata.samtrafiken.se/gtfs/{sl}/{sl_latest}.zip?key={Youte-Api-Key}')\n",
    "#\"https://opendata.samtrafiken.se/gtfs/{sl}/{sl_latest}.zip\")\n",
    "    \n",
    "agency_df = pd.read_csv(open(\"gtfs/sl/agency.txt\"))\n",
    "shapes_df = pd.read_csv(open(\"gtfs/sl/shapes.txt\"))\n",
    "feed_info_df = pd.read_csv(open(\"gtfs/sl/feed_info.txt\"))\n",
    "routes_df = pd.read_csv(open(\"gtfs/sl/routes.txt\"))\n",
    "trips_df = pd.read_csv(open(\"gtfs/sl/trips.txt\"))\n",
    "stop_times_df = pd.read_csv(open(\"gtfs/sl/stop_times.txt\"))\n",
    "attributions_df = pd.read_csv(open(\"gtfs/sl/attributions.txt\"))\n",
    "calendar_df = pd.read_csv(open(\"gtfs/sl/calendar.txt\"))\n",
    "calendar_dates_df = pd.read_csv(open(\"gtfs/sl/calendar_dates.txt\"))"
   ],
   "metadata": {
    "collapsed": false,
    "ExecuteTime": {
     "end_time": "2024-02-29T19:10:33.171448525Z",
     "start_time": "2024-02-29T19:10:30.137724593Z"
    }
   },
   "execution_count": 18
  },
  {
   "cell_type": "code",
   "outputs": [
    {
     "ename": "TypeError",
     "evalue": "'module' object is not callable",
     "output_type": "error",
     "traceback": [
      "\u001B[0;31m---------------------------------------------------------------------------\u001B[0m",
      "\u001B[0;31mTypeError\u001B[0m                                 Traceback (most recent call last)",
      "Cell \u001B[0;32mIn[21], line 2\u001B[0m\n\u001B[1;32m      1\u001B[0m agency_df\u001B[38;5;241m.\u001B[39mhead()\n\u001B[0;32m----> 2\u001B[0m \u001B[43mquery_mcraptor\u001B[49m\u001B[43m(\u001B[49m\u001B[43magency_df\u001B[49m\u001B[43m)\u001B[49m\n",
      "\u001B[0;31mTypeError\u001B[0m: 'module' object is not callable"
     ]
    }
   ],
   "source": [
    "agency_df.head()\n",
    "query_mcraptor(agency_df)"
   ],
   "metadata": {
    "collapsed": false,
    "ExecuteTime": {
     "end_time": "2024-02-29T19:13:46.930225057Z",
     "start_time": "2024-02-29T19:13:46.877218705Z"
    }
   },
   "execution_count": 21
  },
  {
   "cell_type": "code",
   "outputs": [
    {
     "name": "stdout",
     "output_type": "stream",
     "text": [
      "           agency_id                    agency_name                agency_url  \\\n",
      "0  14010000000001917           Upplands lokaltrafik  https://www.resrobot.se/   \n",
      "1  14010000000001983      Kommuner i Stockholms Län  https://www.resrobot.se/   \n",
      "2  14010000000001939          Länstrafiken Sörmland  https://www.resrobot.se/   \n",
      "3  14010000000002005              Färdtjänstnämnden  https://www.resrobot.se/   \n",
      "4  14010000000002071  Waxholmsbolaget Ångfartygs AB  https://www.resrobot.se/   \n",
      "\n",
      "    agency_timezone agency_lang agency_fare_url  \n",
      "0  Europe/Stockholm          sv             NaN  \n",
      "1  Europe/Stockholm          sv             NaN  \n",
      "2  Europe/Stockholm          sv             NaN  \n",
      "3  Europe/Stockholm          sv             NaN  \n",
      "4  Europe/Stockholm          sv             NaN  \n"
     ]
    }
   ],
   "source": [
    "agency_gdf = gpd.GeoDataFrame(agency_df.head())\n",
    "print(agency_gdf)"
   ],
   "metadata": {
    "collapsed": false,
    "ExecuteTime": {
     "end_time": "2024-02-21T17:46:29.235973691Z",
     "start_time": "2024-02-21T17:46:29.233863393Z"
    }
   },
   "execution_count": 49
  },
  {
   "cell_type": "code",
   "outputs": [
    {
     "data": {
      "text/plain": "             trip_id arrival_time departure_time           stop_id  \\\n0  14010000635912911     05:53:00       05:53:00  9022001010028003   \n1  14010000635912911     05:53:56       05:53:56  9022001010052003   \n2  14010000635912911     05:54:23       05:54:23  9022001010054002   \n3  14010000635912911     05:54:57       05:54:57  9022001010056002   \n4  14010000635912911     05:55:45       05:55:45  9022001010058002   \n\n   stop_sequence   stop_headsign  pickup_type  drop_off_type  \\\n0              1  Stora Essingen            3              1   \n1              2  Stora Essingen            3              3   \n2              3  Stora Essingen            3              3   \n3              4  Stora Essingen            3              3   \n4              5  Stora Essingen            3              3   \n\n   shape_dist_traveled  timepoint  \n0                 0.00          1  \n1               398.26          0  \n2               570.67          0  \n3               808.54          0  \n4              1107.90          0  ",
      "text/html": "<div>\n<style scoped>\n    .dataframe tbody tr th:only-of-type {\n        vertical-align: middle;\n    }\n\n    .dataframe tbody tr th {\n        vertical-align: top;\n    }\n\n    .dataframe thead th {\n        text-align: right;\n    }\n</style>\n<table border=\"1\" class=\"dataframe\">\n  <thead>\n    <tr style=\"text-align: right;\">\n      <th></th>\n      <th>trip_id</th>\n      <th>arrival_time</th>\n      <th>departure_time</th>\n      <th>stop_id</th>\n      <th>stop_sequence</th>\n      <th>stop_headsign</th>\n      <th>pickup_type</th>\n      <th>drop_off_type</th>\n      <th>shape_dist_traveled</th>\n      <th>timepoint</th>\n    </tr>\n  </thead>\n  <tbody>\n    <tr>\n      <th>0</th>\n      <td>14010000635912911</td>\n      <td>05:53:00</td>\n      <td>05:53:00</td>\n      <td>9022001010028003</td>\n      <td>1</td>\n      <td>Stora Essingen</td>\n      <td>3</td>\n      <td>1</td>\n      <td>0.00</td>\n      <td>1</td>\n    </tr>\n    <tr>\n      <th>1</th>\n      <td>14010000635912911</td>\n      <td>05:53:56</td>\n      <td>05:53:56</td>\n      <td>9022001010052003</td>\n      <td>2</td>\n      <td>Stora Essingen</td>\n      <td>3</td>\n      <td>3</td>\n      <td>398.26</td>\n      <td>0</td>\n    </tr>\n    <tr>\n      <th>2</th>\n      <td>14010000635912911</td>\n      <td>05:54:23</td>\n      <td>05:54:23</td>\n      <td>9022001010054002</td>\n      <td>3</td>\n      <td>Stora Essingen</td>\n      <td>3</td>\n      <td>3</td>\n      <td>570.67</td>\n      <td>0</td>\n    </tr>\n    <tr>\n      <th>3</th>\n      <td>14010000635912911</td>\n      <td>05:54:57</td>\n      <td>05:54:57</td>\n      <td>9022001010056002</td>\n      <td>4</td>\n      <td>Stora Essingen</td>\n      <td>3</td>\n      <td>3</td>\n      <td>808.54</td>\n      <td>0</td>\n    </tr>\n    <tr>\n      <th>4</th>\n      <td>14010000635912911</td>\n      <td>05:55:45</td>\n      <td>05:55:45</td>\n      <td>9022001010058002</td>\n      <td>5</td>\n      <td>Stora Essingen</td>\n      <td>3</td>\n      <td>3</td>\n      <td>1107.90</td>\n      <td>0</td>\n    </tr>\n  </tbody>\n</table>\n</div>"
     },
     "execution_count": 50,
     "metadata": {},
     "output_type": "execute_result"
    }
   ],
   "source": [
    "stop_times_df.head()"
   ],
   "metadata": {
    "collapsed": false,
    "ExecuteTime": {
     "end_time": "2024-02-21T17:46:29.237215285Z",
     "start_time": "2024-02-21T17:46:29.233965084Z"
    }
   },
   "execution_count": 50
  },
  {
   "cell_type": "code",
   "outputs": [
    {
     "name": "stdout",
     "output_type": "stream",
     "text": [
      "             trip_id arrival_time departure_time           stop_id  \\\n",
      "0  14010000635912911     05:53:00       05:53:00  9022001010028003   \n",
      "1  14010000635912911     05:53:56       05:53:56  9022001010052003   \n",
      "2  14010000635912911     05:54:23       05:54:23  9022001010054002   \n",
      "3  14010000635912911     05:54:57       05:54:57  9022001010056002   \n",
      "4  14010000635912911     05:55:45       05:55:45  9022001010058002   \n",
      "\n",
      "   stop_sequence   stop_headsign  pickup_type  drop_off_type  \\\n",
      "0              1  Stora Essingen            3              1   \n",
      "1              2  Stora Essingen            3              3   \n",
      "2              3  Stora Essingen            3              3   \n",
      "3              4  Stora Essingen            3              3   \n",
      "4              5  Stora Essingen            3              3   \n",
      "\n",
      "   shape_dist_traveled  timepoint  \n",
      "0                 0.00          1  \n",
      "1               398.26          0  \n",
      "2               570.67          0  \n",
      "3               808.54          0  \n",
      "4              1107.90          0  \n"
     ]
    }
   ],
   "source": [
    "stop_times_gdf = gpd.GeoDataFrame(stop_times_df.head())\n",
    "print(stop_times_gdf)"
   ],
   "metadata": {
    "collapsed": false,
    "ExecuteTime": {
     "end_time": "2024-02-21T17:46:29.237917414Z",
     "start_time": "2024-02-21T17:46:29.234145278Z"
    }
   },
   "execution_count": 51
  },
  {
   "cell_type": "code",
   "outputs": [
    {
     "data": {
      "text/plain": "           route_id  service_id            trip_id  trip_headsign  \\\n0  9011001000100000           1  14010000635912911            NaN   \n1  9011001000100000           1  14010000635913205            NaN   \n2  9011001000100000           1  14010000635913522            NaN   \n3  9011001000100000           1  14010000635913770            NaN   \n4  9011001000100000           2  14010000635914062            NaN   \n\n   direction_id             shape_id  \n0             1  1014010000482329256  \n1             1  1014010000482329256  \n2             1  1014010000482329256  \n3             1  1014010000482329256  \n4             1  1014010000482329256  ",
      "text/html": "<div>\n<style scoped>\n    .dataframe tbody tr th:only-of-type {\n        vertical-align: middle;\n    }\n\n    .dataframe tbody tr th {\n        vertical-align: top;\n    }\n\n    .dataframe thead th {\n        text-align: right;\n    }\n</style>\n<table border=\"1\" class=\"dataframe\">\n  <thead>\n    <tr style=\"text-align: right;\">\n      <th></th>\n      <th>route_id</th>\n      <th>service_id</th>\n      <th>trip_id</th>\n      <th>trip_headsign</th>\n      <th>direction_id</th>\n      <th>shape_id</th>\n    </tr>\n  </thead>\n  <tbody>\n    <tr>\n      <th>0</th>\n      <td>9011001000100000</td>\n      <td>1</td>\n      <td>14010000635912911</td>\n      <td>NaN</td>\n      <td>1</td>\n      <td>1014010000482329256</td>\n    </tr>\n    <tr>\n      <th>1</th>\n      <td>9011001000100000</td>\n      <td>1</td>\n      <td>14010000635913205</td>\n      <td>NaN</td>\n      <td>1</td>\n      <td>1014010000482329256</td>\n    </tr>\n    <tr>\n      <th>2</th>\n      <td>9011001000100000</td>\n      <td>1</td>\n      <td>14010000635913522</td>\n      <td>NaN</td>\n      <td>1</td>\n      <td>1014010000482329256</td>\n    </tr>\n    <tr>\n      <th>3</th>\n      <td>9011001000100000</td>\n      <td>1</td>\n      <td>14010000635913770</td>\n      <td>NaN</td>\n      <td>1</td>\n      <td>1014010000482329256</td>\n    </tr>\n    <tr>\n      <th>4</th>\n      <td>9011001000100000</td>\n      <td>2</td>\n      <td>14010000635914062</td>\n      <td>NaN</td>\n      <td>1</td>\n      <td>1014010000482329256</td>\n    </tr>\n  </tbody>\n</table>\n</div>"
     },
     "execution_count": 52,
     "metadata": {},
     "output_type": "execute_result"
    }
   ],
   "source": [
    "trips_df.head()"
   ],
   "metadata": {
    "collapsed": false,
    "ExecuteTime": {
     "end_time": "2024-02-21T17:46:29.239430905Z",
     "start_time": "2024-02-21T17:46:29.234236912Z"
    }
   },
   "execution_count": 52
  },
  {
   "cell_type": "code",
   "outputs": [
    {
     "name": "stdout",
     "output_type": "stream",
     "text": [
      "           route_id  service_id            trip_id  trip_headsign  \\\n",
      "0  9011001000100000           1  14010000635912911            NaN   \n",
      "1  9011001000100000           1  14010000635913205            NaN   \n",
      "2  9011001000100000           1  14010000635913522            NaN   \n",
      "3  9011001000100000           1  14010000635913770            NaN   \n",
      "4  9011001000100000           2  14010000635914062            NaN   \n",
      "\n",
      "   direction_id             shape_id  \n",
      "0             1  1014010000482329256  \n",
      "1             1  1014010000482329256  \n",
      "2             1  1014010000482329256  \n",
      "3             1  1014010000482329256  \n",
      "4             1  1014010000482329256  \n"
     ]
    }
   ],
   "source": [
    "trips_gdf = gpd.GeoDataFrame(trips_df.head())\n",
    "print(trips_gdf)"
   ],
   "metadata": {
    "collapsed": false,
    "ExecuteTime": {
     "end_time": "2024-02-21T17:46:29.348825759Z",
     "start_time": "2024-02-21T17:46:29.238867694Z"
    }
   },
   "execution_count": 53
  },
  {
   "cell_type": "code",
   "outputs": [
    {
     "data": {
      "text/plain": "           route_id          agency_id route_short_name route_long_name  \\\n0  9011001000100000  14010000000001001                1             NaN   \n1  9011001000200000  14010000000001001                2             NaN   \n2  9011001000300000  14010000000001001                3             NaN   \n3  9011001000400000  14010000000001001                4             NaN   \n4  9011001001000000  14010000000001001               10      Blå linjen   \n\n   route_type              route_desc  \n0         700                 blåbuss  \n1         700                 blåbuss  \n2         700                 blåbuss  \n3         700                 blåbuss  \n4         401  tunnelbanans blå linje  ",
      "text/html": "<div>\n<style scoped>\n    .dataframe tbody tr th:only-of-type {\n        vertical-align: middle;\n    }\n\n    .dataframe tbody tr th {\n        vertical-align: top;\n    }\n\n    .dataframe thead th {\n        text-align: right;\n    }\n</style>\n<table border=\"1\" class=\"dataframe\">\n  <thead>\n    <tr style=\"text-align: right;\">\n      <th></th>\n      <th>route_id</th>\n      <th>agency_id</th>\n      <th>route_short_name</th>\n      <th>route_long_name</th>\n      <th>route_type</th>\n      <th>route_desc</th>\n    </tr>\n  </thead>\n  <tbody>\n    <tr>\n      <th>0</th>\n      <td>9011001000100000</td>\n      <td>14010000000001001</td>\n      <td>1</td>\n      <td>NaN</td>\n      <td>700</td>\n      <td>blåbuss</td>\n    </tr>\n    <tr>\n      <th>1</th>\n      <td>9011001000200000</td>\n      <td>14010000000001001</td>\n      <td>2</td>\n      <td>NaN</td>\n      <td>700</td>\n      <td>blåbuss</td>\n    </tr>\n    <tr>\n      <th>2</th>\n      <td>9011001000300000</td>\n      <td>14010000000001001</td>\n      <td>3</td>\n      <td>NaN</td>\n      <td>700</td>\n      <td>blåbuss</td>\n    </tr>\n    <tr>\n      <th>3</th>\n      <td>9011001000400000</td>\n      <td>14010000000001001</td>\n      <td>4</td>\n      <td>NaN</td>\n      <td>700</td>\n      <td>blåbuss</td>\n    </tr>\n    <tr>\n      <th>4</th>\n      <td>9011001001000000</td>\n      <td>14010000000001001</td>\n      <td>10</td>\n      <td>Blå linjen</td>\n      <td>401</td>\n      <td>tunnelbanans blå linje</td>\n    </tr>\n  </tbody>\n</table>\n</div>"
     },
     "execution_count": 54,
     "metadata": {},
     "output_type": "execute_result"
    }
   ],
   "source": [
    "routes_df.head()"
   ],
   "metadata": {
    "collapsed": false,
    "ExecuteTime": {
     "end_time": "2024-02-21T17:46:29.349814871Z",
     "start_time": "2024-02-21T17:46:29.281641258Z"
    }
   },
   "execution_count": 54
  },
  {
   "cell_type": "code",
   "outputs": [
    {
     "name": "stdout",
     "output_type": "stream",
     "text": [
      "           route_id          agency_id route_short_name route_long_name  \\\n",
      "0  9011001000100000  14010000000001001                1             NaN   \n",
      "1  9011001000200000  14010000000001001                2             NaN   \n",
      "2  9011001000300000  14010000000001001                3             NaN   \n",
      "3  9011001000400000  14010000000001001                4             NaN   \n",
      "4  9011001001000000  14010000000001001               10      Blå linjen   \n",
      "\n",
      "   route_type              route_desc  \n",
      "0         700                 blåbuss  \n",
      "1         700                 blåbuss  \n",
      "2         700                 blåbuss  \n",
      "3         700                 blåbuss  \n",
      "4         401  tunnelbanans blå linje  \n"
     ]
    }
   ],
   "source": [
    "routes_gdf = gpd.GeoDataFrame(routes_df.head())\n",
    "print(routes_gdf)"
   ],
   "metadata": {
    "collapsed": false,
    "ExecuteTime": {
     "end_time": "2024-02-21T17:46:29.350425646Z",
     "start_time": "2024-02-21T17:46:29.281806436Z"
    }
   },
   "execution_count": 55
  },
  {
   "cell_type": "code",
   "execution_count": 56,
   "metadata": {
    "ExecuteTime": {
     "end_time": "2024-02-21T17:46:29.351124771Z",
     "start_time": "2024-02-21T17:46:29.281896044Z"
    }
   },
   "outputs": [
    {
     "data": {
      "text/plain": "              shape_id  shape_pt_lat  shape_pt_lon  shape_pt_sequence  \\\n0  1014010000482329256     59.341873     18.118316                  1   \n1  1014010000482329256     59.341854     18.118403                  2   \n2  1014010000482329256     59.341754     18.118334                  3   \n3  1014010000482329256     59.341260     18.118048                  4   \n4  1014010000482329256     59.340930     18.116765                  5   \n\n   shape_dist_traveled  \n0                 0.00  \n1                 0.00  \n2                11.74  \n3                69.17  \n4               150.88  ",
      "text/html": "<div>\n<style scoped>\n    .dataframe tbody tr th:only-of-type {\n        vertical-align: middle;\n    }\n\n    .dataframe tbody tr th {\n        vertical-align: top;\n    }\n\n    .dataframe thead th {\n        text-align: right;\n    }\n</style>\n<table border=\"1\" class=\"dataframe\">\n  <thead>\n    <tr style=\"text-align: right;\">\n      <th></th>\n      <th>shape_id</th>\n      <th>shape_pt_lat</th>\n      <th>shape_pt_lon</th>\n      <th>shape_pt_sequence</th>\n      <th>shape_dist_traveled</th>\n    </tr>\n  </thead>\n  <tbody>\n    <tr>\n      <th>0</th>\n      <td>1014010000482329256</td>\n      <td>59.341873</td>\n      <td>18.118316</td>\n      <td>1</td>\n      <td>0.00</td>\n    </tr>\n    <tr>\n      <th>1</th>\n      <td>1014010000482329256</td>\n      <td>59.341854</td>\n      <td>18.118403</td>\n      <td>2</td>\n      <td>0.00</td>\n    </tr>\n    <tr>\n      <th>2</th>\n      <td>1014010000482329256</td>\n      <td>59.341754</td>\n      <td>18.118334</td>\n      <td>3</td>\n      <td>11.74</td>\n    </tr>\n    <tr>\n      <th>3</th>\n      <td>1014010000482329256</td>\n      <td>59.341260</td>\n      <td>18.118048</td>\n      <td>4</td>\n      <td>69.17</td>\n    </tr>\n    <tr>\n      <th>4</th>\n      <td>1014010000482329256</td>\n      <td>59.340930</td>\n      <td>18.116765</td>\n      <td>5</td>\n      <td>150.88</td>\n    </tr>\n  </tbody>\n</table>\n</div>"
     },
     "execution_count": 56,
     "metadata": {},
     "output_type": "execute_result"
    }
   ],
   "source": [
    "shapes_df.head()"
   ]
  },
  {
   "cell_type": "code",
   "outputs": [
    {
     "name": "stdout",
     "output_type": "stream",
     "text": [
      "              shape_id  shape_pt_lat  shape_pt_lon  shape_pt_sequence  \\\n",
      "0  1014010000482329256     59.341873     18.118316                  1   \n",
      "1  1014010000482329256     59.341854     18.118403                  2   \n",
      "2  1014010000482329256     59.341754     18.118334                  3   \n",
      "3  1014010000482329256     59.341260     18.118048                  4   \n",
      "4  1014010000482329256     59.340930     18.116765                  5   \n",
      "\n",
      "   shape_dist_traveled  \n",
      "0                 0.00  \n",
      "1                 0.00  \n",
      "2                11.74  \n",
      "3                69.17  \n",
      "4               150.88  \n"
     ]
    }
   ],
   "source": [
    "shapes_gdf = gpd.GeoDataFrame(shapes_df.head())\n",
    "print(shapes_gdf)"
   ],
   "metadata": {
    "collapsed": false,
    "ExecuteTime": {
     "end_time": "2024-02-21T17:46:29.351630014Z",
     "start_time": "2024-02-21T17:46:29.282076378Z"
    }
   },
   "execution_count": 57
  },
  {
   "cell_type": "code",
   "outputs": [
    {
     "data": {
      "text/plain": "  feed_id       feed_publisher_name          feed_publisher_url feed_lang  \\\n0   SE-sl  Samtrafiken i Sverige AB  https://www.samtrafiken.se        sv   \n\n  feed_version  \n0   2024-02-15  ",
      "text/html": "<div>\n<style scoped>\n    .dataframe tbody tr th:only-of-type {\n        vertical-align: middle;\n    }\n\n    .dataframe tbody tr th {\n        vertical-align: top;\n    }\n\n    .dataframe thead th {\n        text-align: right;\n    }\n</style>\n<table border=\"1\" class=\"dataframe\">\n  <thead>\n    <tr style=\"text-align: right;\">\n      <th></th>\n      <th>feed_id</th>\n      <th>feed_publisher_name</th>\n      <th>feed_publisher_url</th>\n      <th>feed_lang</th>\n      <th>feed_version</th>\n    </tr>\n  </thead>\n  <tbody>\n    <tr>\n      <th>0</th>\n      <td>SE-sl</td>\n      <td>Samtrafiken i Sverige AB</td>\n      <td>https://www.samtrafiken.se</td>\n      <td>sv</td>\n      <td>2024-02-15</td>\n    </tr>\n  </tbody>\n</table>\n</div>"
     },
     "execution_count": 58,
     "metadata": {},
     "output_type": "execute_result"
    }
   ],
   "source": [
    "feed_info_df.head()"
   ],
   "metadata": {
    "collapsed": false,
    "ExecuteTime": {
     "end_time": "2024-02-21T17:46:29.352226540Z",
     "start_time": "2024-02-21T17:46:29.282162703Z"
    }
   },
   "execution_count": 58
  },
  {
   "cell_type": "code",
   "outputs": [
    {
     "name": "stdout",
     "output_type": "stream",
     "text": [
      "  feed_id       feed_publisher_name          feed_publisher_url feed_lang  \\\n",
      "0   SE-sl  Samtrafiken i Sverige AB  https://www.samtrafiken.se        sv   \n",
      "\n",
      "  feed_version  \n",
      "0   2024-02-15  \n"
     ]
    }
   ],
   "source": [
    "feed_info_gdf = gpd.GeoDataFrame(feed_info_df.head())\n",
    "print(feed_info_gdf)"
   ],
   "metadata": {
    "collapsed": false,
    "ExecuteTime": {
     "end_time": "2024-02-21T17:46:29.352806375Z",
     "start_time": "2024-02-21T17:46:29.282240299Z"
    }
   },
   "execution_count": 59
  },
  {
   "cell_type": "code",
   "outputs": [],
   "source": [],
   "metadata": {
    "collapsed": false
   }
  }
 ],
 "metadata": {
  "kernelspec": {
   "display_name": "Python 3 (ipykernel)",
   "language": "python",
   "name": "python3"
  },
  "language_info": {
   "codemirror_mode": {
    "name": "ipython",
    "version": 3
   },
   "file_extension": ".py",
   "mimetype": "text/x-python",
   "name": "python",
   "nbconvert_exporter": "python",
   "pygments_lexer": "ipython3",
   "version": "3.12.1"
  }
 },
 "nbformat": 4,
 "nbformat_minor": 4
}

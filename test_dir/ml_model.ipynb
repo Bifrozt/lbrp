{
 "cells": [
  {
   "cell_type": "code",
   "execution_count": 189,
   "metadata": {
    "ExecuteTime": {
     "end_time": "2024-04-15T12:07:21.671370Z",
     "start_time": "2024-04-15T12:07:21.666845Z"
    }
   },
   "outputs": [],
   "source": [
    "import math\n",
    "import pandas as pd\n",
    "import copy\n",
    "import matplotlib.pyplot as plt\n",
    "from prettytable import PrettyTable\n",
    "from prettytable import MARKDOWN\n",
    "from numpy.random import normal\n",
    "import numpy as np\n",
    "import matplotlib"
   ]
  },
  {
   "cell_type": "code",
   "outputs": [],
   "source": [
    "file = \"user1.txt\"\n",
    "df = pd.read_csv(file, sep=',')\n",
    "\n"
   ],
   "metadata": {
    "collapsed": false,
    "ExecuteTime": {
     "end_time": "2024-04-15T12:07:21.700885Z",
     "start_time": "2024-04-15T12:07:21.696958Z"
    }
   },
   "execution_count": 190
  },
  {
   "cell_type": "markdown",
   "source": [],
   "metadata": {
    "collapsed": false
   }
  },
  {
   "cell_type": "code",
   "outputs": [
    {
     "data": {
      "text/plain": "    Unnamed: 0        lat        lng                   datetime  elevation  \\\n0            0  59.316655  18.050860  2024-03-31 00:00:37+00:00       21.0   \n1            1  59.316546  18.050918  2024-03-31 00:00:42+00:00       21.0   \n2            2  59.316422  18.050833  2024-03-31 00:00:47+00:00       21.0   \n3            3  59.316269  18.050892  2024-03-31 00:00:54+00:00       21.0   \n4            4  59.316202  18.050867  2024-03-31 00:00:56+00:00       21.0   \n5            5  59.315165  18.051376  2024-03-31 00:01:39+00:00       19.0   \n6            6  59.315091  18.051467  2024-03-31 00:01:43+00:00       19.0   \n7            7  59.314918  18.051618  2024-03-31 00:01:50+00:00       19.0   \n8            8  59.314849  18.051655  2024-03-31 00:01:53+00:00       18.0   \n9            9  59.314849  18.051655  2024-03-31 00:01:53+00:00       18.0   \n10          10  59.314918  18.051618  2024-03-31 00:01:56+00:00       19.0   \n11          11  59.314751  18.050461  2024-03-31 00:02:21+00:00       17.0   \n12          12  59.314645  18.049544  2024-03-31 00:02:40+00:00       19.0   \n13          13  59.314562  18.047639  2024-03-31 00:03:19+00:00       16.0   \n14          14  59.314581  18.045036  2024-03-31 00:04:12+00:00       16.0   \n15          15  59.314493  18.044287  2024-03-31 00:04:28+00:00       15.0   \n16          16  59.314512  18.044145  2024-03-31 00:04:31+00:00       15.0   \n17          17  59.314450  18.044056  2024-03-31 00:04:34+00:00       16.0   \n18          18  59.313926  18.039625  2024-03-31 00:06:07+00:00       11.0   \n19          19  59.313742  18.038573  2024-03-31 00:06:30+00:00        8.0   \n20          20  59.313576  18.037165  2024-03-31 00:06:59+00:00        4.0   \n21          21  59.313428  18.035947  2024-03-31 00:07:25+00:00        2.0   \n22          22  59.313380  18.035853  2024-03-31 00:07:28+00:00        2.0   \n23          23  59.313300  18.035840  2024-03-31 00:07:31+00:00        2.0   \n24          24  59.313357  18.035703  2024-03-31 00:07:34+00:00        2.0   \n\n    pace_metric  \n0      6.038254  \n1      6.622239  \n2      5.693252  \n3      6.715673  \n4      4.386885  \n5      6.017173  \n6      6.846535  \n7      5.528229  \n8      6.273351  \n9      6.273351  \n10     6.273351  \n11     6.085670  \n12     5.914413  \n13     5.969694  \n14     5.958145  \n15     6.092767  \n16     5.981328  \n17     5.836294  \n18     5.984262  \n19     6.053689  \n20     5.873344  \n21     6.077612  \n22     6.608025  \n23     5.591125  \n24     4.970298  ",
      "text/html": "<div>\n<style scoped>\n    .dataframe tbody tr th:only-of-type {\n        vertical-align: middle;\n    }\n\n    .dataframe tbody tr th {\n        vertical-align: top;\n    }\n\n    .dataframe thead th {\n        text-align: right;\n    }\n</style>\n<table border=\"1\" class=\"dataframe\">\n  <thead>\n    <tr style=\"text-align: right;\">\n      <th></th>\n      <th>Unnamed: 0</th>\n      <th>lat</th>\n      <th>lng</th>\n      <th>datetime</th>\n      <th>elevation</th>\n      <th>pace_metric</th>\n    </tr>\n  </thead>\n  <tbody>\n    <tr>\n      <th>0</th>\n      <td>0</td>\n      <td>59.316655</td>\n      <td>18.050860</td>\n      <td>2024-03-31 00:00:37+00:00</td>\n      <td>21.0</td>\n      <td>6.038254</td>\n    </tr>\n    <tr>\n      <th>1</th>\n      <td>1</td>\n      <td>59.316546</td>\n      <td>18.050918</td>\n      <td>2024-03-31 00:00:42+00:00</td>\n      <td>21.0</td>\n      <td>6.622239</td>\n    </tr>\n    <tr>\n      <th>2</th>\n      <td>2</td>\n      <td>59.316422</td>\n      <td>18.050833</td>\n      <td>2024-03-31 00:00:47+00:00</td>\n      <td>21.0</td>\n      <td>5.693252</td>\n    </tr>\n    <tr>\n      <th>3</th>\n      <td>3</td>\n      <td>59.316269</td>\n      <td>18.050892</td>\n      <td>2024-03-31 00:00:54+00:00</td>\n      <td>21.0</td>\n      <td>6.715673</td>\n    </tr>\n    <tr>\n      <th>4</th>\n      <td>4</td>\n      <td>59.316202</td>\n      <td>18.050867</td>\n      <td>2024-03-31 00:00:56+00:00</td>\n      <td>21.0</td>\n      <td>4.386885</td>\n    </tr>\n    <tr>\n      <th>5</th>\n      <td>5</td>\n      <td>59.315165</td>\n      <td>18.051376</td>\n      <td>2024-03-31 00:01:39+00:00</td>\n      <td>19.0</td>\n      <td>6.017173</td>\n    </tr>\n    <tr>\n      <th>6</th>\n      <td>6</td>\n      <td>59.315091</td>\n      <td>18.051467</td>\n      <td>2024-03-31 00:01:43+00:00</td>\n      <td>19.0</td>\n      <td>6.846535</td>\n    </tr>\n    <tr>\n      <th>7</th>\n      <td>7</td>\n      <td>59.314918</td>\n      <td>18.051618</td>\n      <td>2024-03-31 00:01:50+00:00</td>\n      <td>19.0</td>\n      <td>5.528229</td>\n    </tr>\n    <tr>\n      <th>8</th>\n      <td>8</td>\n      <td>59.314849</td>\n      <td>18.051655</td>\n      <td>2024-03-31 00:01:53+00:00</td>\n      <td>18.0</td>\n      <td>6.273351</td>\n    </tr>\n    <tr>\n      <th>9</th>\n      <td>9</td>\n      <td>59.314849</td>\n      <td>18.051655</td>\n      <td>2024-03-31 00:01:53+00:00</td>\n      <td>18.0</td>\n      <td>6.273351</td>\n    </tr>\n    <tr>\n      <th>10</th>\n      <td>10</td>\n      <td>59.314918</td>\n      <td>18.051618</td>\n      <td>2024-03-31 00:01:56+00:00</td>\n      <td>19.0</td>\n      <td>6.273351</td>\n    </tr>\n    <tr>\n      <th>11</th>\n      <td>11</td>\n      <td>59.314751</td>\n      <td>18.050461</td>\n      <td>2024-03-31 00:02:21+00:00</td>\n      <td>17.0</td>\n      <td>6.085670</td>\n    </tr>\n    <tr>\n      <th>12</th>\n      <td>12</td>\n      <td>59.314645</td>\n      <td>18.049544</td>\n      <td>2024-03-31 00:02:40+00:00</td>\n      <td>19.0</td>\n      <td>5.914413</td>\n    </tr>\n    <tr>\n      <th>13</th>\n      <td>13</td>\n      <td>59.314562</td>\n      <td>18.047639</td>\n      <td>2024-03-31 00:03:19+00:00</td>\n      <td>16.0</td>\n      <td>5.969694</td>\n    </tr>\n    <tr>\n      <th>14</th>\n      <td>14</td>\n      <td>59.314581</td>\n      <td>18.045036</td>\n      <td>2024-03-31 00:04:12+00:00</td>\n      <td>16.0</td>\n      <td>5.958145</td>\n    </tr>\n    <tr>\n      <th>15</th>\n      <td>15</td>\n      <td>59.314493</td>\n      <td>18.044287</td>\n      <td>2024-03-31 00:04:28+00:00</td>\n      <td>15.0</td>\n      <td>6.092767</td>\n    </tr>\n    <tr>\n      <th>16</th>\n      <td>16</td>\n      <td>59.314512</td>\n      <td>18.044145</td>\n      <td>2024-03-31 00:04:31+00:00</td>\n      <td>15.0</td>\n      <td>5.981328</td>\n    </tr>\n    <tr>\n      <th>17</th>\n      <td>17</td>\n      <td>59.314450</td>\n      <td>18.044056</td>\n      <td>2024-03-31 00:04:34+00:00</td>\n      <td>16.0</td>\n      <td>5.836294</td>\n    </tr>\n    <tr>\n      <th>18</th>\n      <td>18</td>\n      <td>59.313926</td>\n      <td>18.039625</td>\n      <td>2024-03-31 00:06:07+00:00</td>\n      <td>11.0</td>\n      <td>5.984262</td>\n    </tr>\n    <tr>\n      <th>19</th>\n      <td>19</td>\n      <td>59.313742</td>\n      <td>18.038573</td>\n      <td>2024-03-31 00:06:30+00:00</td>\n      <td>8.0</td>\n      <td>6.053689</td>\n    </tr>\n    <tr>\n      <th>20</th>\n      <td>20</td>\n      <td>59.313576</td>\n      <td>18.037165</td>\n      <td>2024-03-31 00:06:59+00:00</td>\n      <td>4.0</td>\n      <td>5.873344</td>\n    </tr>\n    <tr>\n      <th>21</th>\n      <td>21</td>\n      <td>59.313428</td>\n      <td>18.035947</td>\n      <td>2024-03-31 00:07:25+00:00</td>\n      <td>2.0</td>\n      <td>6.077612</td>\n    </tr>\n    <tr>\n      <th>22</th>\n      <td>22</td>\n      <td>59.313380</td>\n      <td>18.035853</td>\n      <td>2024-03-31 00:07:28+00:00</td>\n      <td>2.0</td>\n      <td>6.608025</td>\n    </tr>\n    <tr>\n      <th>23</th>\n      <td>23</td>\n      <td>59.313300</td>\n      <td>18.035840</td>\n      <td>2024-03-31 00:07:31+00:00</td>\n      <td>2.0</td>\n      <td>5.591125</td>\n    </tr>\n    <tr>\n      <th>24</th>\n      <td>24</td>\n      <td>59.313357</td>\n      <td>18.035703</td>\n      <td>2024-03-31 00:07:34+00:00</td>\n      <td>2.0</td>\n      <td>4.970298</td>\n    </tr>\n  </tbody>\n</table>\n</div>"
     },
     "execution_count": 191,
     "metadata": {},
     "output_type": "execute_result"
    }
   ],
   "source": [
    "df.head()"
   ],
   "metadata": {
    "collapsed": false,
    "ExecuteTime": {
     "end_time": "2024-04-15T12:07:21.721955Z",
     "start_time": "2024-04-15T12:07:21.712474Z"
    }
   },
   "execution_count": 191
  },
  {
   "cell_type": "code",
   "outputs": [],
   "source": [
    "df.sort_values(by=[\"datetime\"], inplace=True)"
   ],
   "metadata": {
    "collapsed": false,
    "ExecuteTime": {
     "end_time": "2024-04-15T12:07:21.725916Z",
     "start_time": "2024-04-15T12:07:21.723225Z"
    }
   },
   "execution_count": 192
  },
  {
   "cell_type": "code",
   "outputs": [],
   "source": [
    "# Here, we get the unique trajectories\n",
    "unique_uids = df.drop_duplicates([\"datetime\"])\n",
    "unique_uids = unique_uids[\"datetime\"].to_list()\n"
   ],
   "metadata": {
    "collapsed": false,
    "ExecuteTime": {
     "end_time": "2024-04-15T12:07:21.732728Z",
     "start_time": "2024-04-15T12:07:21.728185Z"
    }
   },
   "execution_count": 193
  },
  {
   "cell_type": "code",
   "outputs": [],
   "source": [
    "class Point:\n",
    "    R = 6371 # Radius of the earth\n",
    "    def __init__(self, latitude, longitude, t):\n",
    "        self.latitude = latitude\n",
    "        self.longitude = longitude\n",
    "        self.t = t\n",
    "\n",
    "    def __str__(self):\n",
    "        return \"Point({},{},{})\".format(self.latitude, self.longitude, self.t)\n",
    "\n",
    "    def getDistance(self, point2):\n",
    "        delta_lambda = math.radians(point2.latitude - self.latitude)\n",
    "        delta_phi = math.radians(point2.longitude - self.longitude)\n",
    "        a = math.sin(delta_lambda / 2) * math.sin(delta_lambda / 2) + math.cos(math.radians(self.latitude)) \\\n",
    "            * math.cos(math.radians(point2.latitude)) * math.sin(delta_phi / 2) * math.sin(delta_phi / 2)\n",
    "        c = 2 * math.atan2(math.sqrt(a), math.sqrt(1 - a))\n",
    "        distance = Point.R * c\n",
    "        return distance"
   ],
   "metadata": {
    "collapsed": false,
    "ExecuteTime": {
     "end_time": "2024-04-15T12:07:21.738223Z",
     "start_time": "2024-04-15T12:07:21.734390Z"
    }
   },
   "execution_count": 194
  },
  {
   "cell_type": "code",
   "outputs": [],
   "source": [
    "class Trajectory:\n",
    "    def __init__(self, points = []):\n",
    "        self.points = points\n",
    "\n",
    "    def addNoise(self, mu, sigma):\n",
    "        return Trajectory([Point(i.latitude + normal(mu, sigma), i.longitude + normal(mu, sigma), i.t) for i in self.points])\n"
   ],
   "metadata": {
    "collapsed": false,
    "ExecuteTime": {
     "end_time": "2024-04-15T12:07:21.742119Z",
     "start_time": "2024-04-15T12:07:21.739559Z"
    }
   },
   "execution_count": 195
  },
  {
   "cell_type": "code",
   "outputs": [
    {
     "name": "stderr",
     "output_type": "stream",
     "text": [
      "/tmp/ipykernel_76175/2748556928.py:9: FutureWarning: Series.__getitem__ treating keys as positions is deprecated. In a future version, integer keys will always be treated as labels (consistent with DataFrame behavior). To access a value by position, use `ser.iloc[pos]`\n",
      "  points.append(Point(tmp_df.iloc[j][0], tmp_df.iloc[j][1], tmp_df.iloc[j][2]))\n"
     ]
    }
   ],
   "source": [
    "# Then, we split the trajectories\n",
    "points = []\n",
    "trajectories = []\n",
    "for i in range(len(unique_uids)):\n",
    "    #for i in range(1):\n",
    "    tmp_df = df.loc[df[\"datetime\"]==unique_uids[i]]\n",
    "    len(tmp_df)\n",
    "    for j in range(len(tmp_df)):\n",
    "        points.append(Point(tmp_df.iloc[j][0], tmp_df.iloc[j][1], tmp_df.iloc[j][2]))\n",
    "    trajectories.append(copy.deepcopy(points))\n",
    "    points.clear()\n"
   ],
   "metadata": {
    "collapsed": false,
    "ExecuteTime": {
     "end_time": "2024-04-15T12:07:21.778694Z",
     "start_time": "2024-04-15T12:07:21.751238Z"
    }
   },
   "execution_count": 196
  },
  {
   "cell_type": "code",
   "outputs": [
    {
     "data": {
      "text/plain": "69"
     },
     "execution_count": 197,
     "metadata": {},
     "output_type": "execute_result"
    }
   ],
   "source": [
    "len(trajectories)"
   ],
   "metadata": {
    "collapsed": false,
    "ExecuteTime": {
     "end_time": "2024-04-15T12:07:21.783088Z",
     "start_time": "2024-04-15T12:07:21.779933Z"
    }
   },
   "execution_count": 197
  },
  {
   "cell_type": "code",
   "outputs": [],
   "source": [
    "P = Trajectory(trajectories[0])"
   ],
   "metadata": {
    "collapsed": false,
    "ExecuteTime": {
     "end_time": "2024-04-15T12:07:21.810666Z",
     "start_time": "2024-04-15T12:07:21.808418Z"
    }
   },
   "execution_count": 198
  },
  {
   "cell_type": "code",
   "outputs": [
    {
     "name": "stdout",
     "output_type": "stream",
     "text": [
      "   Unnamed: 0        lat        lng                  datetime  elevation  \\\n",
      "0           0  59.316655  18.050860 2024-03-31 00:00:37+00:00       21.0   \n",
      "1           1  59.316546  18.050918 2024-03-31 00:00:42+00:00       21.0   \n",
      "2           2  59.316422  18.050833 2024-03-31 00:00:47+00:00       21.0   \n",
      "3           3  59.316269  18.050892 2024-03-31 00:00:54+00:00       21.0   \n",
      "4           4  59.316202  18.050867 2024-03-31 00:00:56+00:00       21.0   \n",
      "\n",
      "   pace_metric  \n",
      "0     6.038254  \n",
      "1     6.622239  \n",
      "2     5.693252  \n",
      "3     6.715673  \n",
      "4     4.386885  \n"
     ]
    }
   ],
   "source": [
    "import skmob\n",
    "tdf = skmob.TrajDataFrame.from_file('user1.txt', datetime='time', latitude='lat', longitude='lon')\n",
    "# print a portion of the TrajDataFrame\n",
    "print(tdf.head())\n",
    "\n",
    "\n",
    "\n",
    "#Q = P.addNoise(0, 0.0005)"
   ],
   "metadata": {
    "collapsed": false,
    "ExecuteTime": {
     "end_time": "2024-04-15T12:09:13.579378Z",
     "start_time": "2024-04-15T12:09:13.564146Z"
    }
   },
   "execution_count": 204
  },
  {
   "cell_type": "code",
   "outputs": [
    {
     "data": {
      "text/plain": "<folium.folium.Map at 0x7a867d30c440>",
      "text/html": "<div style=\"width:100%;\"><div style=\"position:relative;width:100%;height:0;padding-bottom:60%;\"><span style=\"color:#565656\">Make this Notebook Trusted to load map: File -> Trust Notebook</span><iframe srcdoc=\"&lt;!DOCTYPE html&gt;\n&lt;html&gt;\n&lt;head&gt;\n    \n    &lt;meta http-equiv=&quot;content-type&quot; content=&quot;text/html; charset=UTF-8&quot; /&gt;\n    \n        &lt;script&gt;\n            L_NO_TOUCH = false;\n            L_DISABLE_3D = false;\n        &lt;/script&gt;\n    \n    &lt;style&gt;html, body {width: 100%;height: 100%;margin: 0;padding: 0;}&lt;/style&gt;\n    &lt;style&gt;#map {position:absolute;top:0;bottom:0;right:0;left:0;}&lt;/style&gt;\n    &lt;script src=&quot;https://cdn.jsdelivr.net/npm/leaflet@1.9.3/dist/leaflet.js&quot;&gt;&lt;/script&gt;\n    &lt;script src=&quot;https://code.jquery.com/jquery-3.7.1.min.js&quot;&gt;&lt;/script&gt;\n    &lt;script src=&quot;https://cdn.jsdelivr.net/npm/bootstrap@5.2.2/dist/js/bootstrap.bundle.min.js&quot;&gt;&lt;/script&gt;\n    &lt;script src=&quot;https://cdnjs.cloudflare.com/ajax/libs/Leaflet.awesome-markers/2.0.2/leaflet.awesome-markers.js&quot;&gt;&lt;/script&gt;\n    &lt;link rel=&quot;stylesheet&quot; href=&quot;https://cdn.jsdelivr.net/npm/leaflet@1.9.3/dist/leaflet.css&quot;/&gt;\n    &lt;link rel=&quot;stylesheet&quot; href=&quot;https://cdn.jsdelivr.net/npm/bootstrap@5.2.2/dist/css/bootstrap.min.css&quot;/&gt;\n    &lt;link rel=&quot;stylesheet&quot; href=&quot;https://netdna.bootstrapcdn.com/bootstrap/3.0.0/css/bootstrap.min.css&quot;/&gt;\n    &lt;link rel=&quot;stylesheet&quot; href=&quot;https://cdn.jsdelivr.net/npm/@fortawesome/fontawesome-free@6.2.0/css/all.min.css&quot;/&gt;\n    &lt;link rel=&quot;stylesheet&quot; href=&quot;https://cdnjs.cloudflare.com/ajax/libs/Leaflet.awesome-markers/2.0.2/leaflet.awesome-markers.css&quot;/&gt;\n    &lt;link rel=&quot;stylesheet&quot; href=&quot;https://cdn.jsdelivr.net/gh/python-visualization/folium/folium/templates/leaflet.awesome.rotate.min.css&quot;/&gt;\n    \n            &lt;meta name=&quot;viewport&quot; content=&quot;width=device-width,\n                initial-scale=1.0, maximum-scale=1.0, user-scalable=no&quot; /&gt;\n            &lt;style&gt;\n                #map_b0534ad4552f2084bd80881da336768c {\n                    position: relative;\n                    width: 100.0%;\n                    height: 100.0%;\n                    left: 0.0%;\n                    top: 0.0%;\n                }\n                .leaflet-container { font-size: 1rem; }\n            &lt;/style&gt;\n        \n&lt;/head&gt;\n&lt;body&gt;\n    \n    \n            &lt;div class=&quot;folium-map&quot; id=&quot;map_b0534ad4552f2084bd80881da336768c&quot; &gt;&lt;/div&gt;\n        \n&lt;/body&gt;\n&lt;script&gt;\n    \n    \n            var map_b0534ad4552f2084bd80881da336768c = L.map(\n                &quot;map_b0534ad4552f2084bd80881da336768c&quot;,\n                {\n                    center: [59.316318499999994, 18.031406500000003],\n                    crs: L.CRS.EPSG3857,\n                    zoom: 12,\n                    zoomControl: true,\n                    preferCanvas: false,\n                }\n            );\n            L.control.scale().addTo(map_b0534ad4552f2084bd80881da336768c);\n\n            \n\n        \n    \n            var tile_layer_cc1add9029a19de2952042462921029f = L.tileLayer(\n                &quot;https://{s}.basemaps.cartocdn.com/light_all/{z}/{x}/{y}{r}.png&quot;,\n                {&quot;attribution&quot;: &quot;\\u0026copy; \\u003ca href=\\&quot;https://www.openstreetmap.org/copyright\\&quot;\\u003eOpenStreetMap\\u003c/a\\u003e contributors \\u0026copy; \\u003ca href=\\&quot;https://carto.com/attributions\\&quot;\\u003eCARTO\\u003c/a\\u003e&quot;, &quot;detectRetina&quot;: false, &quot;maxNativeZoom&quot;: 20, &quot;maxZoom&quot;: 20, &quot;minZoom&quot;: 0, &quot;noWrap&quot;: false, &quot;opacity&quot;: 1, &quot;subdomains&quot;: &quot;abcd&quot;, &quot;tms&quot;: false}\n            );\n        \n    \n            tile_layer_cc1add9029a19de2952042462921029f.addTo(map_b0534ad4552f2084bd80881da336768c);\n        \n    \n        function geo_json_22f06eae892a99ec1dcd7d1e34d2f0ad_styler(feature) {\n            switch(feature.id) {\n                default:\n                    return {&quot;color&quot;: &quot;#FF71FD&quot;, &quot;dashArray&quot;: &quot;0, 0&quot;, &quot;opacity&quot;: 0.9, &quot;weight&quot;: 3};\n            }\n        }\n\n        function geo_json_22f06eae892a99ec1dcd7d1e34d2f0ad_onEachFeature(feature, layer) {\n            layer.on({\n            });\n        };\n        var geo_json_22f06eae892a99ec1dcd7d1e34d2f0ad = L.geoJson(null, {\n                onEachFeature: geo_json_22f06eae892a99ec1dcd7d1e34d2f0ad_onEachFeature,\n            \n                style: geo_json_22f06eae892a99ec1dcd7d1e34d2f0ad_styler,\n        });\n\n        function geo_json_22f06eae892a99ec1dcd7d1e34d2f0ad_add (data) {\n            geo_json_22f06eae892a99ec1dcd7d1e34d2f0ad\n                .addData(data);\n        }\n            geo_json_22f06eae892a99ec1dcd7d1e34d2f0ad_add({&quot;features&quot;: [{&quot;geometry&quot;: {&quot;coordinates&quot;: [[18.05086, 59.316655], [18.050918, 59.316546], [18.050833, 59.316422], [18.050892, 59.316269], [18.050867, 59.316202], [18.051376, 59.315165], [18.051467, 59.315091], [18.051618, 59.314918], [18.051655, 59.314849], [18.051655, 59.314849], [18.051618, 59.314918], [18.050461, 59.314751], [18.049544, 59.314645], [18.047639, 59.314562], [18.045036, 59.314581], [18.044287, 59.314493], [18.044145, 59.314512], [18.044056, 59.31445], [18.039625, 59.313926], [18.038573, 59.313742], [18.037165, 59.313576], [18.035947, 59.313428], [18.035853, 59.31338], [18.03584, 59.3133], [18.035703, 59.313357], [18.035703, 59.313357], [18.034935, 59.313658], [18.034021, 59.313991], [18.033827, 59.314061], [18.033695, 59.314001], [18.030411, 59.315106], [18.029593, 59.315341], [18.029505, 59.315398], [18.029384, 59.315396], [18.029267, 59.315412], [18.027232, 59.316023], [18.027119, 59.316072], [18.027075, 59.316138], [18.026989, 59.316157], [18.026843, 59.316368], [18.026892, 59.316444], [18.026844, 59.316472], [18.026625, 59.316986], [18.026625, 59.316986], [18.0263, 59.317802], [18.026501, 59.318207], [18.026649, 59.318399], [18.026758, 59.318528], [18.027038, 59.318609], [18.027211, 59.318756], [18.027311, 59.318807], [18.027487, 59.318851], [18.028006, 59.318986], [18.028227, 59.31899], [18.028336, 59.319], [18.028407, 59.319026], [18.028511, 59.319105], [18.028637, 59.319158], [18.029115, 59.319208], [18.030004, 59.319322], [18.030281, 59.319405], [18.030433, 59.319429], [18.030687, 59.319464], [18.030895, 59.319453], [18.031223, 59.319485], [18.031354, 59.319517], [18.031459, 59.31957], [18.031925, 59.319632], [18.032169, 59.319635], [18.032386, 59.319663], [18.032906, 59.319732], [18.03366, 59.319826]], &quot;type&quot;: &quot;LineString&quot;}, &quot;id&quot;: &quot;0&quot;, &quot;type&quot;: &quot;Feature&quot;}], &quot;type&quot;: &quot;FeatureCollection&quot;});\n\n        \n    \n            geo_json_22f06eae892a99ec1dcd7d1e34d2f0ad.addTo(map_b0534ad4552f2084bd80881da336768c);\n        \n    \n            var marker_76d34d2e43a931208b86a9ae4473882c = L.marker(\n                [59.316655, 18.05086],\n                {}\n            ).addTo(map_b0534ad4552f2084bd80881da336768c);\n        \n    \n            var icon_1ecc96fe3da8f272625226f35222b5f9 = L.AwesomeMarkers.icon(\n                {&quot;extraClasses&quot;: &quot;fa-rotate-0&quot;, &quot;icon&quot;: &quot;info-sign&quot;, &quot;iconColor&quot;: &quot;white&quot;, &quot;markerColor&quot;: &quot;green&quot;, &quot;prefix&quot;: &quot;glyphicon&quot;}\n            );\n            marker_76d34d2e43a931208b86a9ae4473882c.setIcon(icon_1ecc96fe3da8f272625226f35222b5f9);\n        \n    \n        var popup_02100f3f381d9330ad358233737fd367 = L.popup({&quot;maxWidth&quot;: 300});\n\n        \n            \n                var html_d48d4b26066b1a3e3d030c02087607d0 = $(`&lt;div id=&quot;html_d48d4b26066b1a3e3d030c02087607d0&quot; style=&quot;width: 100.0%; height: 100.0%;&quot;&gt;&lt;i&gt;Start&lt;/i&gt;&lt;BR&gt;2024/03/31 00:00&lt;BR&gt;Coord: &lt;a href=&quot;https://www.google.co.uk/maps/place/59.316655,18.05086&quot; target=&quot;_blank&quot;&gt;59.3167, 18.0509&lt;/a&gt;&lt;/div&gt;`)[0];\n                popup_02100f3f381d9330ad358233737fd367.setContent(html_d48d4b26066b1a3e3d030c02087607d0);\n            \n        \n\n        marker_76d34d2e43a931208b86a9ae4473882c.bindPopup(popup_02100f3f381d9330ad358233737fd367)\n        ;\n\n        \n    \n    \n            var marker_59308d80512c328c76d36e16a034e3c2 = L.marker(\n                [59.319826, 18.03366],\n                {}\n            ).addTo(map_b0534ad4552f2084bd80881da336768c);\n        \n    \n            var icon_a02bf0f9c1ad0fba46d8b6f390bfb53b = L.AwesomeMarkers.icon(\n                {&quot;extraClasses&quot;: &quot;fa-rotate-0&quot;, &quot;icon&quot;: &quot;info-sign&quot;, &quot;iconColor&quot;: &quot;white&quot;, &quot;markerColor&quot;: &quot;red&quot;, &quot;prefix&quot;: &quot;glyphicon&quot;}\n            );\n            marker_59308d80512c328c76d36e16a034e3c2.setIcon(icon_a02bf0f9c1ad0fba46d8b6f390bfb53b);\n        \n    \n        var popup_a38b0fe35cb53f6aedd3a7e8231d5836 = L.popup({&quot;maxWidth&quot;: 300});\n\n        \n            \n                var html_429e0c8f36917baae66d5a9b912316cd = $(`&lt;div id=&quot;html_429e0c8f36917baae66d5a9b912316cd&quot; style=&quot;width: 100.0%; height: 100.0%;&quot;&gt;&lt;i&gt;End&lt;/i&gt;&lt;BR&gt;2024/03/31 00:15&lt;BR&gt;Coord: &lt;a href=&quot;https://www.google.co.uk/maps/place/59.319826,18.03366&quot; target=&quot;_blank&quot;&gt;59.3198, 18.0337&lt;/a&gt;&lt;/div&gt;`)[0];\n                popup_a38b0fe35cb53f6aedd3a7e8231d5836.setContent(html_429e0c8f36917baae66d5a9b912316cd);\n            \n        \n\n        marker_59308d80512c328c76d36e16a034e3c2.bindPopup(popup_a38b0fe35cb53f6aedd3a7e8231d5836)\n        ;\n\n        \n    \n&lt;/script&gt;\n&lt;/html&gt;\" style=\"position:absolute;width:100%;height:100%;left:0;top:0;border:none !important;\" allowfullscreen webkitallowfullscreen mozallowfullscreen></iframe></div></div>"
     },
     "execution_count": 205,
     "metadata": {},
     "output_type": "execute_result"
    }
   ],
   "source": [
    "# Trying to grip the syntax.\n",
    "tdf.plot_trajectory(zoom=12, weight=3, opacity=0.9, max_points=None, max_users=3)"
   ],
   "metadata": {
    "collapsed": false,
    "ExecuteTime": {
     "end_time": "2024-04-15T12:09:18.441255Z",
     "start_time": "2024-04-15T12:09:18.374634Z"
    }
   },
   "execution_count": 205
  },
  {
   "cell_type": "code",
   "outputs": [],
   "source": [
    "tdf.to_csv(\"26kLongRun.txt\")"
   ],
   "metadata": {
    "collapsed": false,
    "ExecuteTime": {
     "end_time": "2024-04-15T12:07:21.870880Z",
     "start_time": "2024-04-15T12:07:21.852700Z"
    }
   },
   "execution_count": 201
  },
  {
   "cell_type": "code",
   "outputs": [],
   "source": [],
   "metadata": {
    "collapsed": false,
    "ExecuteTime": {
     "end_time": "2024-04-15T12:07:21.875494Z",
     "start_time": "2024-04-15T12:07:21.872247Z"
    }
   },
   "execution_count": 201
  }
 ],
 "metadata": {
  "kernelspec": {
   "display_name": "Python 3 (ipykernel)",
   "language": "python",
   "name": "python3"
  },
  "language_info": {
   "codemirror_mode": {
    "name": "ipython",
    "version": 3
   },
   "file_extension": ".py",
   "mimetype": "text/x-python",
   "name": "python",
   "nbconvert_exporter": "python",
   "pygments_lexer": "ipython3",
   "version": "3.12.1"
  }
 },
 "nbformat": 4,
 "nbformat_minor": 4
}

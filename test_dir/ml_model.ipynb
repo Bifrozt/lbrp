{
 "cells": [
  {
   "cell_type": "code",
   "execution_count": 6,
   "metadata": {
    "ExecuteTime": {
     "end_time": "2024-04-13T16:53:37.072989Z",
     "start_time": "2024-04-13T16:53:37.068717Z"
    }
   },
   "outputs": [],
   "source": [
    "import math\n",
    "import pandas as pd\n",
    "import copy\n",
    "import matplotlib.pyplot as plt\n",
    "from prettytable import PrettyTable\n",
    "from prettytable import MARKDOWN\n",
    "from numpy.random import normal\n",
    "import numpy as np\n",
    "import matplotlib"
   ]
  },
  {
   "cell_type": "code",
   "outputs": [],
   "source": [
    "file = \"26kLongRun.txt\"\n",
    "df = pd.read_csv(file, sep=',')\n",
    "\n"
   ],
   "metadata": {
    "collapsed": false,
    "ExecuteTime": {
     "end_time": "2024-04-13T16:53:38.617456Z",
     "start_time": "2024-04-13T16:53:38.609616Z"
    }
   },
   "execution_count": 7
  },
  {
   "cell_type": "markdown",
   "source": [],
   "metadata": {
    "collapsed": false
   }
  },
  {
   "cell_type": "code",
   "outputs": [
    {
     "data": {
      "text/plain": "                        time   latitude  longitude  elevation  distance  \\\n0  2024-03-31 00:00:00+00:00  59.317436  18.050744       22.0  0.000000   \n1  2024-03-31 00:00:00+00:00  59.317436  18.050744       22.0  0.000000   \n2  2024-03-31 00:00:01+00:00  59.317442  18.050786       22.0  2.483349   \n3  2024-03-31 00:00:04+00:00  59.317375  18.050818       22.0  7.683068   \n4  2024-03-31 00:00:06+00:00  59.317321  18.050844       21.0  6.195157   \n\n   cumulative_distance  duration  cumulative_duration  pace_metric  \n0             0.000000       0.0                  0.0     6.711367  \n1             0.000000       0.0                  0.0     6.711367  \n2             2.483349       1.0                  1.0     6.711367  \n3            10.166417       3.0                  4.0     6.507817  \n4            16.361574       2.0                  6.0     5.380547  ",
      "text/html": "<div>\n<style scoped>\n    .dataframe tbody tr th:only-of-type {\n        vertical-align: middle;\n    }\n\n    .dataframe tbody tr th {\n        vertical-align: top;\n    }\n\n    .dataframe thead th {\n        text-align: right;\n    }\n</style>\n<table border=\"1\" class=\"dataframe\">\n  <thead>\n    <tr style=\"text-align: right;\">\n      <th></th>\n      <th>time</th>\n      <th>latitude</th>\n      <th>longitude</th>\n      <th>elevation</th>\n      <th>distance</th>\n      <th>cumulative_distance</th>\n      <th>duration</th>\n      <th>cumulative_duration</th>\n      <th>pace_metric</th>\n    </tr>\n  </thead>\n  <tbody>\n    <tr>\n      <th>0</th>\n      <td>2024-03-31 00:00:00+00:00</td>\n      <td>59.317436</td>\n      <td>18.050744</td>\n      <td>22.0</td>\n      <td>0.000000</td>\n      <td>0.000000</td>\n      <td>0.0</td>\n      <td>0.0</td>\n      <td>6.711367</td>\n    </tr>\n    <tr>\n      <th>1</th>\n      <td>2024-03-31 00:00:00+00:00</td>\n      <td>59.317436</td>\n      <td>18.050744</td>\n      <td>22.0</td>\n      <td>0.000000</td>\n      <td>0.000000</td>\n      <td>0.0</td>\n      <td>0.0</td>\n      <td>6.711367</td>\n    </tr>\n    <tr>\n      <th>2</th>\n      <td>2024-03-31 00:00:01+00:00</td>\n      <td>59.317442</td>\n      <td>18.050786</td>\n      <td>22.0</td>\n      <td>2.483349</td>\n      <td>2.483349</td>\n      <td>1.0</td>\n      <td>1.0</td>\n      <td>6.711367</td>\n    </tr>\n    <tr>\n      <th>3</th>\n      <td>2024-03-31 00:00:04+00:00</td>\n      <td>59.317375</td>\n      <td>18.050818</td>\n      <td>22.0</td>\n      <td>7.683068</td>\n      <td>10.166417</td>\n      <td>3.0</td>\n      <td>4.0</td>\n      <td>6.507817</td>\n    </tr>\n    <tr>\n      <th>4</th>\n      <td>2024-03-31 00:00:06+00:00</td>\n      <td>59.317321</td>\n      <td>18.050844</td>\n      <td>21.0</td>\n      <td>6.195157</td>\n      <td>16.361574</td>\n      <td>2.0</td>\n      <td>6.0</td>\n      <td>5.380547</td>\n    </tr>\n  </tbody>\n</table>\n</div>"
     },
     "execution_count": 8,
     "metadata": {},
     "output_type": "execute_result"
    }
   ],
   "source": [
    "df.head(5)"
   ],
   "metadata": {
    "collapsed": false,
    "ExecuteTime": {
     "end_time": "2024-04-13T16:53:40.833333Z",
     "start_time": "2024-04-13T16:53:40.825536Z"
    }
   },
   "execution_count": 8
  },
  {
   "cell_type": "code",
   "outputs": [],
   "source": [
    "df.sort_values(by=[\"time\"], inplace=True)"
   ],
   "metadata": {
    "collapsed": false,
    "ExecuteTime": {
     "end_time": "2024-04-13T16:55:29.444214Z",
     "start_time": "2024-04-13T16:55:29.440202Z"
    }
   },
   "execution_count": 10
  },
  {
   "cell_type": "code",
   "outputs": [],
   "source": [
    "# Here, we get the unique trajectories\n",
    "unique_uids = df.drop_duplicates([\"time\"])\n",
    "unique_uids = unique_uids[\"time\"].to_list()\n"
   ],
   "metadata": {
    "collapsed": false,
    "ExecuteTime": {
     "end_time": "2024-04-13T16:55:48.570988Z",
     "start_time": "2024-04-13T16:55:48.567921Z"
    }
   },
   "execution_count": 11
  },
  {
   "cell_type": "code",
   "outputs": [],
   "source": [
    "class Point:\n",
    "    R = 6371 # Radius of the earth\n",
    "    def __init__(self, latitude, longitude, t):\n",
    "        self.latitude = latitude\n",
    "        self.longitude = longitude\n",
    "        self.t = t\n",
    "\n",
    "    def __str__(self):\n",
    "        return \"Point({},{},{})\".format(self.latitude, self.longitude, self.t)\n",
    "\n",
    "    def getDistance(self, point2):\n",
    "        delta_lambda = math.radians(point2.latitude - self.latitude)\n",
    "        delta_phi = math.radians(point2.longitude - self.longitude)\n",
    "        a = math.sin(delta_lambda / 2) * math.sin(delta_lambda / 2) + math.cos(math.radians(self.latitude)) \\\n",
    "            * math.cos(math.radians(point2.latitude)) * math.sin(delta_phi / 2) * math.sin(delta_phi / 2)\n",
    "        c = 2 * math.atan2(math.sqrt(a), math.sqrt(1 - a))\n",
    "        distance = Point.R * c\n",
    "        return distance"
   ],
   "metadata": {
    "collapsed": false,
    "ExecuteTime": {
     "end_time": "2024-04-13T16:56:04.353007Z",
     "start_time": "2024-04-13T16:56:04.345714Z"
    }
   },
   "execution_count": 12
  },
  {
   "cell_type": "code",
   "outputs": [],
   "source": [
    "class Trajectory:\n",
    "    def __init__(self, points = []):\n",
    "        self.points = points\n",
    "\n",
    "    def addNoise(self, mu, sigma):\n",
    "        return Trajectory([Point(i.latitude + normal(mu, sigma), i.longitude + normal(mu, sigma), i.t) for i in self.points])\n"
   ],
   "metadata": {
    "collapsed": false,
    "ExecuteTime": {
     "end_time": "2024-04-13T16:56:54.109704Z",
     "start_time": "2024-04-13T16:56:54.105430Z"
    }
   },
   "execution_count": 13
  },
  {
   "cell_type": "code",
   "outputs": [
    {
     "name": "stderr",
     "output_type": "stream",
     "text": [
      "/tmp/ipykernel_76175/62256649.py:9: FutureWarning: Series.__getitem__ treating keys as positions is deprecated. In a future version, integer keys will always be treated as labels (consistent with DataFrame behavior). To access a value by position, use `ser.iloc[pos]`\n",
      "  points.append(Point(tmp_df.iloc[j][0], tmp_df.iloc[j][1], tmp_df.iloc[j][2]))\n"
     ]
    }
   ],
   "source": [
    "# Then, we split the trajectories\n",
    "points = []\n",
    "trajectories = []\n",
    "for i in range(len(unique_uids)):\n",
    "    #for i in range(1):\n",
    "    tmp_df = df.loc[df[\"time\"]==unique_uids[i]]\n",
    "    len(tmp_df)\n",
    "    for j in range(len(tmp_df)):\n",
    "        points.append(Point(tmp_df.iloc[j][0], tmp_df.iloc[j][1], tmp_df.iloc[j][2]))\n",
    "    trajectories.append(copy.deepcopy(points))\n",
    "    points.clear()\n"
   ],
   "metadata": {
    "collapsed": false,
    "ExecuteTime": {
     "end_time": "2024-04-13T16:57:22.727357Z",
     "start_time": "2024-04-13T16:57:22.426482Z"
    }
   },
   "execution_count": 15
  },
  {
   "cell_type": "code",
   "outputs": [
    {
     "data": {
      "text/plain": "665"
     },
     "execution_count": 16,
     "metadata": {},
     "output_type": "execute_result"
    }
   ],
   "source": [
    "len(trajectories)"
   ],
   "metadata": {
    "collapsed": false,
    "ExecuteTime": {
     "end_time": "2024-04-13T16:58:43.037290Z",
     "start_time": "2024-04-13T16:58:43.031966Z"
    }
   },
   "execution_count": 16
  },
  {
   "cell_type": "code",
   "outputs": [],
   "source": [
    "P = Trajectory(trajectories[0])"
   ],
   "metadata": {
    "collapsed": false,
    "ExecuteTime": {
     "end_time": "2024-04-13T16:59:20.656609Z",
     "start_time": "2024-04-13T16:59:20.654431Z"
    }
   },
   "execution_count": 17
  },
  {
   "cell_type": "code",
   "outputs": [
    {
     "name": "stdout",
     "output_type": "stream",
     "text": [
      "                        time   latitude  longitude  elevation  distance  \\\n",
      "0  2024-03-31 00:00:00+00:00  59.317436  18.050744       22.0  0.000000   \n",
      "1  2024-03-31 00:00:00+00:00  59.317436  18.050744       22.0  0.000000   \n",
      "2  2024-03-31 00:00:01+00:00  59.317442  18.050786       22.0  2.483349   \n",
      "3  2024-03-31 00:00:04+00:00  59.317375  18.050818       22.0  7.683068   \n",
      "4  2024-03-31 00:00:06+00:00  59.317321  18.050844       21.0  6.195157   \n",
      "\n",
      "   cumulative_distance  duration  cumulative_duration  pace_metric  \n",
      "0             0.000000       0.0                  0.0     6.711367  \n",
      "1             0.000000       0.0                  0.0     6.711367  \n",
      "2             2.483349       1.0                  1.0     6.711367  \n",
      "3            10.166417       3.0                  4.0     6.507817  \n",
      "4            16.361574       2.0                  6.0     5.380547  \n"
     ]
    }
   ],
   "source": [
    "import skmob\n",
    "tdf = skmob.TrajDataFrame.from_file('26kLongRun.txt', datetime='datetime', latitude='lat', longitude='lon')\n",
    "# print a portion of the TrajDataFrame\n",
    "print(tdf.head())\n",
    "\n",
    "\n",
    "\n",
    "#Q = P.addNoise(0, 0.0005)"
   ],
   "metadata": {
    "collapsed": false,
    "ExecuteTime": {
     "end_time": "2024-04-13T17:55:41.142813Z",
     "start_time": "2024-04-13T17:55:41.131793Z"
    }
   },
   "execution_count": 60
  },
  {
   "cell_type": "code",
   "outputs": [
    {
     "name": "stdout",
     "output_type": "stream",
     "text": [
      "<class 'pandas.core.frame.DataFrame'>\n"
     ]
    }
   ],
   "source": [
    "\n",
    "data_df = pd.DataFrame(tdf, columns=['latitude', 'longitude', 'datetime', 'elevation', 'pace_metric'])\n",
    "# print the type of the object\n",
    "print(type(data_df))"
   ],
   "metadata": {
    "collapsed": false,
    "ExecuteTime": {
     "end_time": "2024-04-13T17:55:42.185098Z",
     "start_time": "2024-04-13T17:55:42.179247Z"
    }
   },
   "execution_count": 61
  },
  {
   "cell_type": "code",
   "outputs": [
    {
     "name": "stdout",
     "output_type": "stream",
     "text": [
      "<class 'skmob.core.trajectorydataframe.TrajDataFrame'>\n"
     ]
    }
   ],
   "source": [
    "tdf = skmob.TrajDataFrame(data_df, latitude='latitude', longitude='longitude', datetime='datetime')\n",
    "# print the type of the object\n",
    "print(type(tdf))"
   ],
   "metadata": {
    "collapsed": false,
    "ExecuteTime": {
     "end_time": "2024-04-13T17:55:43.049801Z",
     "start_time": "2024-04-13T17:55:43.044922Z"
    }
   },
   "execution_count": 62
  },
  {
   "cell_type": "code",
   "outputs": [
    {
     "name": "stdout",
     "output_type": "stream",
     "text": [
      "         lat        lng datetime  elevation  pace_metric\n",
      "0  59.317436  18.050744      NaT       22.0     6.711367\n",
      "1  59.317436  18.050744      NaT       22.0     6.711367\n",
      "2  59.317442  18.050786      NaT       22.0     6.711367\n",
      "3  59.317375  18.050818      NaT       22.0     6.507817\n",
      "4  59.317321  18.050844      NaT       21.0     5.380547\n"
     ]
    }
   ],
   "source": [
    "\n",
    "print(tdf.head())\n"
   ],
   "metadata": {
    "collapsed": false,
    "ExecuteTime": {
     "end_time": "2024-04-13T17:55:43.955700Z",
     "start_time": "2024-04-13T17:55:43.951410Z"
    }
   },
   "execution_count": 63
  },
  {
   "cell_type": "code",
   "outputs": [
    {
     "name": "stderr",
     "output_type": "stream",
     "text": [
      "/home/pablo/anaconda3/envs/geo_env/lib/python3.12/site-packages/skmob/core/trajectorydataframe.py:569: UserWarning: Only the trajectories of the first 10 users will be plotted. Use the argument `max_users` to specify the desired number of users, or filter the TrajDataFrame.\n",
      "  return plot.plot_trajectory(self, map_f=map_f, max_users=max_users, max_points=max_points, style_function=style_function,\n"
     ]
    },
    {
     "ename": "ValueError",
     "evalue": "attempt to get argmin of an empty sequence",
     "output_type": "error",
     "traceback": [
      "\u001B[0;31m---------------------------------------------------------------------------\u001B[0m",
      "\u001B[0;31mValueError\u001B[0m                                Traceback (most recent call last)",
      "Cell \u001B[0;32mIn[67], line 1\u001B[0m\n\u001B[0;32m----> 1\u001B[0m \u001B[43mtdf\u001B[49m\u001B[38;5;241;43m.\u001B[39;49m\u001B[43mplot_trajectory\u001B[49m\u001B[43m(\u001B[49m\u001B[43mzoom\u001B[49m\u001B[38;5;241;43m=\u001B[39;49m\u001B[38;5;241;43m12\u001B[39;49m\u001B[43m,\u001B[49m\u001B[43m \u001B[49m\u001B[43mweight\u001B[49m\u001B[38;5;241;43m=\u001B[39;49m\u001B[38;5;241;43m3\u001B[39;49m\u001B[43m,\u001B[49m\u001B[43m \u001B[49m\u001B[43mopacity\u001B[49m\u001B[38;5;241;43m=\u001B[39;49m\u001B[38;5;241;43m0.9\u001B[39;49m\u001B[43m,\u001B[49m\u001B[43m \u001B[49m\u001B[43mmax_points\u001B[49m\u001B[38;5;241;43m=\u001B[39;49m\u001B[38;5;28;43;01mNone\u001B[39;49;00m\u001B[43m,\u001B[49m\u001B[43m \u001B[49m\u001B[43mmax_users\u001B[49m\u001B[38;5;241;43m=\u001B[39;49m\u001B[38;5;28;43;01mNone\u001B[39;49;00m\u001B[43m)\u001B[49m\n",
      "File \u001B[0;32m~/anaconda3/envs/geo_env/lib/python3.12/site-packages/skmob/core/trajectorydataframe.py:569\u001B[0m, in \u001B[0;36mTrajDataFrame.plot_trajectory\u001B[0;34m(self, map_f, max_users, max_points, style_function, tiles, zoom, hex_color, weight, opacity, dashArray, start_end_markers, control_scale)\u001B[0m\n\u001B[1;32m    496\u001B[0m \u001B[38;5;28;01mdef\u001B[39;00m \u001B[38;5;21mplot_trajectory\u001B[39m(\u001B[38;5;28mself\u001B[39m, map_f\u001B[38;5;241m=\u001B[39m\u001B[38;5;28;01mNone\u001B[39;00m, max_users\u001B[38;5;241m=\u001B[39m\u001B[38;5;28;01mNone\u001B[39;00m, max_points\u001B[38;5;241m=\u001B[39m\u001B[38;5;241m1000\u001B[39m, style_function\u001B[38;5;241m=\u001B[39mplot\u001B[38;5;241m.\u001B[39mtraj_style_function,\n\u001B[1;32m    497\u001B[0m                 tiles\u001B[38;5;241m=\u001B[39m\u001B[38;5;124m'\u001B[39m\u001B[38;5;124mcartodbpositron\u001B[39m\u001B[38;5;124m'\u001B[39m, zoom\u001B[38;5;241m=\u001B[39m\u001B[38;5;241m12\u001B[39m, hex_color\u001B[38;5;241m=\u001B[39m\u001B[38;5;28;01mNone\u001B[39;00m, weight\u001B[38;5;241m=\u001B[39m\u001B[38;5;241m2\u001B[39m, opacity\u001B[38;5;241m=\u001B[39m\u001B[38;5;241m0.75\u001B[39m, dashArray\u001B[38;5;241m=\u001B[39m\u001B[38;5;124m'\u001B[39m\u001B[38;5;124m0, 0\u001B[39m\u001B[38;5;124m'\u001B[39m,\n\u001B[1;32m    498\u001B[0m                 start_end_markers\u001B[38;5;241m=\u001B[39m\u001B[38;5;28;01mTrue\u001B[39;00m, control_scale\u001B[38;5;241m=\u001B[39m\u001B[38;5;28;01mTrue\u001B[39;00m):\n\u001B[1;32m    500\u001B[0m \u001B[38;5;250m    \u001B[39m\u001B[38;5;124;03m\"\"\"\u001B[39;00m\n\u001B[1;32m    501\u001B[0m \u001B[38;5;124;03m    Plot the trajectories on a Folium map.\u001B[39;00m\n\u001B[1;32m    502\u001B[0m \u001B[38;5;124;03m    \u001B[39;00m\n\u001B[0;32m   (...)\u001B[0m\n\u001B[1;32m    566\u001B[0m \u001B[38;5;124;03m    .. image:: https://raw.githubusercontent.com/scikit-mobility/scikit-mobility/master/examples/plot_trajectory_example.png\u001B[39;00m\n\u001B[1;32m    567\u001B[0m \u001B[38;5;124;03m    \"\"\"\u001B[39;00m\n\u001B[0;32m--> 569\u001B[0m     \u001B[38;5;28;01mreturn\u001B[39;00m \u001B[43mplot\u001B[49m\u001B[38;5;241;43m.\u001B[39;49m\u001B[43mplot_trajectory\u001B[49m\u001B[43m(\u001B[49m\u001B[38;5;28;43mself\u001B[39;49m\u001B[43m,\u001B[49m\u001B[43m \u001B[49m\u001B[43mmap_f\u001B[49m\u001B[38;5;241;43m=\u001B[39;49m\u001B[43mmap_f\u001B[49m\u001B[43m,\u001B[49m\u001B[43m \u001B[49m\u001B[43mmax_users\u001B[49m\u001B[38;5;241;43m=\u001B[39;49m\u001B[43mmax_users\u001B[49m\u001B[43m,\u001B[49m\u001B[43m \u001B[49m\u001B[43mmax_points\u001B[49m\u001B[38;5;241;43m=\u001B[39;49m\u001B[43mmax_points\u001B[49m\u001B[43m,\u001B[49m\u001B[43m \u001B[49m\u001B[43mstyle_function\u001B[49m\u001B[38;5;241;43m=\u001B[39;49m\u001B[43mstyle_function\u001B[49m\u001B[43m,\u001B[49m\n\u001B[1;32m    570\u001B[0m \u001B[43m                \u001B[49m\u001B[43mtiles\u001B[49m\u001B[38;5;241;43m=\u001B[39;49m\u001B[43mtiles\u001B[49m\u001B[43m,\u001B[49m\u001B[43m \u001B[49m\u001B[43mzoom\u001B[49m\u001B[38;5;241;43m=\u001B[39;49m\u001B[43mzoom\u001B[49m\u001B[43m,\u001B[49m\u001B[43m \u001B[49m\u001B[43mhex_color\u001B[49m\u001B[38;5;241;43m=\u001B[39;49m\u001B[43mhex_color\u001B[49m\u001B[43m,\u001B[49m\u001B[43m \u001B[49m\u001B[43mweight\u001B[49m\u001B[38;5;241;43m=\u001B[39;49m\u001B[43mweight\u001B[49m\u001B[43m,\u001B[49m\u001B[43m \u001B[49m\u001B[43mopacity\u001B[49m\u001B[38;5;241;43m=\u001B[39;49m\u001B[43mopacity\u001B[49m\u001B[43m,\u001B[49m\u001B[43m \u001B[49m\u001B[43mdashArray\u001B[49m\u001B[38;5;241;43m=\u001B[39;49m\u001B[43mdashArray\u001B[49m\u001B[43m,\u001B[49m\n\u001B[1;32m    571\u001B[0m \u001B[43m                \u001B[49m\u001B[43mstart_end_markers\u001B[49m\u001B[38;5;241;43m=\u001B[39;49m\u001B[43mstart_end_markers\u001B[49m\u001B[43m,\u001B[49m\u001B[43m \u001B[49m\u001B[43mcontrol_scale\u001B[49m\u001B[38;5;241;43m=\u001B[39;49m\u001B[43mcontrol_scale\u001B[49m\u001B[43m)\u001B[49m\n",
      "File \u001B[0;32m~/anaconda3/envs/geo_env/lib/python3.12/site-packages/skmob/utils/plot.py:186\u001B[0m, in \u001B[0;36mplot_trajectory\u001B[0;34m(tdf, map_f, max_users, max_points, style_function, tiles, zoom, hex_color, weight, opacity, dashArray, start_end_markers, control_scale)\u001B[0m\n\u001B[1;32m    182\u001B[0m tgeojson\u001B[38;5;241m.\u001B[39madd_to(map_f)\n\u001B[1;32m    184\u001B[0m \u001B[38;5;28;01mif\u001B[39;00m start_end_markers:\n\u001B[0;32m--> 186\u001B[0m     dtime, la, lo \u001B[38;5;241m=\u001B[39m df\u001B[38;5;241m.\u001B[39mloc[\u001B[43mdf\u001B[49m\u001B[43m[\u001B[49m\u001B[38;5;124;43m'\u001B[39;49m\u001B[38;5;124;43mdatetime\u001B[39;49m\u001B[38;5;124;43m'\u001B[39;49m\u001B[43m]\u001B[49m\u001B[38;5;241;43m.\u001B[39;49m\u001B[43midxmin\u001B[49m\u001B[43m(\u001B[49m\u001B[43m)\u001B[49m]\\\n\u001B[1;32m    187\u001B[0m         [[constants\u001B[38;5;241m.\u001B[39mDATETIME, constants\u001B[38;5;241m.\u001B[39mLATITUDE, constants\u001B[38;5;241m.\u001B[39mLONGITUDE]]\u001B[38;5;241m.\u001B[39mvalues\n\u001B[1;32m    188\u001B[0m     dtime \u001B[38;5;241m=\u001B[39m dtime\u001B[38;5;241m.\u001B[39mstrftime(\u001B[38;5;124m'\u001B[39m\u001B[38;5;124m%\u001B[39m\u001B[38;5;124mY/\u001B[39m\u001B[38;5;124m%\u001B[39m\u001B[38;5;124mm/\u001B[39m\u001B[38;5;132;01m%d\u001B[39;00m\u001B[38;5;124m \u001B[39m\u001B[38;5;124m%\u001B[39m\u001B[38;5;124mH:\u001B[39m\u001B[38;5;124m%\u001B[39m\u001B[38;5;124mM\u001B[39m\u001B[38;5;124m'\u001B[39m)\n\u001B[1;32m    189\u001B[0m     mker \u001B[38;5;241m=\u001B[39m folium\u001B[38;5;241m.\u001B[39mMarker(trajlist[\u001B[38;5;241m0\u001B[39m][::\u001B[38;5;241m-\u001B[39m\u001B[38;5;241m1\u001B[39m], icon\u001B[38;5;241m=\u001B[39mfolium\u001B[38;5;241m.\u001B[39mIcon(color\u001B[38;5;241m=\u001B[39m\u001B[38;5;124m'\u001B[39m\u001B[38;5;124mgreen\u001B[39m\u001B[38;5;124m'\u001B[39m))\n",
      "File \u001B[0;32m~/anaconda3/envs/geo_env/lib/python3.12/site-packages/pandas/core/series.py:2668\u001B[0m, in \u001B[0;36mSeries.idxmin\u001B[0;34m(self, axis, skipna, *args, **kwargs)\u001B[0m\n\u001B[1;32m   2663\u001B[0m \u001B[38;5;28;01mwith\u001B[39;00m warnings\u001B[38;5;241m.\u001B[39mcatch_warnings():\n\u001B[1;32m   2664\u001B[0m     \u001B[38;5;66;03m# TODO(3.0): this catching/filtering can be removed\u001B[39;00m\n\u001B[1;32m   2665\u001B[0m     \u001B[38;5;66;03m# ignore warning produced by argmin since we will issue a different\u001B[39;00m\n\u001B[1;32m   2666\u001B[0m     \u001B[38;5;66;03m#  warning for idxmin\u001B[39;00m\n\u001B[1;32m   2667\u001B[0m     warnings\u001B[38;5;241m.\u001B[39msimplefilter(\u001B[38;5;124m\"\u001B[39m\u001B[38;5;124mignore\u001B[39m\u001B[38;5;124m\"\u001B[39m)\n\u001B[0;32m-> 2668\u001B[0m     i \u001B[38;5;241m=\u001B[39m \u001B[38;5;28;43mself\u001B[39;49m\u001B[38;5;241;43m.\u001B[39;49m\u001B[43margmin\u001B[49m\u001B[43m(\u001B[49m\u001B[43maxis\u001B[49m\u001B[43m,\u001B[49m\u001B[43m \u001B[49m\u001B[43mskipna\u001B[49m\u001B[43m,\u001B[49m\u001B[43m \u001B[49m\u001B[38;5;241;43m*\u001B[39;49m\u001B[43margs\u001B[49m\u001B[43m,\u001B[49m\u001B[43m \u001B[49m\u001B[38;5;241;43m*\u001B[39;49m\u001B[38;5;241;43m*\u001B[39;49m\u001B[43mkwargs\u001B[49m\u001B[43m)\u001B[49m\n\u001B[1;32m   2670\u001B[0m \u001B[38;5;28;01mif\u001B[39;00m i \u001B[38;5;241m==\u001B[39m \u001B[38;5;241m-\u001B[39m\u001B[38;5;241m1\u001B[39m:\n\u001B[1;32m   2671\u001B[0m     \u001B[38;5;66;03m# GH#43587 give correct NA value for Index.\u001B[39;00m\n\u001B[1;32m   2672\u001B[0m     warnings\u001B[38;5;241m.\u001B[39mwarn(\n\u001B[1;32m   2673\u001B[0m         \u001B[38;5;124mf\u001B[39m\u001B[38;5;124m\"\u001B[39m\u001B[38;5;124mThe behavior of \u001B[39m\u001B[38;5;132;01m{\u001B[39;00m\u001B[38;5;28mtype\u001B[39m(\u001B[38;5;28mself\u001B[39m)\u001B[38;5;241m.\u001B[39m\u001B[38;5;18m__name__\u001B[39m\u001B[38;5;132;01m}\u001B[39;00m\u001B[38;5;124m.idxmin with all-NA \u001B[39m\u001B[38;5;124m\"\u001B[39m\n\u001B[1;32m   2674\u001B[0m         \u001B[38;5;124m\"\u001B[39m\u001B[38;5;124mvalues, or any-NA and skipna=False, is deprecated. In a future \u001B[39m\u001B[38;5;124m\"\u001B[39m\n\u001B[0;32m   (...)\u001B[0m\n\u001B[1;32m   2677\u001B[0m         stacklevel\u001B[38;5;241m=\u001B[39mfind_stack_level(),\n\u001B[1;32m   2678\u001B[0m     )\n",
      "File \u001B[0;32m~/anaconda3/envs/geo_env/lib/python3.12/site-packages/pandas/core/base.py:783\u001B[0m, in \u001B[0;36mIndexOpsMixin.argmin\u001B[0;34m(self, axis, skipna, *args, **kwargs)\u001B[0m\n\u001B[1;32m    781\u001B[0m         \u001B[38;5;28;01mreturn\u001B[39;00m \u001B[38;5;241m-\u001B[39m\u001B[38;5;241m1\u001B[39m\n\u001B[1;32m    782\u001B[0m     \u001B[38;5;28;01melse\u001B[39;00m:\n\u001B[0;32m--> 783\u001B[0m         \u001B[38;5;28;01mreturn\u001B[39;00m \u001B[43mdelegate\u001B[49m\u001B[38;5;241;43m.\u001B[39;49m\u001B[43margmin\u001B[49m\u001B[43m(\u001B[49m\u001B[43m)\u001B[49m\n\u001B[1;32m    784\u001B[0m \u001B[38;5;28;01melse\u001B[39;00m:\n\u001B[1;32m    785\u001B[0m     result \u001B[38;5;241m=\u001B[39m nanops\u001B[38;5;241m.\u001B[39mnanargmin(delegate, skipna\u001B[38;5;241m=\u001B[39mskipna)\n",
      "File \u001B[0;32m~/anaconda3/envs/geo_env/lib/python3.12/site-packages/pandas/core/arrays/_mixins.py:213\u001B[0m, in \u001B[0;36mNDArrayBackedExtensionArray.argmin\u001B[0;34m(self, axis, skipna)\u001B[0m\n\u001B[1;32m    211\u001B[0m \u001B[38;5;28;01mif\u001B[39;00m \u001B[38;5;129;01mnot\u001B[39;00m skipna \u001B[38;5;129;01mand\u001B[39;00m \u001B[38;5;28mself\u001B[39m\u001B[38;5;241m.\u001B[39m_hasna:\n\u001B[1;32m    212\u001B[0m     \u001B[38;5;28;01mraise\u001B[39;00m \u001B[38;5;167;01mNotImplementedError\u001B[39;00m\n\u001B[0;32m--> 213\u001B[0m \u001B[38;5;28;01mreturn\u001B[39;00m \u001B[43mnargminmax\u001B[49m\u001B[43m(\u001B[49m\u001B[38;5;28;43mself\u001B[39;49m\u001B[43m,\u001B[49m\u001B[43m \u001B[49m\u001B[38;5;124;43m\"\u001B[39;49m\u001B[38;5;124;43margmin\u001B[39;49m\u001B[38;5;124;43m\"\u001B[39;49m\u001B[43m,\u001B[49m\u001B[43m \u001B[49m\u001B[43maxis\u001B[49m\u001B[38;5;241;43m=\u001B[39;49m\u001B[43maxis\u001B[49m\u001B[43m)\u001B[49m\n",
      "File \u001B[0;32m~/anaconda3/envs/geo_env/lib/python3.12/site-packages/pandas/core/sorting.py:483\u001B[0m, in \u001B[0;36mnargminmax\u001B[0;34m(values, method, axis)\u001B[0m\n\u001B[1;32m    480\u001B[0m         \u001B[38;5;28;01mreturn\u001B[39;00m np\u001B[38;5;241m.\u001B[39marray([_nanargminmax(v, m, func) \u001B[38;5;28;01mfor\u001B[39;00m v, m \u001B[38;5;129;01min\u001B[39;00m zipped])\n\u001B[1;32m    481\u001B[0m     \u001B[38;5;28;01mreturn\u001B[39;00m func(arr_values, axis\u001B[38;5;241m=\u001B[39maxis)\n\u001B[0;32m--> 483\u001B[0m \u001B[38;5;28;01mreturn\u001B[39;00m \u001B[43m_nanargminmax\u001B[49m\u001B[43m(\u001B[49m\u001B[43marr_values\u001B[49m\u001B[43m,\u001B[49m\u001B[43m \u001B[49m\u001B[43mmask\u001B[49m\u001B[43m,\u001B[49m\u001B[43m \u001B[49m\u001B[43mfunc\u001B[49m\u001B[43m)\u001B[49m\n",
      "File \u001B[0;32m~/anaconda3/envs/geo_env/lib/python3.12/site-packages/pandas/core/sorting.py:494\u001B[0m, in \u001B[0;36m_nanargminmax\u001B[0;34m(values, mask, func)\u001B[0m\n\u001B[1;32m    491\u001B[0m non_nans \u001B[38;5;241m=\u001B[39m values[\u001B[38;5;241m~\u001B[39mmask]\n\u001B[1;32m    492\u001B[0m non_nan_idx \u001B[38;5;241m=\u001B[39m idx[\u001B[38;5;241m~\u001B[39mmask]\n\u001B[0;32m--> 494\u001B[0m \u001B[38;5;28;01mreturn\u001B[39;00m non_nan_idx[\u001B[43mfunc\u001B[49m\u001B[43m(\u001B[49m\u001B[43mnon_nans\u001B[49m\u001B[43m)\u001B[49m]\n",
      "File \u001B[0;32m~/anaconda3/envs/geo_env/lib/python3.12/site-packages/numpy/core/fromnumeric.py:1325\u001B[0m, in \u001B[0;36margmin\u001B[0;34m(a, axis, out, keepdims)\u001B[0m\n\u001B[1;32m   1238\u001B[0m \u001B[38;5;250m\u001B[39m\u001B[38;5;124;03m\"\"\"\u001B[39;00m\n\u001B[1;32m   1239\u001B[0m \u001B[38;5;124;03mReturns the indices of the minimum values along an axis.\u001B[39;00m\n\u001B[1;32m   1240\u001B[0m \n\u001B[0;32m   (...)\u001B[0m\n\u001B[1;32m   1322\u001B[0m \u001B[38;5;124;03m(2, 1, 4)\u001B[39;00m\n\u001B[1;32m   1323\u001B[0m \u001B[38;5;124;03m\"\"\"\u001B[39;00m\n\u001B[1;32m   1324\u001B[0m kwds \u001B[38;5;241m=\u001B[39m {\u001B[38;5;124m'\u001B[39m\u001B[38;5;124mkeepdims\u001B[39m\u001B[38;5;124m'\u001B[39m: keepdims} \u001B[38;5;28;01mif\u001B[39;00m keepdims \u001B[38;5;129;01mis\u001B[39;00m \u001B[38;5;129;01mnot\u001B[39;00m np\u001B[38;5;241m.\u001B[39m_NoValue \u001B[38;5;28;01melse\u001B[39;00m {}\n\u001B[0;32m-> 1325\u001B[0m \u001B[38;5;28;01mreturn\u001B[39;00m \u001B[43m_wrapfunc\u001B[49m\u001B[43m(\u001B[49m\u001B[43ma\u001B[49m\u001B[43m,\u001B[49m\u001B[43m \u001B[49m\u001B[38;5;124;43m'\u001B[39;49m\u001B[38;5;124;43margmin\u001B[39;49m\u001B[38;5;124;43m'\u001B[39;49m\u001B[43m,\u001B[49m\u001B[43m \u001B[49m\u001B[43maxis\u001B[49m\u001B[38;5;241;43m=\u001B[39;49m\u001B[43maxis\u001B[49m\u001B[43m,\u001B[49m\u001B[43m \u001B[49m\u001B[43mout\u001B[49m\u001B[38;5;241;43m=\u001B[39;49m\u001B[43mout\u001B[49m\u001B[43m,\u001B[49m\u001B[43m \u001B[49m\u001B[38;5;241;43m*\u001B[39;49m\u001B[38;5;241;43m*\u001B[39;49m\u001B[43mkwds\u001B[49m\u001B[43m)\u001B[49m\n",
      "File \u001B[0;32m~/anaconda3/envs/geo_env/lib/python3.12/site-packages/numpy/core/fromnumeric.py:59\u001B[0m, in \u001B[0;36m_wrapfunc\u001B[0;34m(obj, method, *args, **kwds)\u001B[0m\n\u001B[1;32m     56\u001B[0m     \u001B[38;5;28;01mreturn\u001B[39;00m _wrapit(obj, method, \u001B[38;5;241m*\u001B[39margs, \u001B[38;5;241m*\u001B[39m\u001B[38;5;241m*\u001B[39mkwds)\n\u001B[1;32m     58\u001B[0m \u001B[38;5;28;01mtry\u001B[39;00m:\n\u001B[0;32m---> 59\u001B[0m     \u001B[38;5;28;01mreturn\u001B[39;00m \u001B[43mbound\u001B[49m\u001B[43m(\u001B[49m\u001B[38;5;241;43m*\u001B[39;49m\u001B[43margs\u001B[49m\u001B[43m,\u001B[49m\u001B[43m \u001B[49m\u001B[38;5;241;43m*\u001B[39;49m\u001B[38;5;241;43m*\u001B[39;49m\u001B[43mkwds\u001B[49m\u001B[43m)\u001B[49m\n\u001B[1;32m     60\u001B[0m \u001B[38;5;28;01mexcept\u001B[39;00m \u001B[38;5;167;01mTypeError\u001B[39;00m:\n\u001B[1;32m     61\u001B[0m     \u001B[38;5;66;03m# A TypeError occurs if the object does have such a method in its\u001B[39;00m\n\u001B[1;32m     62\u001B[0m     \u001B[38;5;66;03m# class, but its signature is not identical to that of NumPy's. This\u001B[39;00m\n\u001B[0;32m   (...)\u001B[0m\n\u001B[1;32m     66\u001B[0m     \u001B[38;5;66;03m# Call _wrapit from within the except clause to ensure a potential\u001B[39;00m\n\u001B[1;32m     67\u001B[0m     \u001B[38;5;66;03m# exception has a traceback chain.\u001B[39;00m\n\u001B[1;32m     68\u001B[0m     \u001B[38;5;28;01mreturn\u001B[39;00m _wrapit(obj, method, \u001B[38;5;241m*\u001B[39margs, \u001B[38;5;241m*\u001B[39m\u001B[38;5;241m*\u001B[39mkwds)\n",
      "\u001B[0;31mValueError\u001B[0m: attempt to get argmin of an empty sequence"
     ]
    }
   ],
   "source": [
    "# Trying to grip the syntax.\n",
    "tdf.plot_trajectory(zoom=12, weight=3, opacity=0.9, max_points=None, max_users=None)"
   ],
   "metadata": {
    "collapsed": false,
    "ExecuteTime": {
     "end_time": "2024-04-13T17:58:09.331209Z",
     "start_time": "2024-04-13T17:58:09.250928Z"
    }
   },
   "execution_count": 67
  }
 ],
 "metadata": {
  "kernelspec": {
   "display_name": "Python 3 (ipykernel)",
   "language": "python",
   "name": "python3"
  },
  "language_info": {
   "codemirror_mode": {
    "name": "ipython",
    "version": 3
   },
   "file_extension": ".py",
   "mimetype": "text/x-python",
   "name": "python",
   "nbconvert_exporter": "python",
   "pygments_lexer": "ipython3",
   "version": "3.12.1"
  }
 },
 "nbformat": 4,
 "nbformat_minor": 4
}

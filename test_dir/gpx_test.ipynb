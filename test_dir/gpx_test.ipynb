{
 "cells": [
  {
   "cell_type": "code",
   "execution_count": 78,
   "id": "initial_id",
   "metadata": {
    "ExecuteTime": {
     "end_time": "2024-04-05T12:13:14.465847Z",
     "start_time": "2024-04-05T12:13:14.432276Z"
    }
   },
   "outputs": [],
   "source": [
    "from datetime import datetime\n",
    "import gpxpy\n",
    "import gpxpy.gpx\n",
    "import pandas as pd\n",
    "import matplotlib.pyplot as plt\n",
    "import geopy.distance\n",
    "from numpy_ext import rolling_apply\n",
    "\n",
    "\n",
    "gpx_path = open('26kLongRun.gpx', 'r')\n",
    "\n",
    "\n",
    "with open('26kLongRun.gpx') as f:\n",
    "    gpx = gpxpy.parse(f)"
   ]
  },
  {
   "cell_type": "code",
   "outputs": [],
   "source": [
    "# Convert to a dataframe one point at a time.\n",
    "points = []\n",
    "for segment in gpx.tracks[0].segments:\n",
    "    for p in segment.points:\n",
    "        points.append({\n",
    "            'time': p.time,\n",
    "            'latitude': p.latitude,\n",
    "            'longitude': p.longitude,\n",
    "            'elevation': p.elevation,\n",
    "        })\n",
    "df = pd.DataFrame.from_records(points)"
   ],
   "metadata": {
    "collapsed": false,
    "ExecuteTime": {
     "end_time": "2024-04-05T12:13:14.477578Z",
     "start_time": "2024-04-05T12:13:14.467498Z"
    }
   },
   "id": "6a1b035d5bafcbd6",
   "execution_count": 79
  },
  {
   "cell_type": "code",
   "outputs": [
    {
     "data": {
      "text/plain": "                         time   latitude  longitude  elevation    distance  \\\n0   2024-03-31 00:00:00+00:00  59.317436  18.050744       22.0    0.000000   \n1   2024-03-31 00:00:00+00:00  59.317436  18.050744       22.0    0.000000   \n2   2024-03-31 00:00:01+00:00  59.317442  18.050786       22.0    2.483349   \n3   2024-03-31 00:00:04+00:00  59.317375  18.050818       22.0    7.683068   \n4   2024-03-31 00:00:06+00:00  59.317321  18.050844       21.0    6.195157   \n..                        ...        ...        ...        ...         ...   \n726 2024-03-31 02:36:59+00:00  59.313742  18.038573        8.0   82.292705   \n727 2024-03-31 02:37:21+00:00  59.313926  18.039625       11.0   63.322275   \n728 2024-03-31 02:38:54+00:00  59.314450  18.044056       16.0  259.012719   \n729 2024-03-31 02:38:58+00:00  59.314512  18.044145       15.0    8.567081   \n730 2024-03-31 02:38:59+00:00  59.314534  18.044098       15.0    3.629188   \n\n     cumulative_distance  duration  cumulative_duration  pace_metric  \n0               0.000000       0.0                  0.0     6.711367  \n1               0.000000       0.0                  0.0     6.711367  \n2               2.483349       1.0                  1.0     6.711367  \n3              10.166417       3.0                  4.0     6.507817  \n4              16.361574       2.0                  6.0     5.380547  \n..                   ...       ...                  ...          ...  \n726         26213.571586      30.0               9419.0     6.075873  \n727         26276.893862      22.0               9441.0     5.790485  \n728         26535.906580      93.0               9534.0     5.984262  \n729         26544.473661       4.0               9538.0     7.781725  \n730         26548.102848       1.0               9539.0     4.592396  \n\n[731 rows x 9 columns]",
      "text/html": "<div>\n<style scoped>\n    .dataframe tbody tr th:only-of-type {\n        vertical-align: middle;\n    }\n\n    .dataframe tbody tr th {\n        vertical-align: top;\n    }\n\n    .dataframe thead th {\n        text-align: right;\n    }\n</style>\n<table border=\"1\" class=\"dataframe\">\n  <thead>\n    <tr style=\"text-align: right;\">\n      <th></th>\n      <th>time</th>\n      <th>latitude</th>\n      <th>longitude</th>\n      <th>elevation</th>\n      <th>distance</th>\n      <th>cumulative_distance</th>\n      <th>duration</th>\n      <th>cumulative_duration</th>\n      <th>pace_metric</th>\n    </tr>\n  </thead>\n  <tbody>\n    <tr>\n      <th>0</th>\n      <td>2024-03-31 00:00:00+00:00</td>\n      <td>59.317436</td>\n      <td>18.050744</td>\n      <td>22.0</td>\n      <td>0.000000</td>\n      <td>0.000000</td>\n      <td>0.0</td>\n      <td>0.0</td>\n      <td>6.711367</td>\n    </tr>\n    <tr>\n      <th>1</th>\n      <td>2024-03-31 00:00:00+00:00</td>\n      <td>59.317436</td>\n      <td>18.050744</td>\n      <td>22.0</td>\n      <td>0.000000</td>\n      <td>0.000000</td>\n      <td>0.0</td>\n      <td>0.0</td>\n      <td>6.711367</td>\n    </tr>\n    <tr>\n      <th>2</th>\n      <td>2024-03-31 00:00:01+00:00</td>\n      <td>59.317442</td>\n      <td>18.050786</td>\n      <td>22.0</td>\n      <td>2.483349</td>\n      <td>2.483349</td>\n      <td>1.0</td>\n      <td>1.0</td>\n      <td>6.711367</td>\n    </tr>\n    <tr>\n      <th>3</th>\n      <td>2024-03-31 00:00:04+00:00</td>\n      <td>59.317375</td>\n      <td>18.050818</td>\n      <td>22.0</td>\n      <td>7.683068</td>\n      <td>10.166417</td>\n      <td>3.0</td>\n      <td>4.0</td>\n      <td>6.507817</td>\n    </tr>\n    <tr>\n      <th>4</th>\n      <td>2024-03-31 00:00:06+00:00</td>\n      <td>59.317321</td>\n      <td>18.050844</td>\n      <td>21.0</td>\n      <td>6.195157</td>\n      <td>16.361574</td>\n      <td>2.0</td>\n      <td>6.0</td>\n      <td>5.380547</td>\n    </tr>\n    <tr>\n      <th>...</th>\n      <td>...</td>\n      <td>...</td>\n      <td>...</td>\n      <td>...</td>\n      <td>...</td>\n      <td>...</td>\n      <td>...</td>\n      <td>...</td>\n      <td>...</td>\n    </tr>\n    <tr>\n      <th>726</th>\n      <td>2024-03-31 02:36:59+00:00</td>\n      <td>59.313742</td>\n      <td>18.038573</td>\n      <td>8.0</td>\n      <td>82.292705</td>\n      <td>26213.571586</td>\n      <td>30.0</td>\n      <td>9419.0</td>\n      <td>6.075873</td>\n    </tr>\n    <tr>\n      <th>727</th>\n      <td>2024-03-31 02:37:21+00:00</td>\n      <td>59.313926</td>\n      <td>18.039625</td>\n      <td>11.0</td>\n      <td>63.322275</td>\n      <td>26276.893862</td>\n      <td>22.0</td>\n      <td>9441.0</td>\n      <td>5.790485</td>\n    </tr>\n    <tr>\n      <th>728</th>\n      <td>2024-03-31 02:38:54+00:00</td>\n      <td>59.314450</td>\n      <td>18.044056</td>\n      <td>16.0</td>\n      <td>259.012719</td>\n      <td>26535.906580</td>\n      <td>93.0</td>\n      <td>9534.0</td>\n      <td>5.984262</td>\n    </tr>\n    <tr>\n      <th>729</th>\n      <td>2024-03-31 02:38:58+00:00</td>\n      <td>59.314512</td>\n      <td>18.044145</td>\n      <td>15.0</td>\n      <td>8.567081</td>\n      <td>26544.473661</td>\n      <td>4.0</td>\n      <td>9538.0</td>\n      <td>7.781725</td>\n    </tr>\n    <tr>\n      <th>730</th>\n      <td>2024-03-31 02:38:59+00:00</td>\n      <td>59.314534</td>\n      <td>18.044098</td>\n      <td>15.0</td>\n      <td>3.629188</td>\n      <td>26548.102848</td>\n      <td>1.0</td>\n      <td>9539.0</td>\n      <td>4.592396</td>\n    </tr>\n  </tbody>\n</table>\n<p>731 rows × 9 columns</p>\n</div>"
     },
     "execution_count": 80,
     "metadata": {},
     "output_type": "execute_result"
    }
   ],
   "source": [
    "# Cumulative distance.\n",
    "coords = [(p.latitude, p.longitude) for p in df.itertuples()]\n",
    "df['distance'] = [0] + [geopy.distance.distance(from_, to).m for from_, to in zip(coords[:-1], coords[1:])]\n",
    "df['cumulative_distance'] = df.distance.cumsum()\n",
    "# Timing.\n",
    "df['duration'] = df.time.diff().dt.total_seconds().fillna(0)\n",
    "df['cumulative_duration'] = df.duration.cumsum()\n",
    "df['pace_metric'] = pd.Series((df.duration / 60) / (df.distance / 1000)).bfill()\n",
    "\n",
    "df"
   ],
   "metadata": {
    "collapsed": false,
    "ExecuteTime": {
     "end_time": "2024-04-05T12:13:14.574427Z",
     "start_time": "2024-04-05T12:13:14.488505Z"
    }
   },
   "id": "cd6b46910967cb58",
   "execution_count": 80
  },
  {
   "cell_type": "code",
   "outputs": [
    {
     "data": {
      "text/plain": "[<matplotlib.lines.Line2D at 0x7b530fc1ade0>]"
     },
     "execution_count": 81,
     "metadata": {},
     "output_type": "execute_result"
    },
    {
     "data": {
      "text/plain": "<Figure size 640x480 with 1 Axes>",
      "image/png": "[encoded data removed]"
     },
     "metadata": {},
     "output_type": "display_data"
    }
   ],
   "source": [
    "def rolling_metric_pace(duration, distance):\n",
    "    return (duration.sum() / 60) / (distance.sum() / 1000)\n",
    "\n",
    "\n",
    "x = df.cumulative_distance\n",
    "y = rolling_apply(rolling_metric_pace, 10, df.duration.values, df.distance.values)\n",
    "\n",
    "plt.plot(x, y)\n",
    "\n",
    "\n"
   ],
   "metadata": {
    "collapsed": false,
    "ExecuteTime": {
     "end_time": "2024-04-05T12:13:14.676444Z",
     "start_time": "2024-04-05T12:13:14.575487Z"
    }
   },
   "id": "db0a2570005a9e6a",
   "execution_count": 81
  },
  {
   "cell_type": "code",
   "outputs": [],
   "source": [],
   "metadata": {
    "collapsed": false,
    "ExecuteTime": {
     "end_time": "2024-04-05T12:13:14.679760Z",
     "start_time": "2024-04-05T12:13:14.677950Z"
    }
   },
   "id": "e8e22a8c5591e95f",
   "execution_count": 81
  }
 ],
 "metadata": {
  "kernelspec": {
   "display_name": "Python 3 (ipykernel)",
   "language": "python",
   "name": "python3"
  },
  "language_info": {
   "codemirror_mode": {
    "name": "ipython",
    "version": 3
   },
   "file_extension": ".py",
   "mimetype": "text/x-python",
   "name": "python",
   "nbconvert_exporter": "python",
   "pygments_lexer": "ipython3",
   "version": "3.12.1"
  }
 },
 "nbformat": 4,
 "nbformat_minor": 5
}

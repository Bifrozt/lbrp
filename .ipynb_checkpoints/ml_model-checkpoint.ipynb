{
 "cells": [
  {
   "cell_type": "code",
   "execution_count": 2,
   "metadata": {
    "ExecuteTime": {
     "end_time": "2024-02-16T17:08:02.717037059Z",
     "start_time": "2024-02-16T17:08:01.978286033Z"
    }
   },
   "outputs": [
    {
     "ename": "ModuleNotFoundError",
     "evalue": "No module named 'geodatasets'",
     "output_type": "error",
     "traceback": [
      "\u001B[0;31m---------------------------------------------------------------------------\u001B[0m",
      "\u001B[0;31mModuleNotFoundError\u001B[0m                       Traceback (most recent call last)",
      "Cell \u001B[0;32mIn[2], line 3\u001B[0m\n\u001B[1;32m      1\u001B[0m \u001B[38;5;28;01mimport\u001B[39;00m \u001B[38;5;21;01mpandas\u001B[39;00m \u001B[38;5;28;01mas\u001B[39;00m \u001B[38;5;21;01mpd\u001B[39;00m\n\u001B[1;32m      2\u001B[0m \u001B[38;5;28;01mimport\u001B[39;00m \u001B[38;5;21;01mgeopandas\u001B[39;00m \u001B[38;5;28;01mas\u001B[39;00m \u001B[38;5;21;01mgpd\u001B[39;00m\n\u001B[0;32m----> 3\u001B[0m \u001B[38;5;28;01mimport\u001B[39;00m \u001B[38;5;21;01mgeodatasets\u001B[39;00m \u001B[38;5;28;01mas\u001B[39;00m \u001B[38;5;21;01mgds\u001B[39;00m\n\u001B[1;32m      4\u001B[0m \u001B[38;5;28;01mimport\u001B[39;00m \u001B[38;5;21;01mmatplotlib\u001B[39;00m\u001B[38;5;21;01m.\u001B[39;00m\u001B[38;5;21;01mpyplot\u001B[39;00m \u001B[38;5;28;01mas\u001B[39;00m \u001B[38;5;21;01mplt\u001B[39;00m\n\u001B[1;32m      5\u001B[0m \u001B[38;5;28;01mfrom\u001B[39;00m \u001B[38;5;21;01mshapely\u001B[39;00m\u001B[38;5;21;01m.\u001B[39;00m\u001B[38;5;21;01mgeometry\u001B[39;00m \u001B[38;5;28;01mimport\u001B[39;00m LineString\n",
      "\u001B[0;31mModuleNotFoundError\u001B[0m: No module named 'geodatasets'"
     ]
    }
   ],
   "source": [
    "import pandas as pd\n",
    "import geopandas as gpd\n",
    "import geodatasets as gds\n",
    "import matplotlib.pyplot as plt\n",
    "from shapely.geometry import LineString\n",
    "import io\n",
    "import glob\n",
    "import os"
   ]
  },
  {
   "cell_type": "code",
   "execution_count": 1,
   "metadata": {
    "ExecuteTime": {
     "end_time": "2024-02-16T17:07:58.785932957Z",
     "start_time": "2024-02-16T17:07:58.681209798Z"
    }
   },
   "outputs": [
    {
     "ename": "NameError",
     "evalue": "name 'glob' is not defined",
     "output_type": "error",
     "traceback": [
      "\u001B[0;31m---------------------------------------------------------------------------\u001B[0m",
      "\u001B[0;31mNameError\u001B[0m                                 Traceback (most recent call last)",
      "Cell \u001B[0;32mIn[1], line 2\u001B[0m\n\u001B[1;32m      1\u001B[0m \u001B[38;5;66;03m#col = ['route_id', 'agency_id', 'route_short_name', 'route_long_name', 'route_type', 'route_desc']\u001B[39;00m\n\u001B[0;32m----> 2\u001B[0m data \u001B[38;5;241m=\u001B[39m \u001B[43mglob\u001B[49m\u001B[38;5;241m.\u001B[39mglob(\u001B[38;5;124m'\u001B[39m\u001B[38;5;124m/home/pablo/dev23/data_sets/sl_csv\u001B[39m\u001B[38;5;124m'\u001B[39m)\n",
      "\u001B[0;31mNameError\u001B[0m: name 'glob' is not defined"
     ]
    }
   ],
   "source": [
    "#col = ['route_id', 'agency_id', 'route_short_name', 'route_long_name', 'route_type', 'route_desc']\n",
    "data = glob.glob('/home/pablo/dev23/data_sets/sl_csv')"
   ]
  },
  {
   "cell_type": "code",
   "execution_count": 11,
   "metadata": {},
   "outputs": [
    {
     "name": "stdout",
     "output_type": "stream",
     "text": [
      "data_sets/sl/routes.csv\n",
      "           route_id          agency_id route_short_name route_long_name  \\\n",
      "0  9011001000100000  14010000000001001                1             NaN   \n",
      "1  9011001000200000  14010000000001001                2             NaN   \n",
      "2  9011001000300000  14010000000001001                3             NaN   \n",
      "3  9011001000400000  14010000000001001                4             NaN   \n",
      "4  9011001001000000  14010000000001001               10      Blå linjen   \n",
      "\n",
      "   route_type              route_desc  \n",
      "0         700                 blåbuss  \n",
      "1         700                 blåbuss  \n",
      "2         700                 blåbuss  \n",
      "3         700                 blåbuss  \n",
      "4         401  tunnelbanans blå linje  \n",
      "Index(['route_id', 'agency_id', 'route_short_name', 'route_long_name',\n",
      "       'route_type', 'route_desc'],\n",
      "      dtype='object')\n",
      "(610, 6)\n",
      "<class 'pandas.core.frame.DataFrame'>\n",
      "RangeIndex: 610 entries, 0 to 609\n",
      "Data columns (total 6 columns):\n",
      " #   Column            Non-Null Count  Dtype \n",
      "---  ------            --------------  ----- \n",
      " 0   route_id          610 non-null    object\n",
      " 1   agency_id         610 non-null    int64 \n",
      " 2   route_short_name  610 non-null    object\n",
      " 3   route_long_name   38 non-null     object\n",
      " 4   route_type        610 non-null    int64 \n",
      " 5   route_desc        114 non-null    object\n",
      "dtypes: int64(2), object(4)\n",
      "memory usage: 28.7+ KB\n",
      "None\n",
      "          agency_id   route_type\n",
      "count  6.100000e+02   610.000000\n",
      "mean   1.401000e+16   711.486885\n",
      "std    2.776189e+02   101.671728\n",
      "min    1.401000e+16   100.000000\n",
      "25%    1.401000e+16   700.000000\n",
      "50%    1.401000e+16   700.000000\n",
      "75%    1.401000e+16   700.000000\n",
      "max    1.401000e+16  1000.000000\n",
      "route_id              0\n",
      "agency_id             0\n",
      "route_short_name      0\n",
      "route_long_name     572\n",
      "route_type            0\n",
      "route_desc          496\n",
      "dtype: int64\n",
      "route_id            object\n",
      "agency_id            int64\n",
      "route_short_name    object\n",
      "route_long_name     object\n",
      "route_type           int64\n",
      "route_desc          object\n",
      "dtype: object\n",
      "route_type\n",
      "700     551\n",
      "1000     35\n",
      "900      11\n",
      "401       7\n",
      "100       6\n",
      "Name: count, dtype: int64\n",
      "agency_id\n",
      "14010000000001001    563\n",
      "14010000000002071     29\n",
      "14010000000002005     13\n",
      "14010000000001917      4\n",
      "14010000000002027      1\n",
      "Name: count, dtype: int64\n",
      "route_id\n",
      "9011001000100000    1\n",
      "9011001083300000    1\n",
      "9011001082300000    1\n",
      "9011001082400000    1\n",
      "9011001082700000    1\n",
      "                   ..\n",
      "9011001054100000    1\n",
      "9011001054200000    1\n",
      "9011001054300000    1\n",
      "9011001054400000    1\n",
      "9011001008400000    1\n",
      "Name: count, Length: 610, dtype: int64\n",
      "route_short_name\n",
      "952    2\n",
      "19     2\n",
      "30     2\n",
      "43X    2\n",
      "2      2\n",
      "      ..\n",
      "542    1\n",
      "543    1\n",
      "544    1\n",
      "545    1\n",
      "84     1\n",
      "Name: count, Length: 589, dtype: int64\n",
      "route_long_name\n",
      "Ersätter Pendeltåget      10\n",
      "Ersätter Saltsjöbanan      4\n",
      "Österskärslinjen           3\n",
      "Gröna linjen               3\n",
      "Tvärbanan                  2\n",
      "Blå linjen                 2\n",
      "Kårstalinjen               2\n",
      "Röda linjen                2\n",
      "Näsbyparkslinjen           1\n",
      "Vaxholm-Rindö              1\n",
      "Nockebybanan               1\n",
      "Lidingöbanan               1\n",
      "Ersätter Lidingöbanan      1\n",
      "Spårväg city               1\n",
      "Djurgårdsfärjan            1\n",
      "Närtrafiken Täby           1\n",
      "Närtrafiken Åkersberga     1\n",
      "Närtrafiken Norrtälje      1\n",
      "Name: count, dtype: int64\n"
     ]
    }
   ],
   "source": [
    "for f in data:\n",
    "    print(f)\n",
    "    df = pd.read_csv(f)\n",
    "    print(df.head())\n",
    "    print(df.columns)\n",
    "    print(df.shape)\n",
    "    print(df.info())\n",
    "    print(df.describe())\n",
    "    print(df.isnull().sum())\n",
    "    print(df.dtypes)\n",
    "    print(df['route_type'].value_counts())\n",
    "    print(df['agency_id'].value_counts())\n",
    "    print(df['route_id'].value_counts())\n",
    "    print(df['route_short_name'].value_counts())\n",
    "    print(df['route_long_name'].value_counts())\n",
    "    "
   ]
  },
  {
   "cell_type": "code",
   "execution_count": 10,
   "metadata": {},
   "outputs": [
    {
     "ename": "ValueError",
     "evalue": "Invalid file path or buffer object type: <class 'list'>",
     "output_type": "error",
     "traceback": [
      "\u001B[0;31m---------------------------------------------------------------------------\u001B[0m",
      "\u001B[0;31mValueError\u001B[0m                                Traceback (most recent call last)",
      "Cell \u001B[0;32mIn[10], line 1\u001B[0m\n\u001B[0;32m----> 1\u001B[0m df \u001B[38;5;241m=\u001B[39m \u001B[43mpd\u001B[49m\u001B[38;5;241;43m.\u001B[39;49m\u001B[43mread_csv\u001B[49m\u001B[43m(\u001B[49m\u001B[43mdata\u001B[49m\u001B[43m)\u001B[49m\n\u001B[1;32m      2\u001B[0m df\u001B[38;5;241m.\u001B[39mhead()\n",
      "File \u001B[0;32m~/anaconda3/envs/geo_env/lib/python3.12/site-packages/pandas/io/parsers/readers.py:1024\u001B[0m, in \u001B[0;36mread_csv\u001B[0;34m(filepath_or_buffer, sep, delimiter, header, names, index_col, usecols, dtype, engine, converters, true_values, false_values, skipinitialspace, skiprows, skipfooter, nrows, na_values, keep_default_na, na_filter, verbose, skip_blank_lines, parse_dates, infer_datetime_format, keep_date_col, date_parser, date_format, dayfirst, cache_dates, iterator, chunksize, compression, thousands, decimal, lineterminator, quotechar, quoting, doublequote, escapechar, comment, encoding, encoding_errors, dialect, on_bad_lines, delim_whitespace, low_memory, memory_map, float_precision, storage_options, dtype_backend)\u001B[0m\n\u001B[1;32m   1011\u001B[0m kwds_defaults \u001B[38;5;241m=\u001B[39m _refine_defaults_read(\n\u001B[1;32m   1012\u001B[0m     dialect,\n\u001B[1;32m   1013\u001B[0m     delimiter,\n\u001B[0;32m   (...)\u001B[0m\n\u001B[1;32m   1020\u001B[0m     dtype_backend\u001B[38;5;241m=\u001B[39mdtype_backend,\n\u001B[1;32m   1021\u001B[0m )\n\u001B[1;32m   1022\u001B[0m kwds\u001B[38;5;241m.\u001B[39mupdate(kwds_defaults)\n\u001B[0;32m-> 1024\u001B[0m \u001B[38;5;28;01mreturn\u001B[39;00m \u001B[43m_read\u001B[49m\u001B[43m(\u001B[49m\u001B[43mfilepath_or_buffer\u001B[49m\u001B[43m,\u001B[49m\u001B[43m \u001B[49m\u001B[43mkwds\u001B[49m\u001B[43m)\u001B[49m\n",
      "File \u001B[0;32m~/anaconda3/envs/geo_env/lib/python3.12/site-packages/pandas/io/parsers/readers.py:618\u001B[0m, in \u001B[0;36m_read\u001B[0;34m(filepath_or_buffer, kwds)\u001B[0m\n\u001B[1;32m    615\u001B[0m _validate_names(kwds\u001B[38;5;241m.\u001B[39mget(\u001B[38;5;124m\"\u001B[39m\u001B[38;5;124mnames\u001B[39m\u001B[38;5;124m\"\u001B[39m, \u001B[38;5;28;01mNone\u001B[39;00m))\n\u001B[1;32m    617\u001B[0m \u001B[38;5;66;03m# Create the parser.\u001B[39;00m\n\u001B[0;32m--> 618\u001B[0m parser \u001B[38;5;241m=\u001B[39m \u001B[43mTextFileReader\u001B[49m\u001B[43m(\u001B[49m\u001B[43mfilepath_or_buffer\u001B[49m\u001B[43m,\u001B[49m\u001B[43m \u001B[49m\u001B[38;5;241;43m*\u001B[39;49m\u001B[38;5;241;43m*\u001B[39;49m\u001B[43mkwds\u001B[49m\u001B[43m)\u001B[49m\n\u001B[1;32m    620\u001B[0m \u001B[38;5;28;01mif\u001B[39;00m chunksize \u001B[38;5;129;01mor\u001B[39;00m iterator:\n\u001B[1;32m    621\u001B[0m     \u001B[38;5;28;01mreturn\u001B[39;00m parser\n",
      "File \u001B[0;32m~/anaconda3/envs/geo_env/lib/python3.12/site-packages/pandas/io/parsers/readers.py:1618\u001B[0m, in \u001B[0;36mTextFileReader.__init__\u001B[0;34m(self, f, engine, **kwds)\u001B[0m\n\u001B[1;32m   1615\u001B[0m     \u001B[38;5;28mself\u001B[39m\u001B[38;5;241m.\u001B[39moptions[\u001B[38;5;124m\"\u001B[39m\u001B[38;5;124mhas_index_names\u001B[39m\u001B[38;5;124m\"\u001B[39m] \u001B[38;5;241m=\u001B[39m kwds[\u001B[38;5;124m\"\u001B[39m\u001B[38;5;124mhas_index_names\u001B[39m\u001B[38;5;124m\"\u001B[39m]\n\u001B[1;32m   1617\u001B[0m \u001B[38;5;28mself\u001B[39m\u001B[38;5;241m.\u001B[39mhandles: IOHandles \u001B[38;5;241m|\u001B[39m \u001B[38;5;28;01mNone\u001B[39;00m \u001B[38;5;241m=\u001B[39m \u001B[38;5;28;01mNone\u001B[39;00m\n\u001B[0;32m-> 1618\u001B[0m \u001B[38;5;28mself\u001B[39m\u001B[38;5;241m.\u001B[39m_engine \u001B[38;5;241m=\u001B[39m \u001B[38;5;28;43mself\u001B[39;49m\u001B[38;5;241;43m.\u001B[39;49m\u001B[43m_make_engine\u001B[49m\u001B[43m(\u001B[49m\u001B[43mf\u001B[49m\u001B[43m,\u001B[49m\u001B[43m \u001B[49m\u001B[38;5;28;43mself\u001B[39;49m\u001B[38;5;241;43m.\u001B[39;49m\u001B[43mengine\u001B[49m\u001B[43m)\u001B[49m\n",
      "File \u001B[0;32m~/anaconda3/envs/geo_env/lib/python3.12/site-packages/pandas/io/parsers/readers.py:1893\u001B[0m, in \u001B[0;36mTextFileReader._make_engine\u001B[0;34m(self, f, engine)\u001B[0m\n\u001B[1;32m   1891\u001B[0m \u001B[38;5;28;01melif\u001B[39;00m engine \u001B[38;5;241m!=\u001B[39m \u001B[38;5;124m\"\u001B[39m\u001B[38;5;124mpython\u001B[39m\u001B[38;5;124m\"\u001B[39m:\n\u001B[1;32m   1892\u001B[0m     msg \u001B[38;5;241m=\u001B[39m \u001B[38;5;124mf\u001B[39m\u001B[38;5;124m\"\u001B[39m\u001B[38;5;124mInvalid file path or buffer object type: \u001B[39m\u001B[38;5;132;01m{\u001B[39;00m\u001B[38;5;28mtype\u001B[39m(f)\u001B[38;5;132;01m}\u001B[39;00m\u001B[38;5;124m\"\u001B[39m\n\u001B[0;32m-> 1893\u001B[0m     \u001B[38;5;28;01mraise\u001B[39;00m \u001B[38;5;167;01mValueError\u001B[39;00m(msg)\n\u001B[1;32m   1895\u001B[0m \u001B[38;5;28;01mtry\u001B[39;00m:\n\u001B[1;32m   1896\u001B[0m     \u001B[38;5;28;01mreturn\u001B[39;00m mapping[engine](f, \u001B[38;5;241m*\u001B[39m\u001B[38;5;241m*\u001B[39m\u001B[38;5;28mself\u001B[39m\u001B[38;5;241m.\u001B[39moptions)\n",
      "\u001B[0;31mValueError\u001B[0m: Invalid file path or buffer object type: <class 'list'>"
     ]
    }
   ],
   "source": [
    "df = pd.read_csv(data)\n",
    "df.head()"
   ]
  }
 ],
 "metadata": {
  "kernelspec": {
   "display_name": "Python 3 (ipykernel)",
   "language": "python",
   "name": "python3"
  },
  "language_info": {
   "codemirror_mode": {
    "name": "ipython",
    "version": 3
   },
   "file_extension": ".py",
   "mimetype": "text/x-python",
   "name": "python",
   "nbconvert_exporter": "python",
   "pygments_lexer": "ipython3",
   "version": "3.12.1"
  }
 },
 "nbformat": 4,
 "nbformat_minor": 4
}

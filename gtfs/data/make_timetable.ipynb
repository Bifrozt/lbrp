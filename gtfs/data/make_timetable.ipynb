{
 "cells": [
  {
   "cell_type": "code",
   "execution_count": 10,
   "id": "initial_id",
   "metadata": {
    "collapsed": true,
    "ExecuteTime": {
     "end_time": "2024-03-11T18:37:58.783511Z",
     "start_time": "2024-03-11T18:37:58.777461Z"
    }
   },
   "outputs": [],
   "source": [
    "from pyraptor import query_mcraptor, gtfs, query_range_mcraptor\n",
    "import os"
   ]
  },
  {
   "cell_type": "code",
   "outputs": [
    {
     "ename": "TypeError",
     "evalue": "'module' object is not callable",
     "output_type": "error",
     "traceback": [
      "\u001B[0;31m---------------------------------------------------------------------------\u001B[0m",
      "\u001B[0;31mTypeError\u001B[0m                                 Traceback (most recent call last)",
      "Cell \u001B[0;32mIn[12], line 8\u001B[0m\n\u001B[1;32m      5\u001B[0m icd_fix \u001B[38;5;241m=\u001B[39m \u001B[38;5;28;01mFalse\u001B[39;00m\n\u001B[1;32m      7\u001B[0m \u001B[38;5;66;03m#agency = pd.read_csv(\"gtfs/data/sl/agency.txt\")\u001B[39;00m\n\u001B[0;32m----> 8\u001B[0m \u001B[43mgtfs\u001B[49m\u001B[38;5;241;43m.\u001B[39;49m\u001B[43mtimetable\u001B[49m\u001B[43m(\u001B[49m\u001B[43minput_folder\u001B[49m\u001B[43m,\u001B[49m\u001B[43m \u001B[49m\u001B[43mdeparture_date\u001B[49m\u001B[43m)\u001B[49m\n",
      "\u001B[0;31mTypeError\u001B[0m: 'module' object is not callable"
     ]
    }
   ],
   "source": [
    "\n",
    "input_folder = os.path.join('data', 'sl')\n",
    "output_folder = \"gtfs/data/output\"\n",
    "departure_date = \"2024-02-12\"\n",
    "agency = \"sl\"\n",
    "icd_fix = False\n",
    "\n",
    "#agency = pd.read_csv(\"gtfs/data/sl/agency.txt\")\n",
    "gtfs.timetable(input_folder, departure_date)"
   ],
   "metadata": {
    "collapsed": false,
    "ExecuteTime": {
     "end_time": "2024-03-11T18:39:58.321368Z",
     "start_time": "2024-03-11T18:39:58.283933Z"
    }
   },
   "id": "a7791913bad3a83",
   "execution_count": 12
  },
  {
   "cell_type": "code",
   "outputs": [],
   "source": [],
   "metadata": {
    "collapsed": false
   },
   "id": "c547f29501a1dd8f"
  }
 ],
 "metadata": {
  "kernelspec": {
   "display_name": "Python 3",
   "language": "python",
   "name": "python3"
  },
  "language_info": {
   "codemirror_mode": {
    "name": "ipython",
    "version": 2
   },
   "file_extension": ".py",
   "mimetype": "text/x-python",
   "name": "python",
   "nbconvert_exporter": "python",
   "pygments_lexer": "ipython2",
   "version": "2.7.6"
  }
 },
 "nbformat": 4,
 "nbformat_minor": 5
}

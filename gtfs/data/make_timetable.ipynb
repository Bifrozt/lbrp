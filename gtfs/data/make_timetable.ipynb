{
 "cells": [
  {
   "cell_type": "code",
   "execution_count": 5,
   "id": "initial_id",
   "metadata": {
    "collapsed": true,
    "ExecuteTime": {
     "end_time": "2024-04-28T16:14:23.632602Z",
     "start_time": "2024-04-28T16:14:19.077911Z"
    }
   },
   "outputs": [
    {
     "ename": "ValueError",
     "evalue": "Distance units are required and must lie in ['ft', 'mi', 'm', 'km']",
     "output_type": "error",
     "traceback": [
      "\u001B[0;31m---------------------------------------------------------------------------\u001B[0m",
      "\u001B[0;31mValueError\u001B[0m                                Traceback (most recent call last)",
      "Cell \u001B[0;32mIn[5], line 44\u001B[0m\n\u001B[1;32m     42\u001B[0m dates \u001B[38;5;241m=\u001B[39m [\u001B[38;5;124m\"\u001B[39m\u001B[38;5;124m20240217\u001B[39m\u001B[38;5;124m\"\u001B[39m]\n\u001B[1;32m     43\u001B[0m gtfs_folder \u001B[38;5;241m=\u001B[39m \u001B[38;5;124m'\u001B[39m\u001B[38;5;124msl\u001B[39m\u001B[38;5;124m'\u001B[39m\n\u001B[0;32m---> 44\u001B[0m feed \u001B[38;5;241m=\u001B[39m \u001B[43mgk\u001B[49m\u001B[38;5;241;43m.\u001B[39;49m\u001B[43mread_feed\u001B[49m\u001B[43m(\u001B[49m\u001B[43mgtfs_folder\u001B[49m\u001B[43m,\u001B[49m\u001B[43m \u001B[49m\u001B[38;5;124;43m\"\u001B[39;49m\u001B[38;5;124;43mr\u001B[39;49m\u001B[38;5;124;43m\"\u001B[39;49m\u001B[43m)\u001B[49m \u001B[38;5;66;03m#datetime.today().strftime('%Y-%m-%d')\u001B[39;00m\n\u001B[1;32m     46\u001B[0m nearby_stops \u001B[38;5;241m=\u001B[39m find_nearby_stops(feed, user_latitude, user_longitude)\n\u001B[1;32m     47\u001B[0m relevant_routes \u001B[38;5;241m=\u001B[39m find_relevant_routes(feed, nearby_stops)\n",
      "File \u001B[0;32m~/anaconda3/envs/geo_env/lib/python3.12/site-packages/gtfs_kit/feed.py:521\u001B[0m, in \u001B[0;36mread_feed\u001B[0;34m(path_or_url, dist_units)\u001B[0m\n\u001B[1;32m    519\u001B[0m     path_exists \u001B[38;5;241m=\u001B[39m \u001B[38;5;28;01mFalse\u001B[39;00m\n\u001B[1;32m    520\u001B[0m \u001B[38;5;28;01mif\u001B[39;00m path_exists:\n\u001B[0;32m--> 521\u001B[0m     \u001B[38;5;28;01mreturn\u001B[39;00m \u001B[43m_read_feed_from_path\u001B[49m\u001B[43m(\u001B[49m\u001B[43mpath_or_url\u001B[49m\u001B[43m,\u001B[49m\u001B[43m \u001B[49m\u001B[43mdist_units\u001B[49m\u001B[38;5;241;43m=\u001B[39;49m\u001B[43mdist_units\u001B[49m\u001B[43m)\u001B[49m\n\u001B[1;32m    522\u001B[0m \u001B[38;5;28;01melif\u001B[39;00m requests\u001B[38;5;241m.\u001B[39mhead(path_or_url)\u001B[38;5;241m.\u001B[39mok:\n\u001B[1;32m    523\u001B[0m     \u001B[38;5;28;01mreturn\u001B[39;00m _read_feed_from_url(path_or_url, dist_units\u001B[38;5;241m=\u001B[39mdist_units)\n",
      "File \u001B[0;32m~/anaconda3/envs/geo_env/lib/python3.12/site-packages/gtfs_kit/feed.py:477\u001B[0m, in \u001B[0;36m_read_feed_from_path\u001B[0;34m(path, dist_units)\u001B[0m\n\u001B[1;32m    474\u001B[0m     tmp_dir\u001B[38;5;241m.\u001B[39mcleanup()\n\u001B[1;32m    476\u001B[0m \u001B[38;5;66;03m# Create feed\u001B[39;00m\n\u001B[0;32m--> 477\u001B[0m \u001B[38;5;28;01mreturn\u001B[39;00m \u001B[43mFeed\u001B[49m\u001B[43m(\u001B[49m\u001B[38;5;241;43m*\u001B[39;49m\u001B[38;5;241;43m*\u001B[39;49m\u001B[43mfeed_dict\u001B[49m\u001B[43m)\u001B[49m\n",
      "File \u001B[0;32m~/anaconda3/envs/geo_env/lib/python3.12/site-packages/gtfs_kit/feed.py:208\u001B[0m, in \u001B[0;36mFeed.__init__\u001B[0;34m(self, dist_units, agency, stops, routes, trips, stop_times, calendar, calendar_dates, fare_attributes, fare_rules, shapes, frequencies, transfers, feed_info, attributions)\u001B[0m\n\u001B[1;32m    206\u001B[0m \u001B[38;5;28;01mfor\u001B[39;00m prop, val \u001B[38;5;129;01min\u001B[39;00m \u001B[38;5;28mlocals\u001B[39m()\u001B[38;5;241m.\u001B[39mitems():\n\u001B[1;32m    207\u001B[0m     \u001B[38;5;28;01mif\u001B[39;00m prop \u001B[38;5;129;01min\u001B[39;00m cs\u001B[38;5;241m.\u001B[39mFEED_ATTRS_1:\n\u001B[0;32m--> 208\u001B[0m         \u001B[38;5;28;43msetattr\u001B[39;49m\u001B[43m(\u001B[49m\u001B[38;5;28;43mself\u001B[39;49m\u001B[43m,\u001B[49m\u001B[43m \u001B[49m\u001B[43mprop\u001B[49m\u001B[43m,\u001B[49m\u001B[43m \u001B[49m\u001B[43mval\u001B[49m\u001B[43m)\u001B[49m\n",
      "File \u001B[0;32m~/anaconda3/envs/geo_env/lib/python3.12/site-packages/gtfs_kit/feed.py:220\u001B[0m, in \u001B[0;36mFeed.dist_units\u001B[0;34m(self, val)\u001B[0m\n\u001B[1;32m    217\u001B[0m \u001B[38;5;129m@dist_units\u001B[39m\u001B[38;5;241m.\u001B[39msetter\n\u001B[1;32m    218\u001B[0m \u001B[38;5;28;01mdef\u001B[39;00m \u001B[38;5;21mdist_units\u001B[39m(\u001B[38;5;28mself\u001B[39m, val):\n\u001B[1;32m    219\u001B[0m     \u001B[38;5;28;01mif\u001B[39;00m val \u001B[38;5;129;01mnot\u001B[39;00m \u001B[38;5;129;01min\u001B[39;00m cs\u001B[38;5;241m.\u001B[39mDIST_UNITS:\n\u001B[0;32m--> 220\u001B[0m         \u001B[38;5;28;01mraise\u001B[39;00m \u001B[38;5;167;01mValueError\u001B[39;00m(\n\u001B[1;32m    221\u001B[0m             \u001B[38;5;124mf\u001B[39m\u001B[38;5;124m\"\u001B[39m\u001B[38;5;124mDistance units are required and \u001B[39m\u001B[38;5;124m\"\u001B[39m \u001B[38;5;124mf\u001B[39m\u001B[38;5;124m\"\u001B[39m\u001B[38;5;124mmust lie in \u001B[39m\u001B[38;5;132;01m{\u001B[39;00mcs\u001B[38;5;241m.\u001B[39mDIST_UNITS\u001B[38;5;132;01m}\u001B[39;00m\u001B[38;5;124m\"\u001B[39m\n\u001B[1;32m    222\u001B[0m         )\n\u001B[1;32m    223\u001B[0m     \u001B[38;5;28;01melse\u001B[39;00m:\n\u001B[1;32m    224\u001B[0m         \u001B[38;5;28mself\u001B[39m\u001B[38;5;241m.\u001B[39m_dist_units \u001B[38;5;241m=\u001B[39m val\n",
      "\u001B[0;31mValueError\u001B[0m: Distance units are required and must lie in ['ft', 'mi', 'm', 'km']"
     ]
    }
   ],
   "source": [
    "from datetime import datetime\n",
    "import gtfs_kit as gk\n",
    "from gtfs_functions import Feed\n",
    "from shapely.geometry import Point\n",
    "\n",
    "# Step 1: Obtain User Geolocation\n",
    "# Example: User's previous geolocation data (latitude, longitude)\n",
    "user_latitude = 59.314849\n",
    "user_longitude = 18.051655\n",
    "\n",
    "# Step 2: Identify Nearby Stops\n",
    "def find_nearby_stops(feed, user_latitude, user_longitude, distance_threshold=100):\n",
    "    user_point = Point(user_longitude, user_latitude)\n",
    "    stops = feed.stops.copy()\n",
    "    stops['geometry'] = gk.utils.geoseries_from_latlon(stops['stop_lat'], stops['stop_lon'])\n",
    "    stops['distance'] = stops['geometry'].distance(user_point)\n",
    "    nearby_stops = stops[stops['distance'] < distance_threshold]\n",
    "    return nearby_stops\n",
    "\n",
    "# Step 3: Extract Relevant Routes\n",
    "def find_relevant_routes(feed, nearby_stops):\n",
    "    stop_times = feed.stop_times.copy()\n",
    "    relevant_stop_times = stop_times[stop_times['stop_id'].isin(nearby_stops['stop_id'])]\n",
    "    relevant_trips = feed.trips[feed.trips['trip_id'].isin(relevant_stop_times['trip_id'])]\n",
    "    relevant_routes = feed.routes[feed.routes['route_id'].isin(relevant_trips['route_id'].unique())]\n",
    "    return relevant_routes\n",
    "\n",
    "# Step 4: Filter Timetable\n",
    "def filter_timetable(feed, relevant_routes):\n",
    "    relevant_trips = feed.trips[feed.trips['route_id'].isin(relevant_routes['route_id'])]\n",
    "    relevant_stop_times = feed.stop_times[feed.stop_times['trip_id'].isin(relevant_trips['trip_id'])]\n",
    "    return relevant_stop_times\n",
    "\n",
    "# Step 5: Optimize Timetable (if needed)\n",
    "\n",
    "# Step 6: Generate New Timetable\n",
    "def generate_new_timetable(feed, relevant_stop_times):\n",
    "    # Convert relevant_stop_times to a DataFrame or other suitable format\n",
    "    new_timetable = relevant_stop_times\n",
    "    return new_timetable\n",
    "\n",
    "# Example usage\n",
    "dates = [\"20240217\"]\n",
    "gtfs_folder = 'sl'\n",
    "feed = gk.read_feed()\n",
    "\n",
    "nearby_stops = find_nearby_stops(feed, user_latitude, user_longitude)\n",
    "relevant_routes = find_relevant_routes(feed, nearby_stops)\n",
    "relevant_stop_times = filter_timetable(feed, relevant_routes)\n",
    "new_timetable = generate_new_timetable(feed, relevant_stop_times)\n"
   ]
  },
  {
   "cell_type": "code",
   "outputs": [],
   "source": [
    "new_timetable"
   ],
   "metadata": {
    "collapsed": false
   },
   "id": "a7791913bad3a83",
   "execution_count": null
  },
  {
   "cell_type": "code",
   "outputs": [],
   "source": [],
   "metadata": {
    "collapsed": false
   },
   "id": "c547f29501a1dd8f",
   "execution_count": null
  },
  {
   "cell_type": "code",
   "outputs": [],
   "source": [],
   "metadata": {
    "collapsed": false
   },
   "id": "31dde23def75bcf7"
  }
 ],
 "metadata": {
  "kernelspec": {
   "display_name": "Python 3",
   "language": "python",
   "name": "python3"
  },
  "language_info": {
   "codemirror_mode": {
    "name": "ipython",
    "version": 2
   },
   "file_extension": ".py",
   "mimetype": "text/x-python",
   "name": "python",
   "nbconvert_exporter": "python",
   "pygments_lexer": "ipython2",
   "version": "2.7.6"
  }
 },
 "nbformat": 4,
 "nbformat_minor": 5
}

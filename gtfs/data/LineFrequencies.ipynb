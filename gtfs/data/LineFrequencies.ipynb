{
 "cells": [
  {
   "cell_type": "code",
   "execution_count": 1,
   "id": "initial_id",
   "metadata": {
    "collapsed": true,
    "ExecuteTime": {
     "end_time": "2024-04-18T05:40:27.006817Z",
     "start_time": "2024-04-18T05:40:22.888501Z"
    }
   },
   "outputs": [
    {
     "name": "stderr",
     "output_type": "stream",
     "text": [
      "INFO:root:Reading \"calendar.txt\".\n",
      "INFO:root:Reading \"calendar_dates.txt\".\n"
     ]
    },
    {
     "ename": "AttributeError",
     "evalue": "Can only use .dt accessor with datetimelike values",
     "output_type": "error",
     "traceback": [
      "\u001B[0;31m---------------------------------------------------------------------------\u001B[0m",
      "\u001B[0;31mAttributeError\u001B[0m                            Traceback (most recent call last)",
      "Cell \u001B[0;32mIn[1], line 6\u001B[0m\n\u001B[1;32m      3\u001B[0m gtfs_path \u001B[38;5;241m=\u001B[39m \u001B[38;5;124m'\u001B[39m\u001B[38;5;124m/home/pablo/dev23/data_sets/sl.zip\u001B[39m\u001B[38;5;124m'\u001B[39m\n\u001B[1;32m      4\u001B[0m feed \u001B[38;5;241m=\u001B[39m Feed(gtfs_path, busiest_date\u001B[38;5;241m=\u001B[39m\u001B[38;5;28;01mTrue\u001B[39;00m)\n\u001B[0;32m----> 6\u001B[0m parsed_calendar \u001B[38;5;241m=\u001B[39m \u001B[43mFeed\u001B[49m\u001B[43m(\u001B[49m\u001B[43mgtfs_path\u001B[49m\u001B[43m)\u001B[49m\u001B[38;5;241;43m.\u001B[39;49m\u001B[43mparse_calendar\u001B[49m\u001B[43m(\u001B[49m\u001B[43m)\u001B[49m\n\u001B[1;32m      7\u001B[0m lines_freq \u001B[38;5;241m=\u001B[39m feed\u001B[38;5;241m.\u001B[39mlines_freq\n\u001B[1;32m      8\u001B[0m date_service \u001B[38;5;241m=\u001B[39m Feed(gtfs_path)\u001B[38;5;241m.\u001B[39mget_dates_service_id()\n",
      "File \u001B[0;32m~/anaconda3/envs/geo_env/lib/python3.12/site-packages/gtfs_functions/gtfs_functions.py:512\u001B[0m, in \u001B[0;36mFeed.parse_calendar\u001B[0;34m(self)\u001B[0m\n\u001B[1;32m    510\u001B[0m \u001B[38;5;66;03m# Keep the service_ids that apply to at least one date\u001B[39;00m\n\u001B[1;32m    511\u001B[0m t \u001B[38;5;241m=\u001B[39m t[t\u001B[38;5;241m.\u001B[39mfiltered_dates\u001B[38;5;241m.\u001B[39mnotnull()]\n\u001B[0;32m--> 512\u001B[0m t[\u001B[38;5;124m'\u001B[39m\u001B[38;5;124mfiltered_dates\u001B[39m\u001B[38;5;124m'\u001B[39m] \u001B[38;5;241m=\u001B[39m \u001B[43mt\u001B[49m\u001B[38;5;241;43m.\u001B[39;49m\u001B[43mfiltered_dates\u001B[49m\u001B[38;5;241;43m.\u001B[39;49m\u001B[43mdt\u001B[49m\u001B[38;5;241m.\u001B[39mdate\u001B[38;5;241m.\u001B[39mastype(\u001B[38;5;28mstr\u001B[39m)\n\u001B[1;32m    514\u001B[0m t \u001B[38;5;241m=\u001B[39m t\u001B[38;5;241m.\u001B[39mgroupby(\u001B[38;5;124m'\u001B[39m\u001B[38;5;124mfiltered_dates\u001B[39m\u001B[38;5;124m'\u001B[39m)\u001B[38;5;241m.\u001B[39mservice_id\u001B[38;5;241m.\u001B[39mapply(\u001B[38;5;28mlist\u001B[39m)\n\u001B[1;32m    516\u001B[0m \u001B[38;5;66;03m# Create dictionary with dates as keys and service_id as items\u001B[39;00m\n",
      "File \u001B[0;32m~/anaconda3/envs/geo_env/lib/python3.12/site-packages/pandas/core/generic.py:6296\u001B[0m, in \u001B[0;36mNDFrame.__getattr__\u001B[0;34m(self, name)\u001B[0m\n\u001B[1;32m   6289\u001B[0m \u001B[38;5;28;01mif\u001B[39;00m (\n\u001B[1;32m   6290\u001B[0m     name \u001B[38;5;129;01mnot\u001B[39;00m \u001B[38;5;129;01min\u001B[39;00m \u001B[38;5;28mself\u001B[39m\u001B[38;5;241m.\u001B[39m_internal_names_set\n\u001B[1;32m   6291\u001B[0m     \u001B[38;5;129;01mand\u001B[39;00m name \u001B[38;5;129;01mnot\u001B[39;00m \u001B[38;5;129;01min\u001B[39;00m \u001B[38;5;28mself\u001B[39m\u001B[38;5;241m.\u001B[39m_metadata\n\u001B[1;32m   6292\u001B[0m     \u001B[38;5;129;01mand\u001B[39;00m name \u001B[38;5;129;01mnot\u001B[39;00m \u001B[38;5;129;01min\u001B[39;00m \u001B[38;5;28mself\u001B[39m\u001B[38;5;241m.\u001B[39m_accessors\n\u001B[1;32m   6293\u001B[0m     \u001B[38;5;129;01mand\u001B[39;00m \u001B[38;5;28mself\u001B[39m\u001B[38;5;241m.\u001B[39m_info_axis\u001B[38;5;241m.\u001B[39m_can_hold_identifiers_and_holds_name(name)\n\u001B[1;32m   6294\u001B[0m ):\n\u001B[1;32m   6295\u001B[0m     \u001B[38;5;28;01mreturn\u001B[39;00m \u001B[38;5;28mself\u001B[39m[name]\n\u001B[0;32m-> 6296\u001B[0m \u001B[38;5;28;01mreturn\u001B[39;00m \u001B[38;5;28;43mobject\u001B[39;49m\u001B[38;5;241;43m.\u001B[39;49m\u001B[38;5;21;43m__getattribute__\u001B[39;49m\u001B[43m(\u001B[49m\u001B[38;5;28;43mself\u001B[39;49m\u001B[43m,\u001B[49m\u001B[43m \u001B[49m\u001B[43mname\u001B[49m\u001B[43m)\u001B[49m\n",
      "File \u001B[0;32m~/anaconda3/envs/geo_env/lib/python3.12/site-packages/pandas/core/accessor.py:224\u001B[0m, in \u001B[0;36mCachedAccessor.__get__\u001B[0;34m(self, obj, cls)\u001B[0m\n\u001B[1;32m    221\u001B[0m \u001B[38;5;28;01mif\u001B[39;00m obj \u001B[38;5;129;01mis\u001B[39;00m \u001B[38;5;28;01mNone\u001B[39;00m:\n\u001B[1;32m    222\u001B[0m     \u001B[38;5;66;03m# we're accessing the attribute of the class, i.e., Dataset.geo\u001B[39;00m\n\u001B[1;32m    223\u001B[0m     \u001B[38;5;28;01mreturn\u001B[39;00m \u001B[38;5;28mself\u001B[39m\u001B[38;5;241m.\u001B[39m_accessor\n\u001B[0;32m--> 224\u001B[0m accessor_obj \u001B[38;5;241m=\u001B[39m \u001B[38;5;28;43mself\u001B[39;49m\u001B[38;5;241;43m.\u001B[39;49m\u001B[43m_accessor\u001B[49m\u001B[43m(\u001B[49m\u001B[43mobj\u001B[49m\u001B[43m)\u001B[49m\n\u001B[1;32m    225\u001B[0m \u001B[38;5;66;03m# Replace the property with the accessor object. Inspired by:\u001B[39;00m\n\u001B[1;32m    226\u001B[0m \u001B[38;5;66;03m# https://www.pydanny.com/cached-property.html\u001B[39;00m\n\u001B[1;32m    227\u001B[0m \u001B[38;5;66;03m# We need to use object.__setattr__ because we overwrite __setattr__ on\u001B[39;00m\n\u001B[1;32m    228\u001B[0m \u001B[38;5;66;03m# NDFrame\u001B[39;00m\n\u001B[1;32m    229\u001B[0m \u001B[38;5;28mobject\u001B[39m\u001B[38;5;241m.\u001B[39m\u001B[38;5;21m__setattr__\u001B[39m(obj, \u001B[38;5;28mself\u001B[39m\u001B[38;5;241m.\u001B[39m_name, accessor_obj)\n",
      "File \u001B[0;32m~/anaconda3/envs/geo_env/lib/python3.12/site-packages/pandas/core/indexes/accessors.py:643\u001B[0m, in \u001B[0;36mCombinedDatetimelikeProperties.__new__\u001B[0;34m(cls, data)\u001B[0m\n\u001B[1;32m    640\u001B[0m \u001B[38;5;28;01melif\u001B[39;00m \u001B[38;5;28misinstance\u001B[39m(data\u001B[38;5;241m.\u001B[39mdtype, PeriodDtype):\n\u001B[1;32m    641\u001B[0m     \u001B[38;5;28;01mreturn\u001B[39;00m PeriodProperties(data, orig)\n\u001B[0;32m--> 643\u001B[0m \u001B[38;5;28;01mraise\u001B[39;00m \u001B[38;5;167;01mAttributeError\u001B[39;00m(\u001B[38;5;124m\"\u001B[39m\u001B[38;5;124mCan only use .dt accessor with datetimelike values\u001B[39m\u001B[38;5;124m\"\u001B[39m)\n",
      "\u001B[0;31mAttributeError\u001B[0m: Can only use .dt accessor with datetimelike values"
     ]
    }
   ],
   "source": [
    "from gtfs_functions import Feed\n",
    "\n",
    "gtfs_path = '/home/pablo/dev23/data_sets/sl.zip'\n",
    "feed = Feed(gtfs_path, busiest_date=True)\n",
    "\n",
    "parsed_calendar = Feed(gtfs_path).parse_calendar()\n",
    "lines_freq = feed.lines_freq\n",
    "date_service = Feed(gtfs_path).get_dates_service_id()"
   ]
  },
  {
   "cell_type": "code",
   "outputs": [],
   "source": [
    "routes = feed.routes\n",
    "trips = feed.trips\n",
    "stops = feed.stops\n",
    "stop_times = feed.stop_times\n",
    "shapes = feed.shapes"
   ],
   "metadata": {
    "collapsed": false
   },
   "id": "4433abcbebf740a8"
  },
  {
   "cell_type": "code",
   "outputs": [
    {
     "name": "stderr",
     "output_type": "stream",
     "text": [
      "INFO:root:Reading \"stop_times.txt\".\n",
      "INFO:root:get trips in stop_times\n",
      "INFO:root:accessing trips\n",
      "INFO:root:Reading \"trips.txt\".\n"
     ]
    },
    {
     "ename": "AttributeError",
     "evalue": "Can only use .dt accessor with datetimelike values",
     "output_type": "error",
     "traceback": [
      "\u001B[0;31m---------------------------------------------------------------------------\u001B[0m",
      "\u001B[0;31mAttributeError\u001B[0m                            Traceback (most recent call last)",
      "Cell \u001B[0;32mIn[28], line 1\u001B[0m\n\u001B[0;32m----> 1\u001B[0m lines_freq \u001B[38;5;241m=\u001B[39m \u001B[43mfeed\u001B[49m\u001B[38;5;241;43m.\u001B[39;49m\u001B[43mlines_freq\u001B[49m\n",
      "File \u001B[0;32m~/anaconda3/envs/geo_env/lib/python3.12/site-packages/gtfs_functions/gtfs_functions.py:227\u001B[0m, in \u001B[0;36mFeed.lines_freq\u001B[0;34m(self)\u001B[0m\n\u001B[1;32m    224\u001B[0m \u001B[38;5;129m@property\u001B[39m\n\u001B[1;32m    225\u001B[0m \u001B[38;5;28;01mdef\u001B[39;00m \u001B[38;5;21mlines_freq\u001B[39m(\u001B[38;5;28mself\u001B[39m):\n\u001B[1;32m    226\u001B[0m     \u001B[38;5;28;01mif\u001B[39;00m \u001B[38;5;28mself\u001B[39m\u001B[38;5;241m.\u001B[39m_lines_freq \u001B[38;5;129;01mis\u001B[39;00m \u001B[38;5;28;01mNone\u001B[39;00m:\n\u001B[0;32m--> 227\u001B[0m         \u001B[38;5;28mself\u001B[39m\u001B[38;5;241m.\u001B[39m_lines_freq \u001B[38;5;241m=\u001B[39m \u001B[38;5;28;43mself\u001B[39;49m\u001B[38;5;241;43m.\u001B[39;49m\u001B[43mget_lines_freq\u001B[49m\u001B[43m(\u001B[49m\u001B[43m)\u001B[49m\n\u001B[1;32m    229\u001B[0m     \u001B[38;5;28;01mreturn\u001B[39;00m \u001B[38;5;28mself\u001B[39m\u001B[38;5;241m.\u001B[39m_lines_freq\n",
      "File \u001B[0;32m~/anaconda3/envs/geo_env/lib/python3.12/site-packages/gtfs_functions/gtfs_functions.py:790\u001B[0m, in \u001B[0;36mFeed.get_lines_freq\u001B[0;34m(self)\u001B[0m\n\u001B[1;32m    783\u001B[0m \u001B[38;5;28;01mdef\u001B[39;00m \u001B[38;5;21mget_lines_freq\u001B[39m(\u001B[38;5;28mself\u001B[39m):\n\u001B[1;32m    784\u001B[0m \u001B[38;5;250m    \u001B[39m\u001B[38;5;124;03m\"\"\"\u001B[39;00m\n\u001B[1;32m    785\u001B[0m \u001B[38;5;124;03m    Calculates the frequency for each pattern of a route.\u001B[39;00m\n\u001B[1;32m    786\u001B[0m \u001B[38;5;124;03m    Returns the bus frequency in minutes/bus broken down by\u001B[39;00m\n\u001B[1;32m    787\u001B[0m \u001B[38;5;124;03m    time window.\u001B[39;00m\n\u001B[1;32m    788\u001B[0m \u001B[38;5;124;03m    \"\"\"\u001B[39;00m\n\u001B[0;32m--> 790\u001B[0m     stop_times \u001B[38;5;241m=\u001B[39m \u001B[38;5;28;43mself\u001B[39;49m\u001B[38;5;241;43m.\u001B[39;49m\u001B[43mstop_times\u001B[49m\n\u001B[1;32m    791\u001B[0m     shapes \u001B[38;5;241m=\u001B[39m \u001B[38;5;28mself\u001B[39m\u001B[38;5;241m.\u001B[39mshapes\n\u001B[1;32m    792\u001B[0m     cutoffs \u001B[38;5;241m=\u001B[39m \u001B[38;5;28mself\u001B[39m\u001B[38;5;241m.\u001B[39mtime_windows\n",
      "File \u001B[0;32m~/anaconda3/envs/geo_env/lib/python3.12/site-packages/gtfs_functions/gtfs_functions.py:206\u001B[0m, in \u001B[0;36mFeed.stop_times\u001B[0;34m(self)\u001B[0m\n\u001B[1;32m    203\u001B[0m \u001B[38;5;129m@property\u001B[39m\n\u001B[1;32m    204\u001B[0m \u001B[38;5;28;01mdef\u001B[39;00m \u001B[38;5;21mstop_times\u001B[39m(\u001B[38;5;28mself\u001B[39m):\n\u001B[1;32m    205\u001B[0m     \u001B[38;5;28;01mif\u001B[39;00m \u001B[38;5;28mself\u001B[39m\u001B[38;5;241m.\u001B[39m_stop_times \u001B[38;5;129;01mis\u001B[39;00m \u001B[38;5;28;01mNone\u001B[39;00m:\n\u001B[0;32m--> 206\u001B[0m         \u001B[38;5;28mself\u001B[39m\u001B[38;5;241m.\u001B[39m_stop_times \u001B[38;5;241m=\u001B[39m \u001B[38;5;28;43mself\u001B[39;49m\u001B[38;5;241;43m.\u001B[39;49m\u001B[43mget_stop_times\u001B[49m\u001B[43m(\u001B[49m\u001B[43m)\u001B[49m\n\u001B[1;32m    208\u001B[0m     \u001B[38;5;28;01mreturn\u001B[39;00m \u001B[38;5;28mself\u001B[39m\u001B[38;5;241m.\u001B[39m_stop_times\n",
      "File \u001B[0;32m~/anaconda3/envs/geo_env/lib/python3.12/site-packages/gtfs_functions/gtfs_functions.py:679\u001B[0m, in \u001B[0;36mFeed.get_stop_times\u001B[0;34m(self)\u001B[0m\n\u001B[1;32m    677\u001B[0m \u001B[38;5;28;01melse\u001B[39;00m:\n\u001B[1;32m    678\u001B[0m     logging\u001B[38;5;241m.\u001B[39minfo(\u001B[38;5;124m'\u001B[39m\u001B[38;5;124mget trips in stop_times\u001B[39m\u001B[38;5;124m'\u001B[39m)\n\u001B[0;32m--> 679\u001B[0m     trips \u001B[38;5;241m=\u001B[39m \u001B[38;5;28;43mself\u001B[39;49m\u001B[38;5;241;43m.\u001B[39;49m\u001B[43mtrips\u001B[49m\n\u001B[1;32m    680\u001B[0m stops \u001B[38;5;241m=\u001B[39m \u001B[38;5;28mself\u001B[39m\u001B[38;5;241m.\u001B[39mstops\n\u001B[1;32m    682\u001B[0m \u001B[38;5;66;03m# Fix data types\u001B[39;00m\n",
      "File \u001B[0;32m~/anaconda3/envs/geo_env/lib/python3.12/site-packages/gtfs_functions/gtfs_functions.py:176\u001B[0m, in \u001B[0;36mFeed.trips\u001B[0;34m(self)\u001B[0m\n\u001B[1;32m    174\u001B[0m logging\u001B[38;5;241m.\u001B[39minfo(\u001B[38;5;124m'\u001B[39m\u001B[38;5;124maccessing trips\u001B[39m\u001B[38;5;124m'\u001B[39m)\n\u001B[1;32m    175\u001B[0m \u001B[38;5;28;01mif\u001B[39;00m \u001B[38;5;28mself\u001B[39m\u001B[38;5;241m.\u001B[39m_trips \u001B[38;5;129;01mis\u001B[39;00m \u001B[38;5;28;01mNone\u001B[39;00m:\n\u001B[0;32m--> 176\u001B[0m     \u001B[38;5;28mself\u001B[39m\u001B[38;5;241m.\u001B[39m_trips \u001B[38;5;241m=\u001B[39m \u001B[38;5;28;43mself\u001B[39;49m\u001B[38;5;241;43m.\u001B[39;49m\u001B[43mget_trips\u001B[49m\u001B[43m(\u001B[49m\u001B[43m)\u001B[49m\n\u001B[1;32m    178\u001B[0m \u001B[38;5;28;01mif\u001B[39;00m \u001B[38;5;28mself\u001B[39m\u001B[38;5;241m.\u001B[39m_patterns \u001B[38;5;129;01mand\u001B[39;00m \u001B[38;5;28mself\u001B[39m\u001B[38;5;241m.\u001B[39m_trips_patterns \u001B[38;5;129;01mis\u001B[39;00m \u001B[38;5;28;01mNone\u001B[39;00m:\n\u001B[1;32m    179\u001B[0m     (trips_patterns, routes_patterns) \u001B[38;5;241m=\u001B[39m \u001B[38;5;28mself\u001B[39m\u001B[38;5;241m.\u001B[39mget_routes_patterns(\n\u001B[1;32m    180\u001B[0m             \u001B[38;5;28mself\u001B[39m\u001B[38;5;241m.\u001B[39m_trips)\n",
      "File \u001B[0;32m~/anaconda3/envs/geo_env/lib/python3.12/site-packages/gtfs_functions/gtfs_functions.py:592\u001B[0m, in \u001B[0;36mFeed.get_trips\u001B[0;34m(self)\u001B[0m\n\u001B[1;32m    581\u001B[0m \u001B[38;5;28;01mif\u001B[39;00m (\u001B[38;5;28mself\u001B[39m\u001B[38;5;241m.\u001B[39mbusiest_date) \u001B[38;5;241m|\u001B[39m (dates\u001B[38;5;241m!=\u001B[39m[]):\n\u001B[1;32m    582\u001B[0m \u001B[38;5;250m    \u001B[39m\u001B[38;5;124;03m\"\"\"\u001B[39;00m\n\u001B[1;32m    583\u001B[0m \u001B[38;5;124;03m    In the case we have three possibilites:\u001B[39;00m\n\u001B[1;32m    584\u001B[0m \u001B[38;5;124;03m    1. busiest_date=True & dates==[]: in this case the user looks for the \u001B[39;00m\n\u001B[0;32m   (...)\u001B[0m\n\u001B[1;32m    590\u001B[0m \u001B[38;5;124;03m        the \"dates\" variable at all.\u001B[39;00m\n\u001B[1;32m    591\u001B[0m \u001B[38;5;124;03m    \"\"\"\u001B[39;00m\n\u001B[0;32m--> 592\u001B[0m     dates_service_id \u001B[38;5;241m=\u001B[39m \u001B[38;5;28;43mself\u001B[39;49m\u001B[38;5;241;43m.\u001B[39;49m\u001B[43mparse_calendar\u001B[49m\u001B[43m(\u001B[49m\u001B[43m)\u001B[49m\n\u001B[1;32m    594\u001B[0m     \u001B[38;5;66;03m# If busiest_date=True, we have to count the number of trips\u001B[39;00m\n\u001B[1;32m    595\u001B[0m     \u001B[38;5;28;01mif\u001B[39;00m \u001B[38;5;28mself\u001B[39m\u001B[38;5;241m.\u001B[39mbusiest_date:\n\u001B[1;32m    596\u001B[0m         \u001B[38;5;66;03m# Trip per date\u001B[39;00m\n",
      "File \u001B[0;32m~/anaconda3/envs/geo_env/lib/python3.12/site-packages/gtfs_functions/gtfs_functions.py:512\u001B[0m, in \u001B[0;36mFeed.parse_calendar\u001B[0;34m(self)\u001B[0m\n\u001B[1;32m    510\u001B[0m \u001B[38;5;66;03m# Keep the service_ids that apply to at least one date\u001B[39;00m\n\u001B[1;32m    511\u001B[0m t \u001B[38;5;241m=\u001B[39m t[t\u001B[38;5;241m.\u001B[39mfiltered_dates\u001B[38;5;241m.\u001B[39mnotnull()]\n\u001B[0;32m--> 512\u001B[0m t[\u001B[38;5;124m'\u001B[39m\u001B[38;5;124mfiltered_dates\u001B[39m\u001B[38;5;124m'\u001B[39m] \u001B[38;5;241m=\u001B[39m \u001B[43mt\u001B[49m\u001B[38;5;241;43m.\u001B[39;49m\u001B[43mfiltered_dates\u001B[49m\u001B[38;5;241;43m.\u001B[39;49m\u001B[43mdt\u001B[49m\u001B[38;5;241m.\u001B[39mdate\u001B[38;5;241m.\u001B[39mastype(\u001B[38;5;28mstr\u001B[39m)\n\u001B[1;32m    514\u001B[0m t \u001B[38;5;241m=\u001B[39m t\u001B[38;5;241m.\u001B[39mgroupby(\u001B[38;5;124m'\u001B[39m\u001B[38;5;124mfiltered_dates\u001B[39m\u001B[38;5;124m'\u001B[39m)\u001B[38;5;241m.\u001B[39mservice_id\u001B[38;5;241m.\u001B[39mapply(\u001B[38;5;28mlist\u001B[39m)\n\u001B[1;32m    516\u001B[0m \u001B[38;5;66;03m# Create dictionary with dates as keys and service_id as items\u001B[39;00m\n",
      "File \u001B[0;32m~/anaconda3/envs/geo_env/lib/python3.12/site-packages/pandas/core/generic.py:5902\u001B[0m, in \u001B[0;36mNDFrame.__getattr__\u001B[0;34m(self, name)\u001B[0m\n\u001B[1;32m   5895\u001B[0m \u001B[38;5;28;01mif\u001B[39;00m (\n\u001B[1;32m   5896\u001B[0m     name \u001B[38;5;129;01mnot\u001B[39;00m \u001B[38;5;129;01min\u001B[39;00m \u001B[38;5;28mself\u001B[39m\u001B[38;5;241m.\u001B[39m_internal_names_set\n\u001B[1;32m   5897\u001B[0m     \u001B[38;5;129;01mand\u001B[39;00m name \u001B[38;5;129;01mnot\u001B[39;00m \u001B[38;5;129;01min\u001B[39;00m \u001B[38;5;28mself\u001B[39m\u001B[38;5;241m.\u001B[39m_metadata\n\u001B[1;32m   5898\u001B[0m     \u001B[38;5;129;01mand\u001B[39;00m name \u001B[38;5;129;01mnot\u001B[39;00m \u001B[38;5;129;01min\u001B[39;00m \u001B[38;5;28mself\u001B[39m\u001B[38;5;241m.\u001B[39m_accessors\n\u001B[1;32m   5899\u001B[0m     \u001B[38;5;129;01mand\u001B[39;00m \u001B[38;5;28mself\u001B[39m\u001B[38;5;241m.\u001B[39m_info_axis\u001B[38;5;241m.\u001B[39m_can_hold_identifiers_and_holds_name(name)\n\u001B[1;32m   5900\u001B[0m ):\n\u001B[1;32m   5901\u001B[0m     \u001B[38;5;28;01mreturn\u001B[39;00m \u001B[38;5;28mself\u001B[39m[name]\n\u001B[0;32m-> 5902\u001B[0m \u001B[38;5;28;01mreturn\u001B[39;00m \u001B[38;5;28;43mobject\u001B[39;49m\u001B[38;5;241;43m.\u001B[39;49m\u001B[38;5;21;43m__getattribute__\u001B[39;49m\u001B[43m(\u001B[49m\u001B[38;5;28;43mself\u001B[39;49m\u001B[43m,\u001B[49m\u001B[43m \u001B[49m\u001B[43mname\u001B[49m\u001B[43m)\u001B[49m\n",
      "File \u001B[0;32m~/anaconda3/envs/geo_env/lib/python3.12/site-packages/pandas/core/accessor.py:182\u001B[0m, in \u001B[0;36mCachedAccessor.__get__\u001B[0;34m(self, obj, cls)\u001B[0m\n\u001B[1;32m    179\u001B[0m \u001B[38;5;28;01mif\u001B[39;00m obj \u001B[38;5;129;01mis\u001B[39;00m \u001B[38;5;28;01mNone\u001B[39;00m:\n\u001B[1;32m    180\u001B[0m     \u001B[38;5;66;03m# we're accessing the attribute of the class, i.e., Dataset.geo\u001B[39;00m\n\u001B[1;32m    181\u001B[0m     \u001B[38;5;28;01mreturn\u001B[39;00m \u001B[38;5;28mself\u001B[39m\u001B[38;5;241m.\u001B[39m_accessor\n\u001B[0;32m--> 182\u001B[0m accessor_obj \u001B[38;5;241m=\u001B[39m \u001B[38;5;28;43mself\u001B[39;49m\u001B[38;5;241;43m.\u001B[39;49m\u001B[43m_accessor\u001B[49m\u001B[43m(\u001B[49m\u001B[43mobj\u001B[49m\u001B[43m)\u001B[49m\n\u001B[1;32m    183\u001B[0m \u001B[38;5;66;03m# Replace the property with the accessor object. Inspired by:\u001B[39;00m\n\u001B[1;32m    184\u001B[0m \u001B[38;5;66;03m# https://www.pydanny.com/cached-property.html\u001B[39;00m\n\u001B[1;32m    185\u001B[0m \u001B[38;5;66;03m# We need to use object.__setattr__ because we overwrite __setattr__ on\u001B[39;00m\n\u001B[1;32m    186\u001B[0m \u001B[38;5;66;03m# NDFrame\u001B[39;00m\n\u001B[1;32m    187\u001B[0m \u001B[38;5;28mobject\u001B[39m\u001B[38;5;241m.\u001B[39m\u001B[38;5;21m__setattr__\u001B[39m(obj, \u001B[38;5;28mself\u001B[39m\u001B[38;5;241m.\u001B[39m_name, accessor_obj)\n",
      "File \u001B[0;32m~/anaconda3/envs/geo_env/lib/python3.12/site-packages/pandas/core/indexes/accessors.py:512\u001B[0m, in \u001B[0;36mCombinedDatetimelikeProperties.__new__\u001B[0;34m(cls, data)\u001B[0m\n\u001B[1;32m    509\u001B[0m \u001B[38;5;28;01melif\u001B[39;00m is_period_dtype(data\u001B[38;5;241m.\u001B[39mdtype):\n\u001B[1;32m    510\u001B[0m     \u001B[38;5;28;01mreturn\u001B[39;00m PeriodProperties(data, orig)\n\u001B[0;32m--> 512\u001B[0m \u001B[38;5;28;01mraise\u001B[39;00m \u001B[38;5;167;01mAttributeError\u001B[39;00m(\u001B[38;5;124m\"\u001B[39m\u001B[38;5;124mCan only use .dt accessor with datetimelike values\u001B[39m\u001B[38;5;124m\"\u001B[39m)\n",
      "\u001B[0;31mAttributeError\u001B[0m: Can only use .dt accessor with datetimelike values"
     ]
    }
   ],
   "source": [
    "lines_freq = feed.lines_freq"
   ],
   "metadata": {
    "collapsed": false,
    "ExecuteTime": {
     "end_time": "2024-03-09T19:32:58.245249Z",
     "start_time": "2024-03-09T19:32:54.221914Z"
    }
   },
   "id": "3021bbbd53f0e1ba",
   "execution_count": 28
  },
  {
   "cell_type": "code",
   "outputs": [
    {
     "data": {
      "text/plain": "           route_id          agency_id route_short_name route_long_name  \\\n0  9011001000100000  14010000000001001                1             nan   \n1  9011001000200000  14010000000001001                2             nan   \n2  9011001000300000  14010000000001001                3             nan   \n3  9011001000400000  14010000000001001                4             nan   \n4  9011001001000000  14010000000001001               10      Blå linjen   \n5  9011001001100000  14010000000001001               11      Blå linjen   \n6  9011001001200000  14010000000001001               12    Nockebybanan   \n7  9011001001300000  14010000000001001               13     Röda linjen   \n8  9011001001400000  14010000000001001               14     Röda linjen   \n9  9011001001700000  14010000000001001               17    Gröna linjen   \n\n   route_type                route_desc  \n0         700                   blåbuss  \n1         700                   blåbuss  \n2         700                   blåbuss  \n3         700                   blåbuss  \n4         401    tunnelbanans blå linje  \n5         401    tunnelbanans blå linje  \n6         900              Nockebybanan  \n7         401   tunnelbanans röda linje  \n8         401   tunnelbanans röda linje  \n9         401  tunnelbanans gröna linje  ",
      "text/html": "<div>\n<style scoped>\n    .dataframe tbody tr th:only-of-type {\n        vertical-align: middle;\n    }\n\n    .dataframe tbody tr th {\n        vertical-align: top;\n    }\n\n    .dataframe thead th {\n        text-align: right;\n    }\n</style>\n<table border=\"1\" class=\"dataframe\">\n  <thead>\n    <tr style=\"text-align: right;\">\n      <th></th>\n      <th>route_id</th>\n      <th>agency_id</th>\n      <th>route_short_name</th>\n      <th>route_long_name</th>\n      <th>route_type</th>\n      <th>route_desc</th>\n    </tr>\n  </thead>\n  <tbody>\n    <tr>\n      <th>0</th>\n      <td>9011001000100000</td>\n      <td>14010000000001001</td>\n      <td>1</td>\n      <td>nan</td>\n      <td>700</td>\n      <td>blåbuss</td>\n    </tr>\n    <tr>\n      <th>1</th>\n      <td>9011001000200000</td>\n      <td>14010000000001001</td>\n      <td>2</td>\n      <td>nan</td>\n      <td>700</td>\n      <td>blåbuss</td>\n    </tr>\n    <tr>\n      <th>2</th>\n      <td>9011001000300000</td>\n      <td>14010000000001001</td>\n      <td>3</td>\n      <td>nan</td>\n      <td>700</td>\n      <td>blåbuss</td>\n    </tr>\n    <tr>\n      <th>3</th>\n      <td>9011001000400000</td>\n      <td>14010000000001001</td>\n      <td>4</td>\n      <td>nan</td>\n      <td>700</td>\n      <td>blåbuss</td>\n    </tr>\n    <tr>\n      <th>4</th>\n      <td>9011001001000000</td>\n      <td>14010000000001001</td>\n      <td>10</td>\n      <td>Blå linjen</td>\n      <td>401</td>\n      <td>tunnelbanans blå linje</td>\n    </tr>\n    <tr>\n      <th>5</th>\n      <td>9011001001100000</td>\n      <td>14010000000001001</td>\n      <td>11</td>\n      <td>Blå linjen</td>\n      <td>401</td>\n      <td>tunnelbanans blå linje</td>\n    </tr>\n    <tr>\n      <th>6</th>\n      <td>9011001001200000</td>\n      <td>14010000000001001</td>\n      <td>12</td>\n      <td>Nockebybanan</td>\n      <td>900</td>\n      <td>Nockebybanan</td>\n    </tr>\n    <tr>\n      <th>7</th>\n      <td>9011001001300000</td>\n      <td>14010000000001001</td>\n      <td>13</td>\n      <td>Röda linjen</td>\n      <td>401</td>\n      <td>tunnelbanans röda linje</td>\n    </tr>\n    <tr>\n      <th>8</th>\n      <td>9011001001400000</td>\n      <td>14010000000001001</td>\n      <td>14</td>\n      <td>Röda linjen</td>\n      <td>401</td>\n      <td>tunnelbanans röda linje</td>\n    </tr>\n    <tr>\n      <th>9</th>\n      <td>9011001001700000</td>\n      <td>14010000000001001</td>\n      <td>17</td>\n      <td>Gröna linjen</td>\n      <td>401</td>\n      <td>tunnelbanans gröna linje</td>\n    </tr>\n  </tbody>\n</table>\n</div>"
     },
     "execution_count": 11,
     "metadata": {},
     "output_type": "execute_result"
    }
   ],
   "source": [
    "routes = feed.routes\n",
    "routes.head(10)"
   ],
   "metadata": {
    "collapsed": false,
    "ExecuteTime": {
     "end_time": "2024-03-09T19:05:28.322393Z",
     "start_time": "2024-03-09T19:05:28.314384Z"
    }
   },
   "id": "f5462bc89e906d2e",
   "execution_count": 11
  },
  {
   "cell_type": "code",
   "outputs": [
    {
     "name": "stderr",
     "output_type": "stream",
     "text": [
      "INFO:root:accessing trips\n",
      "INFO:root:Reading \"trips.txt\".\n"
     ]
    },
    {
     "ename": "AttributeError",
     "evalue": "Can only use .dt accessor with datetimelike values",
     "output_type": "error",
     "traceback": [
      "\u001B[0;31m---------------------------------------------------------------------------\u001B[0m",
      "\u001B[0;31mAttributeError\u001B[0m                            Traceback (most recent call last)",
      "Cell \u001B[0;32mIn[18], line 1\u001B[0m\n\u001B[0;32m----> 1\u001B[0m \u001B[43mfeed\u001B[49m\u001B[38;5;241;43m.\u001B[39;49m\u001B[43mroutes_patterns\u001B[49m\n",
      "File \u001B[0;32m~/anaconda3/envs/geo_env/lib/python3.12/site-packages/gtfs_functions/gtfs_functions.py:124\u001B[0m, in \u001B[0;36mFeed.routes_patterns\u001B[0;34m(self)\u001B[0m\n\u001B[1;32m    119\u001B[0m \u001B[38;5;250m\u001B[39m\u001B[38;5;124;03m\"\"\"\u001B[39;00m\n\u001B[1;32m    120\u001B[0m \u001B[38;5;124;03mReturn the patterns of each route and the number of trips defined\u001B[39;00m\n\u001B[1;32m    121\u001B[0m \u001B[38;5;124;03mfor each pattern.\u001B[39;00m\n\u001B[1;32m    122\u001B[0m \u001B[38;5;124;03m\"\"\"\u001B[39;00m\n\u001B[1;32m    123\u001B[0m \u001B[38;5;28;01mif\u001B[39;00m \u001B[38;5;28mself\u001B[39m\u001B[38;5;241m.\u001B[39m_routes_patterns \u001B[38;5;129;01mis\u001B[39;00m \u001B[38;5;28;01mNone\u001B[39;00m:\n\u001B[0;32m--> 124\u001B[0m     (trips_patterns, routes_patterns) \u001B[38;5;241m=\u001B[39m \u001B[38;5;28mself\u001B[39m\u001B[38;5;241m.\u001B[39mget_routes_patterns(\u001B[38;5;28;43mself\u001B[39;49m\u001B[38;5;241;43m.\u001B[39;49m\u001B[43mtrips\u001B[49m)\n\u001B[1;32m    125\u001B[0m     \u001B[38;5;28mself\u001B[39m\u001B[38;5;241m.\u001B[39m_trips_patterns \u001B[38;5;241m=\u001B[39m trips_patterns\n\u001B[1;32m    126\u001B[0m     \u001B[38;5;28mself\u001B[39m\u001B[38;5;241m.\u001B[39m_routes_patterns \u001B[38;5;241m=\u001B[39m routes_patterns\n",
      "File \u001B[0;32m~/anaconda3/envs/geo_env/lib/python3.12/site-packages/gtfs_functions/gtfs_functions.py:176\u001B[0m, in \u001B[0;36mFeed.trips\u001B[0;34m(self)\u001B[0m\n\u001B[1;32m    174\u001B[0m logging\u001B[38;5;241m.\u001B[39minfo(\u001B[38;5;124m'\u001B[39m\u001B[38;5;124maccessing trips\u001B[39m\u001B[38;5;124m'\u001B[39m)\n\u001B[1;32m    175\u001B[0m \u001B[38;5;28;01mif\u001B[39;00m \u001B[38;5;28mself\u001B[39m\u001B[38;5;241m.\u001B[39m_trips \u001B[38;5;129;01mis\u001B[39;00m \u001B[38;5;28;01mNone\u001B[39;00m:\n\u001B[0;32m--> 176\u001B[0m     \u001B[38;5;28mself\u001B[39m\u001B[38;5;241m.\u001B[39m_trips \u001B[38;5;241m=\u001B[39m \u001B[38;5;28;43mself\u001B[39;49m\u001B[38;5;241;43m.\u001B[39;49m\u001B[43mget_trips\u001B[49m\u001B[43m(\u001B[49m\u001B[43m)\u001B[49m\n\u001B[1;32m    178\u001B[0m \u001B[38;5;28;01mif\u001B[39;00m \u001B[38;5;28mself\u001B[39m\u001B[38;5;241m.\u001B[39m_patterns \u001B[38;5;129;01mand\u001B[39;00m \u001B[38;5;28mself\u001B[39m\u001B[38;5;241m.\u001B[39m_trips_patterns \u001B[38;5;129;01mis\u001B[39;00m \u001B[38;5;28;01mNone\u001B[39;00m:\n\u001B[1;32m    179\u001B[0m     (trips_patterns, routes_patterns) \u001B[38;5;241m=\u001B[39m \u001B[38;5;28mself\u001B[39m\u001B[38;5;241m.\u001B[39mget_routes_patterns(\n\u001B[1;32m    180\u001B[0m             \u001B[38;5;28mself\u001B[39m\u001B[38;5;241m.\u001B[39m_trips)\n",
      "File \u001B[0;32m~/anaconda3/envs/geo_env/lib/python3.12/site-packages/gtfs_functions/gtfs_functions.py:592\u001B[0m, in \u001B[0;36mFeed.get_trips\u001B[0;34m(self)\u001B[0m\n\u001B[1;32m    581\u001B[0m \u001B[38;5;28;01mif\u001B[39;00m (\u001B[38;5;28mself\u001B[39m\u001B[38;5;241m.\u001B[39mbusiest_date) \u001B[38;5;241m|\u001B[39m (dates\u001B[38;5;241m!=\u001B[39m[]):\n\u001B[1;32m    582\u001B[0m \u001B[38;5;250m    \u001B[39m\u001B[38;5;124;03m\"\"\"\u001B[39;00m\n\u001B[1;32m    583\u001B[0m \u001B[38;5;124;03m    In the case we have three possibilites:\u001B[39;00m\n\u001B[1;32m    584\u001B[0m \u001B[38;5;124;03m    1. busiest_date=True & dates==[]: in this case the user looks for the \u001B[39;00m\n\u001B[0;32m   (...)\u001B[0m\n\u001B[1;32m    590\u001B[0m \u001B[38;5;124;03m        the \"dates\" variable at all.\u001B[39;00m\n\u001B[1;32m    591\u001B[0m \u001B[38;5;124;03m    \"\"\"\u001B[39;00m\n\u001B[0;32m--> 592\u001B[0m     dates_service_id \u001B[38;5;241m=\u001B[39m \u001B[38;5;28;43mself\u001B[39;49m\u001B[38;5;241;43m.\u001B[39;49m\u001B[43mparse_calendar\u001B[49m\u001B[43m(\u001B[49m\u001B[43m)\u001B[49m\n\u001B[1;32m    594\u001B[0m     \u001B[38;5;66;03m# If busiest_date=True, we have to count the number of trips\u001B[39;00m\n\u001B[1;32m    595\u001B[0m     \u001B[38;5;28;01mif\u001B[39;00m \u001B[38;5;28mself\u001B[39m\u001B[38;5;241m.\u001B[39mbusiest_date:\n\u001B[1;32m    596\u001B[0m         \u001B[38;5;66;03m# Trip per date\u001B[39;00m\n",
      "File \u001B[0;32m~/anaconda3/envs/geo_env/lib/python3.12/site-packages/gtfs_functions/gtfs_functions.py:512\u001B[0m, in \u001B[0;36mFeed.parse_calendar\u001B[0;34m(self)\u001B[0m\n\u001B[1;32m    510\u001B[0m \u001B[38;5;66;03m# Keep the service_ids that apply to at least one date\u001B[39;00m\n\u001B[1;32m    511\u001B[0m t \u001B[38;5;241m=\u001B[39m t[t\u001B[38;5;241m.\u001B[39mfiltered_dates\u001B[38;5;241m.\u001B[39mnotnull()]\n\u001B[0;32m--> 512\u001B[0m t[\u001B[38;5;124m'\u001B[39m\u001B[38;5;124mfiltered_dates\u001B[39m\u001B[38;5;124m'\u001B[39m] \u001B[38;5;241m=\u001B[39m \u001B[43mt\u001B[49m\u001B[38;5;241;43m.\u001B[39;49m\u001B[43mfiltered_dates\u001B[49m\u001B[38;5;241;43m.\u001B[39;49m\u001B[43mdt\u001B[49m\u001B[38;5;241m.\u001B[39mdate\u001B[38;5;241m.\u001B[39mastype(\u001B[38;5;28mstr\u001B[39m)\n\u001B[1;32m    514\u001B[0m t \u001B[38;5;241m=\u001B[39m t\u001B[38;5;241m.\u001B[39mgroupby(\u001B[38;5;124m'\u001B[39m\u001B[38;5;124mfiltered_dates\u001B[39m\u001B[38;5;124m'\u001B[39m)\u001B[38;5;241m.\u001B[39mservice_id\u001B[38;5;241m.\u001B[39mapply(\u001B[38;5;28mlist\u001B[39m)\n\u001B[1;32m    516\u001B[0m \u001B[38;5;66;03m# Create dictionary with dates as keys and service_id as items\u001B[39;00m\n",
      "File \u001B[0;32m~/anaconda3/envs/geo_env/lib/python3.12/site-packages/pandas/core/generic.py:5902\u001B[0m, in \u001B[0;36mNDFrame.__getattr__\u001B[0;34m(self, name)\u001B[0m\n\u001B[1;32m   5895\u001B[0m \u001B[38;5;28;01mif\u001B[39;00m (\n\u001B[1;32m   5896\u001B[0m     name \u001B[38;5;129;01mnot\u001B[39;00m \u001B[38;5;129;01min\u001B[39;00m \u001B[38;5;28mself\u001B[39m\u001B[38;5;241m.\u001B[39m_internal_names_set\n\u001B[1;32m   5897\u001B[0m     \u001B[38;5;129;01mand\u001B[39;00m name \u001B[38;5;129;01mnot\u001B[39;00m \u001B[38;5;129;01min\u001B[39;00m \u001B[38;5;28mself\u001B[39m\u001B[38;5;241m.\u001B[39m_metadata\n\u001B[1;32m   5898\u001B[0m     \u001B[38;5;129;01mand\u001B[39;00m name \u001B[38;5;129;01mnot\u001B[39;00m \u001B[38;5;129;01min\u001B[39;00m \u001B[38;5;28mself\u001B[39m\u001B[38;5;241m.\u001B[39m_accessors\n\u001B[1;32m   5899\u001B[0m     \u001B[38;5;129;01mand\u001B[39;00m \u001B[38;5;28mself\u001B[39m\u001B[38;5;241m.\u001B[39m_info_axis\u001B[38;5;241m.\u001B[39m_can_hold_identifiers_and_holds_name(name)\n\u001B[1;32m   5900\u001B[0m ):\n\u001B[1;32m   5901\u001B[0m     \u001B[38;5;28;01mreturn\u001B[39;00m \u001B[38;5;28mself\u001B[39m[name]\n\u001B[0;32m-> 5902\u001B[0m \u001B[38;5;28;01mreturn\u001B[39;00m \u001B[38;5;28;43mobject\u001B[39;49m\u001B[38;5;241;43m.\u001B[39;49m\u001B[38;5;21;43m__getattribute__\u001B[39;49m\u001B[43m(\u001B[49m\u001B[38;5;28;43mself\u001B[39;49m\u001B[43m,\u001B[49m\u001B[43m \u001B[49m\u001B[43mname\u001B[49m\u001B[43m)\u001B[49m\n",
      "File \u001B[0;32m~/anaconda3/envs/geo_env/lib/python3.12/site-packages/pandas/core/accessor.py:182\u001B[0m, in \u001B[0;36mCachedAccessor.__get__\u001B[0;34m(self, obj, cls)\u001B[0m\n\u001B[1;32m    179\u001B[0m \u001B[38;5;28;01mif\u001B[39;00m obj \u001B[38;5;129;01mis\u001B[39;00m \u001B[38;5;28;01mNone\u001B[39;00m:\n\u001B[1;32m    180\u001B[0m     \u001B[38;5;66;03m# we're accessing the attribute of the class, i.e., Dataset.geo\u001B[39;00m\n\u001B[1;32m    181\u001B[0m     \u001B[38;5;28;01mreturn\u001B[39;00m \u001B[38;5;28mself\u001B[39m\u001B[38;5;241m.\u001B[39m_accessor\n\u001B[0;32m--> 182\u001B[0m accessor_obj \u001B[38;5;241m=\u001B[39m \u001B[38;5;28;43mself\u001B[39;49m\u001B[38;5;241;43m.\u001B[39;49m\u001B[43m_accessor\u001B[49m\u001B[43m(\u001B[49m\u001B[43mobj\u001B[49m\u001B[43m)\u001B[49m\n\u001B[1;32m    183\u001B[0m \u001B[38;5;66;03m# Replace the property with the accessor object. Inspired by:\u001B[39;00m\n\u001B[1;32m    184\u001B[0m \u001B[38;5;66;03m# https://www.pydanny.com/cached-property.html\u001B[39;00m\n\u001B[1;32m    185\u001B[0m \u001B[38;5;66;03m# We need to use object.__setattr__ because we overwrite __setattr__ on\u001B[39;00m\n\u001B[1;32m    186\u001B[0m \u001B[38;5;66;03m# NDFrame\u001B[39;00m\n\u001B[1;32m    187\u001B[0m \u001B[38;5;28mobject\u001B[39m\u001B[38;5;241m.\u001B[39m\u001B[38;5;21m__setattr__\u001B[39m(obj, \u001B[38;5;28mself\u001B[39m\u001B[38;5;241m.\u001B[39m_name, accessor_obj)\n",
      "File \u001B[0;32m~/anaconda3/envs/geo_env/lib/python3.12/site-packages/pandas/core/indexes/accessors.py:512\u001B[0m, in \u001B[0;36mCombinedDatetimelikeProperties.__new__\u001B[0;34m(cls, data)\u001B[0m\n\u001B[1;32m    509\u001B[0m \u001B[38;5;28;01melif\u001B[39;00m is_period_dtype(data\u001B[38;5;241m.\u001B[39mdtype):\n\u001B[1;32m    510\u001B[0m     \u001B[38;5;28;01mreturn\u001B[39;00m PeriodProperties(data, orig)\n\u001B[0;32m--> 512\u001B[0m \u001B[38;5;28;01mraise\u001B[39;00m \u001B[38;5;167;01mAttributeError\u001B[39;00m(\u001B[38;5;124m\"\u001B[39m\u001B[38;5;124mCan only use .dt accessor with datetimelike values\u001B[39m\u001B[38;5;124m\"\u001B[39m)\n",
      "\u001B[0;31mAttributeError\u001B[0m: Can only use .dt accessor with datetimelike values"
     ]
    }
   ],
   "source": [
    "feed.routes_patterns"
   ],
   "metadata": {
    "collapsed": false,
    "ExecuteTime": {
     "end_time": "2024-03-09T19:14:13.208985Z",
     "start_time": "2024-03-09T19:14:07.006266Z"
    }
   },
   "id": "77cf43030c328cc4",
   "execution_count": 18
  },
  {
   "cell_type": "code",
   "outputs": [
    {
     "name": "stderr",
     "output_type": "stream",
     "text": [
      "INFO:root:Reading \"stops.txt\".\n"
     ]
    },
    {
     "data": {
      "text/plain": "            stop_id   stop_name   stop_lat   stop_lon  location_type  \\\n0  9021001000101000    Stavsnäs  59.286405  18.704700              1   \n1  9021001000102000    Styrsvik  59.280184  18.731426              1   \n2  9021001000103000   Nämdöböte  59.208731  18.740060              1   \n3  9021001000104000        Aspö  59.215843  18.753410              1   \n4  9021001000105000     Idöborg  59.204309  18.757769              1   \n5  9021001000106000    Östanvik  59.197456  18.739825              1   \n6  9021001000107000  Kalkberget  59.191628  18.719581              1   \n7  9021001000108000   Västanvik  59.187559  18.706893              1   \n8  9021001000109000      Solvik  59.184758  18.700458              1   \n9  9021001000110000       Orrön  59.180510  18.700629              1   \n\n   parent_station platform_code                   geometry  \n0             NaN           NaN  POINT (18.70470 59.28641)  \n1             NaN           NaN  POINT (18.73143 59.28018)  \n2             NaN           NaN  POINT (18.74006 59.20873)  \n3             NaN           NaN  POINT (18.75341 59.21584)  \n4             NaN           NaN  POINT (18.75777 59.20431)  \n5             NaN           NaN  POINT (18.73982 59.19746)  \n6             NaN           NaN  POINT (18.71958 59.19163)  \n7             NaN           NaN  POINT (18.70689 59.18756)  \n8             NaN           NaN  POINT (18.70046 59.18476)  \n9             NaN           NaN  POINT (18.70063 59.18051)  ",
      "text/html": "<div>\n<style scoped>\n    .dataframe tbody tr th:only-of-type {\n        vertical-align: middle;\n    }\n\n    .dataframe tbody tr th {\n        vertical-align: top;\n    }\n\n    .dataframe thead th {\n        text-align: right;\n    }\n</style>\n<table border=\"1\" class=\"dataframe\">\n  <thead>\n    <tr style=\"text-align: right;\">\n      <th></th>\n      <th>stop_id</th>\n      <th>stop_name</th>\n      <th>stop_lat</th>\n      <th>stop_lon</th>\n      <th>location_type</th>\n      <th>parent_station</th>\n      <th>platform_code</th>\n      <th>geometry</th>\n    </tr>\n  </thead>\n  <tbody>\n    <tr>\n      <th>0</th>\n      <td>9021001000101000</td>\n      <td>Stavsnäs</td>\n      <td>59.286405</td>\n      <td>18.704700</td>\n      <td>1</td>\n      <td>NaN</td>\n      <td>NaN</td>\n      <td>POINT (18.70470 59.28641)</td>\n    </tr>\n    <tr>\n      <th>1</th>\n      <td>9021001000102000</td>\n      <td>Styrsvik</td>\n      <td>59.280184</td>\n      <td>18.731426</td>\n      <td>1</td>\n      <td>NaN</td>\n      <td>NaN</td>\n      <td>POINT (18.73143 59.28018)</td>\n    </tr>\n    <tr>\n      <th>2</th>\n      <td>9021001000103000</td>\n      <td>Nämdöböte</td>\n      <td>59.208731</td>\n      <td>18.740060</td>\n      <td>1</td>\n      <td>NaN</td>\n      <td>NaN</td>\n      <td>POINT (18.74006 59.20873)</td>\n    </tr>\n    <tr>\n      <th>3</th>\n      <td>9021001000104000</td>\n      <td>Aspö</td>\n      <td>59.215843</td>\n      <td>18.753410</td>\n      <td>1</td>\n      <td>NaN</td>\n      <td>NaN</td>\n      <td>POINT (18.75341 59.21584)</td>\n    </tr>\n    <tr>\n      <th>4</th>\n      <td>9021001000105000</td>\n      <td>Idöborg</td>\n      <td>59.204309</td>\n      <td>18.757769</td>\n      <td>1</td>\n      <td>NaN</td>\n      <td>NaN</td>\n      <td>POINT (18.75777 59.20431)</td>\n    </tr>\n    <tr>\n      <th>5</th>\n      <td>9021001000106000</td>\n      <td>Östanvik</td>\n      <td>59.197456</td>\n      <td>18.739825</td>\n      <td>1</td>\n      <td>NaN</td>\n      <td>NaN</td>\n      <td>POINT (18.73982 59.19746)</td>\n    </tr>\n    <tr>\n      <th>6</th>\n      <td>9021001000107000</td>\n      <td>Kalkberget</td>\n      <td>59.191628</td>\n      <td>18.719581</td>\n      <td>1</td>\n      <td>NaN</td>\n      <td>NaN</td>\n      <td>POINT (18.71958 59.19163)</td>\n    </tr>\n    <tr>\n      <th>7</th>\n      <td>9021001000108000</td>\n      <td>Västanvik</td>\n      <td>59.187559</td>\n      <td>18.706893</td>\n      <td>1</td>\n      <td>NaN</td>\n      <td>NaN</td>\n      <td>POINT (18.70689 59.18756)</td>\n    </tr>\n    <tr>\n      <th>8</th>\n      <td>9021001000109000</td>\n      <td>Solvik</td>\n      <td>59.184758</td>\n      <td>18.700458</td>\n      <td>1</td>\n      <td>NaN</td>\n      <td>NaN</td>\n      <td>POINT (18.70046 59.18476)</td>\n    </tr>\n    <tr>\n      <th>9</th>\n      <td>9021001000110000</td>\n      <td>Orrön</td>\n      <td>59.180510</td>\n      <td>18.700629</td>\n      <td>1</td>\n      <td>NaN</td>\n      <td>NaN</td>\n      <td>POINT (18.70063 59.18051)</td>\n    </tr>\n  </tbody>\n</table>\n</div>"
     },
     "execution_count": 19,
     "metadata": {},
     "output_type": "execute_result"
    }
   ],
   "source": [
    "stops = feed.stops\n",
    "stops.head(10)"
   ],
   "metadata": {
    "collapsed": false,
    "ExecuteTime": {
     "end_time": "2024-03-09T19:14:22.089803Z",
     "start_time": "2024-03-09T19:14:18.595954Z"
    }
   },
   "id": "652ff8b4eb9f01a8",
   "execution_count": 19
  },
  {
   "cell_type": "code",
   "outputs": [
    {
     "name": "stderr",
     "output_type": "stream",
     "text": [
      "INFO:root:Reading \"stop_times.txt\".\n",
      "INFO:root:get trips in stop_times\n",
      "INFO:root:accessing trips\n",
      "INFO:root:Reading \"trips.txt\".\n"
     ]
    },
    {
     "ename": "AttributeError",
     "evalue": "Can only use .dt accessor with datetimelike values",
     "output_type": "error",
     "traceback": [
      "\u001B[0;31m---------------------------------------------------------------------------\u001B[0m",
      "\u001B[0;31mAttributeError\u001B[0m                            Traceback (most recent call last)",
      "Cell \u001B[0;32mIn[14], line 1\u001B[0m\n\u001B[0;32m----> 1\u001B[0m stop_times \u001B[38;5;241m=\u001B[39m \u001B[43mfeed\u001B[49m\u001B[38;5;241;43m.\u001B[39;49m\u001B[43mstop_times\u001B[49m\n\u001B[1;32m      2\u001B[0m stop_times\u001B[38;5;241m.\u001B[39mhead(\u001B[38;5;241m2\u001B[39m)\n",
      "File \u001B[0;32m~/anaconda3/envs/geo_env/lib/python3.12/site-packages/gtfs_functions/gtfs_functions.py:206\u001B[0m, in \u001B[0;36mFeed.stop_times\u001B[0;34m(self)\u001B[0m\n\u001B[1;32m    203\u001B[0m \u001B[38;5;129m@property\u001B[39m\n\u001B[1;32m    204\u001B[0m \u001B[38;5;28;01mdef\u001B[39;00m \u001B[38;5;21mstop_times\u001B[39m(\u001B[38;5;28mself\u001B[39m):\n\u001B[1;32m    205\u001B[0m     \u001B[38;5;28;01mif\u001B[39;00m \u001B[38;5;28mself\u001B[39m\u001B[38;5;241m.\u001B[39m_stop_times \u001B[38;5;129;01mis\u001B[39;00m \u001B[38;5;28;01mNone\u001B[39;00m:\n\u001B[0;32m--> 206\u001B[0m         \u001B[38;5;28mself\u001B[39m\u001B[38;5;241m.\u001B[39m_stop_times \u001B[38;5;241m=\u001B[39m \u001B[38;5;28;43mself\u001B[39;49m\u001B[38;5;241;43m.\u001B[39;49m\u001B[43mget_stop_times\u001B[49m\u001B[43m(\u001B[49m\u001B[43m)\u001B[49m\n\u001B[1;32m    208\u001B[0m     \u001B[38;5;28;01mreturn\u001B[39;00m \u001B[38;5;28mself\u001B[39m\u001B[38;5;241m.\u001B[39m_stop_times\n",
      "File \u001B[0;32m~/anaconda3/envs/geo_env/lib/python3.12/site-packages/gtfs_functions/gtfs_functions.py:679\u001B[0m, in \u001B[0;36mFeed.get_stop_times\u001B[0;34m(self)\u001B[0m\n\u001B[1;32m    677\u001B[0m \u001B[38;5;28;01melse\u001B[39;00m:\n\u001B[1;32m    678\u001B[0m     logging\u001B[38;5;241m.\u001B[39minfo(\u001B[38;5;124m'\u001B[39m\u001B[38;5;124mget trips in stop_times\u001B[39m\u001B[38;5;124m'\u001B[39m)\n\u001B[0;32m--> 679\u001B[0m     trips \u001B[38;5;241m=\u001B[39m \u001B[38;5;28;43mself\u001B[39;49m\u001B[38;5;241;43m.\u001B[39;49m\u001B[43mtrips\u001B[49m\n\u001B[1;32m    680\u001B[0m stops \u001B[38;5;241m=\u001B[39m \u001B[38;5;28mself\u001B[39m\u001B[38;5;241m.\u001B[39mstops\n\u001B[1;32m    682\u001B[0m \u001B[38;5;66;03m# Fix data types\u001B[39;00m\n",
      "File \u001B[0;32m~/anaconda3/envs/geo_env/lib/python3.12/site-packages/gtfs_functions/gtfs_functions.py:176\u001B[0m, in \u001B[0;36mFeed.trips\u001B[0;34m(self)\u001B[0m\n\u001B[1;32m    174\u001B[0m logging\u001B[38;5;241m.\u001B[39minfo(\u001B[38;5;124m'\u001B[39m\u001B[38;5;124maccessing trips\u001B[39m\u001B[38;5;124m'\u001B[39m)\n\u001B[1;32m    175\u001B[0m \u001B[38;5;28;01mif\u001B[39;00m \u001B[38;5;28mself\u001B[39m\u001B[38;5;241m.\u001B[39m_trips \u001B[38;5;129;01mis\u001B[39;00m \u001B[38;5;28;01mNone\u001B[39;00m:\n\u001B[0;32m--> 176\u001B[0m     \u001B[38;5;28mself\u001B[39m\u001B[38;5;241m.\u001B[39m_trips \u001B[38;5;241m=\u001B[39m \u001B[38;5;28;43mself\u001B[39;49m\u001B[38;5;241;43m.\u001B[39;49m\u001B[43mget_trips\u001B[49m\u001B[43m(\u001B[49m\u001B[43m)\u001B[49m\n\u001B[1;32m    178\u001B[0m \u001B[38;5;28;01mif\u001B[39;00m \u001B[38;5;28mself\u001B[39m\u001B[38;5;241m.\u001B[39m_patterns \u001B[38;5;129;01mand\u001B[39;00m \u001B[38;5;28mself\u001B[39m\u001B[38;5;241m.\u001B[39m_trips_patterns \u001B[38;5;129;01mis\u001B[39;00m \u001B[38;5;28;01mNone\u001B[39;00m:\n\u001B[1;32m    179\u001B[0m     (trips_patterns, routes_patterns) \u001B[38;5;241m=\u001B[39m \u001B[38;5;28mself\u001B[39m\u001B[38;5;241m.\u001B[39mget_routes_patterns(\n\u001B[1;32m    180\u001B[0m             \u001B[38;5;28mself\u001B[39m\u001B[38;5;241m.\u001B[39m_trips)\n",
      "File \u001B[0;32m~/anaconda3/envs/geo_env/lib/python3.12/site-packages/gtfs_functions/gtfs_functions.py:592\u001B[0m, in \u001B[0;36mFeed.get_trips\u001B[0;34m(self)\u001B[0m\n\u001B[1;32m    581\u001B[0m \u001B[38;5;28;01mif\u001B[39;00m (\u001B[38;5;28mself\u001B[39m\u001B[38;5;241m.\u001B[39mbusiest_date) \u001B[38;5;241m|\u001B[39m (dates\u001B[38;5;241m!=\u001B[39m[]):\n\u001B[1;32m    582\u001B[0m \u001B[38;5;250m    \u001B[39m\u001B[38;5;124;03m\"\"\"\u001B[39;00m\n\u001B[1;32m    583\u001B[0m \u001B[38;5;124;03m    In the case we have three possibilites:\u001B[39;00m\n\u001B[1;32m    584\u001B[0m \u001B[38;5;124;03m    1. busiest_date=True & dates==[]: in this case the user looks for the \u001B[39;00m\n\u001B[0;32m   (...)\u001B[0m\n\u001B[1;32m    590\u001B[0m \u001B[38;5;124;03m        the \"dates\" variable at all.\u001B[39;00m\n\u001B[1;32m    591\u001B[0m \u001B[38;5;124;03m    \"\"\"\u001B[39;00m\n\u001B[0;32m--> 592\u001B[0m     dates_service_id \u001B[38;5;241m=\u001B[39m \u001B[38;5;28;43mself\u001B[39;49m\u001B[38;5;241;43m.\u001B[39;49m\u001B[43mparse_calendar\u001B[49m\u001B[43m(\u001B[49m\u001B[43m)\u001B[49m\n\u001B[1;32m    594\u001B[0m     \u001B[38;5;66;03m# If busiest_date=True, we have to count the number of trips\u001B[39;00m\n\u001B[1;32m    595\u001B[0m     \u001B[38;5;28;01mif\u001B[39;00m \u001B[38;5;28mself\u001B[39m\u001B[38;5;241m.\u001B[39mbusiest_date:\n\u001B[1;32m    596\u001B[0m         \u001B[38;5;66;03m# Trip per date\u001B[39;00m\n",
      "File \u001B[0;32m~/anaconda3/envs/geo_env/lib/python3.12/site-packages/gtfs_functions/gtfs_functions.py:512\u001B[0m, in \u001B[0;36mFeed.parse_calendar\u001B[0;34m(self)\u001B[0m\n\u001B[1;32m    510\u001B[0m \u001B[38;5;66;03m# Keep the service_ids that apply to at least one date\u001B[39;00m\n\u001B[1;32m    511\u001B[0m t \u001B[38;5;241m=\u001B[39m t[t\u001B[38;5;241m.\u001B[39mfiltered_dates\u001B[38;5;241m.\u001B[39mnotnull()]\n\u001B[0;32m--> 512\u001B[0m t[\u001B[38;5;124m'\u001B[39m\u001B[38;5;124mfiltered_dates\u001B[39m\u001B[38;5;124m'\u001B[39m] \u001B[38;5;241m=\u001B[39m \u001B[43mt\u001B[49m\u001B[38;5;241;43m.\u001B[39;49m\u001B[43mfiltered_dates\u001B[49m\u001B[38;5;241;43m.\u001B[39;49m\u001B[43mdt\u001B[49m\u001B[38;5;241m.\u001B[39mdate\u001B[38;5;241m.\u001B[39mastype(\u001B[38;5;28mstr\u001B[39m)\n\u001B[1;32m    514\u001B[0m t \u001B[38;5;241m=\u001B[39m t\u001B[38;5;241m.\u001B[39mgroupby(\u001B[38;5;124m'\u001B[39m\u001B[38;5;124mfiltered_dates\u001B[39m\u001B[38;5;124m'\u001B[39m)\u001B[38;5;241m.\u001B[39mservice_id\u001B[38;5;241m.\u001B[39mapply(\u001B[38;5;28mlist\u001B[39m)\n\u001B[1;32m    516\u001B[0m \u001B[38;5;66;03m# Create dictionary with dates as keys and service_id as items\u001B[39;00m\n",
      "File \u001B[0;32m~/anaconda3/envs/geo_env/lib/python3.12/site-packages/pandas/core/generic.py:5902\u001B[0m, in \u001B[0;36mNDFrame.__getattr__\u001B[0;34m(self, name)\u001B[0m\n\u001B[1;32m   5895\u001B[0m \u001B[38;5;28;01mif\u001B[39;00m (\n\u001B[1;32m   5896\u001B[0m     name \u001B[38;5;129;01mnot\u001B[39;00m \u001B[38;5;129;01min\u001B[39;00m \u001B[38;5;28mself\u001B[39m\u001B[38;5;241m.\u001B[39m_internal_names_set\n\u001B[1;32m   5897\u001B[0m     \u001B[38;5;129;01mand\u001B[39;00m name \u001B[38;5;129;01mnot\u001B[39;00m \u001B[38;5;129;01min\u001B[39;00m \u001B[38;5;28mself\u001B[39m\u001B[38;5;241m.\u001B[39m_metadata\n\u001B[1;32m   5898\u001B[0m     \u001B[38;5;129;01mand\u001B[39;00m name \u001B[38;5;129;01mnot\u001B[39;00m \u001B[38;5;129;01min\u001B[39;00m \u001B[38;5;28mself\u001B[39m\u001B[38;5;241m.\u001B[39m_accessors\n\u001B[1;32m   5899\u001B[0m     \u001B[38;5;129;01mand\u001B[39;00m \u001B[38;5;28mself\u001B[39m\u001B[38;5;241m.\u001B[39m_info_axis\u001B[38;5;241m.\u001B[39m_can_hold_identifiers_and_holds_name(name)\n\u001B[1;32m   5900\u001B[0m ):\n\u001B[1;32m   5901\u001B[0m     \u001B[38;5;28;01mreturn\u001B[39;00m \u001B[38;5;28mself\u001B[39m[name]\n\u001B[0;32m-> 5902\u001B[0m \u001B[38;5;28;01mreturn\u001B[39;00m \u001B[38;5;28;43mobject\u001B[39;49m\u001B[38;5;241;43m.\u001B[39;49m\u001B[38;5;21;43m__getattribute__\u001B[39;49m\u001B[43m(\u001B[49m\u001B[38;5;28;43mself\u001B[39;49m\u001B[43m,\u001B[49m\u001B[43m \u001B[49m\u001B[43mname\u001B[49m\u001B[43m)\u001B[49m\n",
      "File \u001B[0;32m~/anaconda3/envs/geo_env/lib/python3.12/site-packages/pandas/core/accessor.py:182\u001B[0m, in \u001B[0;36mCachedAccessor.__get__\u001B[0;34m(self, obj, cls)\u001B[0m\n\u001B[1;32m    179\u001B[0m \u001B[38;5;28;01mif\u001B[39;00m obj \u001B[38;5;129;01mis\u001B[39;00m \u001B[38;5;28;01mNone\u001B[39;00m:\n\u001B[1;32m    180\u001B[0m     \u001B[38;5;66;03m# we're accessing the attribute of the class, i.e., Dataset.geo\u001B[39;00m\n\u001B[1;32m    181\u001B[0m     \u001B[38;5;28;01mreturn\u001B[39;00m \u001B[38;5;28mself\u001B[39m\u001B[38;5;241m.\u001B[39m_accessor\n\u001B[0;32m--> 182\u001B[0m accessor_obj \u001B[38;5;241m=\u001B[39m \u001B[38;5;28;43mself\u001B[39;49m\u001B[38;5;241;43m.\u001B[39;49m\u001B[43m_accessor\u001B[49m\u001B[43m(\u001B[49m\u001B[43mobj\u001B[49m\u001B[43m)\u001B[49m\n\u001B[1;32m    183\u001B[0m \u001B[38;5;66;03m# Replace the property with the accessor object. Inspired by:\u001B[39;00m\n\u001B[1;32m    184\u001B[0m \u001B[38;5;66;03m# https://www.pydanny.com/cached-property.html\u001B[39;00m\n\u001B[1;32m    185\u001B[0m \u001B[38;5;66;03m# We need to use object.__setattr__ because we overwrite __setattr__ on\u001B[39;00m\n\u001B[1;32m    186\u001B[0m \u001B[38;5;66;03m# NDFrame\u001B[39;00m\n\u001B[1;32m    187\u001B[0m \u001B[38;5;28mobject\u001B[39m\u001B[38;5;241m.\u001B[39m\u001B[38;5;21m__setattr__\u001B[39m(obj, \u001B[38;5;28mself\u001B[39m\u001B[38;5;241m.\u001B[39m_name, accessor_obj)\n",
      "File \u001B[0;32m~/anaconda3/envs/geo_env/lib/python3.12/site-packages/pandas/core/indexes/accessors.py:512\u001B[0m, in \u001B[0;36mCombinedDatetimelikeProperties.__new__\u001B[0;34m(cls, data)\u001B[0m\n\u001B[1;32m    509\u001B[0m \u001B[38;5;28;01melif\u001B[39;00m is_period_dtype(data\u001B[38;5;241m.\u001B[39mdtype):\n\u001B[1;32m    510\u001B[0m     \u001B[38;5;28;01mreturn\u001B[39;00m PeriodProperties(data, orig)\n\u001B[0;32m--> 512\u001B[0m \u001B[38;5;28;01mraise\u001B[39;00m \u001B[38;5;167;01mAttributeError\u001B[39;00m(\u001B[38;5;124m\"\u001B[39m\u001B[38;5;124mCan only use .dt accessor with datetimelike values\u001B[39m\u001B[38;5;124m\"\u001B[39m)\n",
      "\u001B[0;31mAttributeError\u001B[0m: Can only use .dt accessor with datetimelike values"
     ]
    }
   ],
   "source": [
    "stop_times = feed.stop_times\n",
    "stop_times.head(2)"
   ],
   "metadata": {
    "collapsed": false,
    "ExecuteTime": {
     "end_time": "2024-03-09T19:06:13.640738Z",
     "start_time": "2024-03-09T19:06:01.221378Z"
    }
   },
   "id": "191e30b973235554",
   "execution_count": 14
  },
  {
   "cell_type": "code",
   "outputs": [
    {
     "name": "stderr",
     "output_type": "stream",
     "text": [
      "INFO:root:accessing trips\n",
      "INFO:root:Reading \"trips.txt\".\n"
     ]
    },
    {
     "ename": "AttributeError",
     "evalue": "Can only use .dt accessor with datetimelike values",
     "output_type": "error",
     "traceback": [
      "\u001B[0;31m---------------------------------------------------------------------------\u001B[0m",
      "\u001B[0;31mAttributeError\u001B[0m                            Traceback (most recent call last)",
      "Cell \u001B[0;32mIn[15], line 1\u001B[0m\n\u001B[0;32m----> 1\u001B[0m trips \u001B[38;5;241m=\u001B[39m \u001B[43mfeed\u001B[49m\u001B[38;5;241;43m.\u001B[39;49m\u001B[43mtrips\u001B[49m\n\u001B[1;32m      2\u001B[0m trips\u001B[38;5;241m.\u001B[39mhead(\u001B[38;5;241m10\u001B[39m)\n",
      "File \u001B[0;32m~/anaconda3/envs/geo_env/lib/python3.12/site-packages/gtfs_functions/gtfs_functions.py:176\u001B[0m, in \u001B[0;36mFeed.trips\u001B[0;34m(self)\u001B[0m\n\u001B[1;32m    174\u001B[0m logging\u001B[38;5;241m.\u001B[39minfo(\u001B[38;5;124m'\u001B[39m\u001B[38;5;124maccessing trips\u001B[39m\u001B[38;5;124m'\u001B[39m)\n\u001B[1;32m    175\u001B[0m \u001B[38;5;28;01mif\u001B[39;00m \u001B[38;5;28mself\u001B[39m\u001B[38;5;241m.\u001B[39m_trips \u001B[38;5;129;01mis\u001B[39;00m \u001B[38;5;28;01mNone\u001B[39;00m:\n\u001B[0;32m--> 176\u001B[0m     \u001B[38;5;28mself\u001B[39m\u001B[38;5;241m.\u001B[39m_trips \u001B[38;5;241m=\u001B[39m \u001B[38;5;28;43mself\u001B[39;49m\u001B[38;5;241;43m.\u001B[39;49m\u001B[43mget_trips\u001B[49m\u001B[43m(\u001B[49m\u001B[43m)\u001B[49m\n\u001B[1;32m    178\u001B[0m \u001B[38;5;28;01mif\u001B[39;00m \u001B[38;5;28mself\u001B[39m\u001B[38;5;241m.\u001B[39m_patterns \u001B[38;5;129;01mand\u001B[39;00m \u001B[38;5;28mself\u001B[39m\u001B[38;5;241m.\u001B[39m_trips_patterns \u001B[38;5;129;01mis\u001B[39;00m \u001B[38;5;28;01mNone\u001B[39;00m:\n\u001B[1;32m    179\u001B[0m     (trips_patterns, routes_patterns) \u001B[38;5;241m=\u001B[39m \u001B[38;5;28mself\u001B[39m\u001B[38;5;241m.\u001B[39mget_routes_patterns(\n\u001B[1;32m    180\u001B[0m             \u001B[38;5;28mself\u001B[39m\u001B[38;5;241m.\u001B[39m_trips)\n",
      "File \u001B[0;32m~/anaconda3/envs/geo_env/lib/python3.12/site-packages/gtfs_functions/gtfs_functions.py:592\u001B[0m, in \u001B[0;36mFeed.get_trips\u001B[0;34m(self)\u001B[0m\n\u001B[1;32m    581\u001B[0m \u001B[38;5;28;01mif\u001B[39;00m (\u001B[38;5;28mself\u001B[39m\u001B[38;5;241m.\u001B[39mbusiest_date) \u001B[38;5;241m|\u001B[39m (dates\u001B[38;5;241m!=\u001B[39m[]):\n\u001B[1;32m    582\u001B[0m \u001B[38;5;250m    \u001B[39m\u001B[38;5;124;03m\"\"\"\u001B[39;00m\n\u001B[1;32m    583\u001B[0m \u001B[38;5;124;03m    In the case we have three possibilites:\u001B[39;00m\n\u001B[1;32m    584\u001B[0m \u001B[38;5;124;03m    1. busiest_date=True & dates==[]: in this case the user looks for the \u001B[39;00m\n\u001B[0;32m   (...)\u001B[0m\n\u001B[1;32m    590\u001B[0m \u001B[38;5;124;03m        the \"dates\" variable at all.\u001B[39;00m\n\u001B[1;32m    591\u001B[0m \u001B[38;5;124;03m    \"\"\"\u001B[39;00m\n\u001B[0;32m--> 592\u001B[0m     dates_service_id \u001B[38;5;241m=\u001B[39m \u001B[38;5;28;43mself\u001B[39;49m\u001B[38;5;241;43m.\u001B[39;49m\u001B[43mparse_calendar\u001B[49m\u001B[43m(\u001B[49m\u001B[43m)\u001B[49m\n\u001B[1;32m    594\u001B[0m     \u001B[38;5;66;03m# If busiest_date=True, we have to count the number of trips\u001B[39;00m\n\u001B[1;32m    595\u001B[0m     \u001B[38;5;28;01mif\u001B[39;00m \u001B[38;5;28mself\u001B[39m\u001B[38;5;241m.\u001B[39mbusiest_date:\n\u001B[1;32m    596\u001B[0m         \u001B[38;5;66;03m# Trip per date\u001B[39;00m\n",
      "File \u001B[0;32m~/anaconda3/envs/geo_env/lib/python3.12/site-packages/gtfs_functions/gtfs_functions.py:512\u001B[0m, in \u001B[0;36mFeed.parse_calendar\u001B[0;34m(self)\u001B[0m\n\u001B[1;32m    510\u001B[0m \u001B[38;5;66;03m# Keep the service_ids that apply to at least one date\u001B[39;00m\n\u001B[1;32m    511\u001B[0m t \u001B[38;5;241m=\u001B[39m t[t\u001B[38;5;241m.\u001B[39mfiltered_dates\u001B[38;5;241m.\u001B[39mnotnull()]\n\u001B[0;32m--> 512\u001B[0m t[\u001B[38;5;124m'\u001B[39m\u001B[38;5;124mfiltered_dates\u001B[39m\u001B[38;5;124m'\u001B[39m] \u001B[38;5;241m=\u001B[39m \u001B[43mt\u001B[49m\u001B[38;5;241;43m.\u001B[39;49m\u001B[43mfiltered_dates\u001B[49m\u001B[38;5;241;43m.\u001B[39;49m\u001B[43mdt\u001B[49m\u001B[38;5;241m.\u001B[39mdate\u001B[38;5;241m.\u001B[39mastype(\u001B[38;5;28mstr\u001B[39m)\n\u001B[1;32m    514\u001B[0m t \u001B[38;5;241m=\u001B[39m t\u001B[38;5;241m.\u001B[39mgroupby(\u001B[38;5;124m'\u001B[39m\u001B[38;5;124mfiltered_dates\u001B[39m\u001B[38;5;124m'\u001B[39m)\u001B[38;5;241m.\u001B[39mservice_id\u001B[38;5;241m.\u001B[39mapply(\u001B[38;5;28mlist\u001B[39m)\n\u001B[1;32m    516\u001B[0m \u001B[38;5;66;03m# Create dictionary with dates as keys and service_id as items\u001B[39;00m\n",
      "File \u001B[0;32m~/anaconda3/envs/geo_env/lib/python3.12/site-packages/pandas/core/generic.py:5902\u001B[0m, in \u001B[0;36mNDFrame.__getattr__\u001B[0;34m(self, name)\u001B[0m\n\u001B[1;32m   5895\u001B[0m \u001B[38;5;28;01mif\u001B[39;00m (\n\u001B[1;32m   5896\u001B[0m     name \u001B[38;5;129;01mnot\u001B[39;00m \u001B[38;5;129;01min\u001B[39;00m \u001B[38;5;28mself\u001B[39m\u001B[38;5;241m.\u001B[39m_internal_names_set\n\u001B[1;32m   5897\u001B[0m     \u001B[38;5;129;01mand\u001B[39;00m name \u001B[38;5;129;01mnot\u001B[39;00m \u001B[38;5;129;01min\u001B[39;00m \u001B[38;5;28mself\u001B[39m\u001B[38;5;241m.\u001B[39m_metadata\n\u001B[1;32m   5898\u001B[0m     \u001B[38;5;129;01mand\u001B[39;00m name \u001B[38;5;129;01mnot\u001B[39;00m \u001B[38;5;129;01min\u001B[39;00m \u001B[38;5;28mself\u001B[39m\u001B[38;5;241m.\u001B[39m_accessors\n\u001B[1;32m   5899\u001B[0m     \u001B[38;5;129;01mand\u001B[39;00m \u001B[38;5;28mself\u001B[39m\u001B[38;5;241m.\u001B[39m_info_axis\u001B[38;5;241m.\u001B[39m_can_hold_identifiers_and_holds_name(name)\n\u001B[1;32m   5900\u001B[0m ):\n\u001B[1;32m   5901\u001B[0m     \u001B[38;5;28;01mreturn\u001B[39;00m \u001B[38;5;28mself\u001B[39m[name]\n\u001B[0;32m-> 5902\u001B[0m \u001B[38;5;28;01mreturn\u001B[39;00m \u001B[38;5;28;43mobject\u001B[39;49m\u001B[38;5;241;43m.\u001B[39;49m\u001B[38;5;21;43m__getattribute__\u001B[39;49m\u001B[43m(\u001B[49m\u001B[38;5;28;43mself\u001B[39;49m\u001B[43m,\u001B[49m\u001B[43m \u001B[49m\u001B[43mname\u001B[49m\u001B[43m)\u001B[49m\n",
      "File \u001B[0;32m~/anaconda3/envs/geo_env/lib/python3.12/site-packages/pandas/core/accessor.py:182\u001B[0m, in \u001B[0;36mCachedAccessor.__get__\u001B[0;34m(self, obj, cls)\u001B[0m\n\u001B[1;32m    179\u001B[0m \u001B[38;5;28;01mif\u001B[39;00m obj \u001B[38;5;129;01mis\u001B[39;00m \u001B[38;5;28;01mNone\u001B[39;00m:\n\u001B[1;32m    180\u001B[0m     \u001B[38;5;66;03m# we're accessing the attribute of the class, i.e., Dataset.geo\u001B[39;00m\n\u001B[1;32m    181\u001B[0m     \u001B[38;5;28;01mreturn\u001B[39;00m \u001B[38;5;28mself\u001B[39m\u001B[38;5;241m.\u001B[39m_accessor\n\u001B[0;32m--> 182\u001B[0m accessor_obj \u001B[38;5;241m=\u001B[39m \u001B[38;5;28;43mself\u001B[39;49m\u001B[38;5;241;43m.\u001B[39;49m\u001B[43m_accessor\u001B[49m\u001B[43m(\u001B[49m\u001B[43mobj\u001B[49m\u001B[43m)\u001B[49m\n\u001B[1;32m    183\u001B[0m \u001B[38;5;66;03m# Replace the property with the accessor object. Inspired by:\u001B[39;00m\n\u001B[1;32m    184\u001B[0m \u001B[38;5;66;03m# https://www.pydanny.com/cached-property.html\u001B[39;00m\n\u001B[1;32m    185\u001B[0m \u001B[38;5;66;03m# We need to use object.__setattr__ because we overwrite __setattr__ on\u001B[39;00m\n\u001B[1;32m    186\u001B[0m \u001B[38;5;66;03m# NDFrame\u001B[39;00m\n\u001B[1;32m    187\u001B[0m \u001B[38;5;28mobject\u001B[39m\u001B[38;5;241m.\u001B[39m\u001B[38;5;21m__setattr__\u001B[39m(obj, \u001B[38;5;28mself\u001B[39m\u001B[38;5;241m.\u001B[39m_name, accessor_obj)\n",
      "File \u001B[0;32m~/anaconda3/envs/geo_env/lib/python3.12/site-packages/pandas/core/indexes/accessors.py:512\u001B[0m, in \u001B[0;36mCombinedDatetimelikeProperties.__new__\u001B[0;34m(cls, data)\u001B[0m\n\u001B[1;32m    509\u001B[0m \u001B[38;5;28;01melif\u001B[39;00m is_period_dtype(data\u001B[38;5;241m.\u001B[39mdtype):\n\u001B[1;32m    510\u001B[0m     \u001B[38;5;28;01mreturn\u001B[39;00m PeriodProperties(data, orig)\n\u001B[0;32m--> 512\u001B[0m \u001B[38;5;28;01mraise\u001B[39;00m \u001B[38;5;167;01mAttributeError\u001B[39;00m(\u001B[38;5;124m\"\u001B[39m\u001B[38;5;124mCan only use .dt accessor with datetimelike values\u001B[39m\u001B[38;5;124m\"\u001B[39m)\n",
      "\u001B[0;31mAttributeError\u001B[0m: Can only use .dt accessor with datetimelike values"
     ]
    }
   ],
   "source": [
    "trips = feed.trips\n",
    "trips.head(10)"
   ],
   "metadata": {
    "collapsed": false,
    "ExecuteTime": {
     "end_time": "2024-03-09T19:06:28.113785Z",
     "start_time": "2024-03-09T19:06:22.169518Z"
    }
   },
   "id": "a3e303d936ee9e43",
   "execution_count": 15
  },
  {
   "cell_type": "code",
   "outputs": [
    {
     "name": "stderr",
     "output_type": "stream",
     "text": [
      "INFO:root:Reading \"shapes.txt\".\n"
     ]
    },
    {
     "data": {
      "text/plain": "              shape_id                                           geometry\n0  1014010000001321141  LINESTRING (17.98042 59.33297, 17.98043 59.332...\n1  1014010000001377002  LINESTRING (17.95242 59.33612, 17.95241 59.336...\n2  1014010000001377028  LINESTRING (17.98075 59.33287, 17.98075 59.332...\n3  1014010000001379554  LINESTRING (17.90415 59.33514, 17.90410 59.335...\n4  1014010000001388996  LINESTRING (18.02319 59.31040, 18.02320 59.310...\n5  1014010000001422939  LINESTRING (17.97047 59.26866, 17.97048 59.268...\n6  1014010000001498055  LINESTRING (18.01854 59.31417, 18.01847 59.314...\n7  1014010000001498180  LINESTRING (18.00643 59.30291, 18.00652 59.302...\n8  1014010000001498237  LINESTRING (17.98844 59.30518, 17.98849 59.305...\n9  1014010000001507089  LINESTRING (17.93372 59.29510, 17.93369 59.295...",
      "text/html": "<div>\n<style scoped>\n    .dataframe tbody tr th:only-of-type {\n        vertical-align: middle;\n    }\n\n    .dataframe tbody tr th {\n        vertical-align: top;\n    }\n\n    .dataframe thead th {\n        text-align: right;\n    }\n</style>\n<table border=\"1\" class=\"dataframe\">\n  <thead>\n    <tr style=\"text-align: right;\">\n      <th></th>\n      <th>shape_id</th>\n      <th>geometry</th>\n    </tr>\n  </thead>\n  <tbody>\n    <tr>\n      <th>0</th>\n      <td>1014010000001321141</td>\n      <td>LINESTRING (17.98042 59.33297, 17.98043 59.332...</td>\n    </tr>\n    <tr>\n      <th>1</th>\n      <td>1014010000001377002</td>\n      <td>LINESTRING (17.95242 59.33612, 17.95241 59.336...</td>\n    </tr>\n    <tr>\n      <th>2</th>\n      <td>1014010000001377028</td>\n      <td>LINESTRING (17.98075 59.33287, 17.98075 59.332...</td>\n    </tr>\n    <tr>\n      <th>3</th>\n      <td>1014010000001379554</td>\n      <td>LINESTRING (17.90415 59.33514, 17.90410 59.335...</td>\n    </tr>\n    <tr>\n      <th>4</th>\n      <td>1014010000001388996</td>\n      <td>LINESTRING (18.02319 59.31040, 18.02320 59.310...</td>\n    </tr>\n    <tr>\n      <th>5</th>\n      <td>1014010000001422939</td>\n      <td>LINESTRING (17.97047 59.26866, 17.97048 59.268...</td>\n    </tr>\n    <tr>\n      <th>6</th>\n      <td>1014010000001498055</td>\n      <td>LINESTRING (18.01854 59.31417, 18.01847 59.314...</td>\n    </tr>\n    <tr>\n      <th>7</th>\n      <td>1014010000001498180</td>\n      <td>LINESTRING (18.00643 59.30291, 18.00652 59.302...</td>\n    </tr>\n    <tr>\n      <th>8</th>\n      <td>1014010000001498237</td>\n      <td>LINESTRING (17.98844 59.30518, 17.98849 59.305...</td>\n    </tr>\n    <tr>\n      <th>9</th>\n      <td>1014010000001507089</td>\n      <td>LINESTRING (17.93372 59.29510, 17.93369 59.295...</td>\n    </tr>\n  </tbody>\n</table>\n</div>"
     },
     "execution_count": 16,
     "metadata": {},
     "output_type": "execute_result"
    }
   ],
   "source": [
    "shapes = feed.shapes\n",
    "shapes.head(10)"
   ],
   "metadata": {
    "collapsed": false,
    "ExecuteTime": {
     "end_time": "2024-03-09T19:06:45.061027Z",
     "start_time": "2024-03-09T19:06:36.858722Z"
    }
   },
   "id": "67cab926c98a6513",
   "execution_count": 16
  },
  {
   "cell_type": "code",
   "outputs": [],
   "source": [],
   "metadata": {
    "collapsed": false
   },
   "id": "424fa03cd60447e3"
  }
 ],
 "metadata": {
  "kernelspec": {
   "display_name": "Python 3",
   "language": "python",
   "name": "python3"
  },
  "language_info": {
   "codemirror_mode": {
    "name": "ipython",
    "version": 2
   },
   "file_extension": ".py",
   "mimetype": "text/x-python",
   "name": "python",
   "nbconvert_exporter": "python",
   "pygments_lexer": "ipython2",
   "version": "2.7.6"
  }
 },
 "nbformat": 4,
 "nbformat_minor": 5
}

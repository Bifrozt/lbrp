{
 "cells": [
  {
   "cell_type": "code",
   "outputs": [],
   "source": [
    "import gpxpy\n",
    "import random\n",
    "from datetime import timedelta\n",
    "import pandas as pd\n",
    "\n",
    "\n",
    "# Regenerate user behaviour based on gpx file. \n",
    "# Small differences.\n",
    "# TODO: Read user profiles from pickle."
   ],
   "metadata": {
    "collapsed": false,
    "ExecuteTime": {
     "end_time": "2024-05-03T10:26:30.982191Z",
     "start_time": "2024-05-03T10:26:30.614904Z"
    }
   },
   "execution_count": 7
  },
  {
   "cell_type": "code",
   "outputs": [],
   "source": [
    "df = pd.read_pickle('user_profiles.pkl')"
   ],
   "metadata": {
    "collapsed": false,
    "ExecuteTime": {
     "end_time": "2024-05-03T10:26:32.317533Z",
     "start_time": "2024-05-03T10:26:32.300040Z"
    }
   },
   "execution_count": 8
  },
  {
   "cell_type": "code",
   "outputs": [],
   "source": [
    "def read_gpx(file_path):\n",
    "    gpx = gpxpy.parse(open(file_path, 'r'))\n",
    "    data = []\n",
    "    for track in gpx.tracks:\n",
    "        for segment in track.segments:\n",
    "            for point in segment.points:\n",
    "                data.append({\n",
    "                    'latitude': point.latitude,\n",
    "                    'longitude': point.longitude,\n",
    "                    'elevation': point.elevation,\n",
    "                    'time': point.time\n",
    "                })\n",
    "    return data\n",
    "\n",
    "def randomize_user_behavior(gpx_data):\n",
    "    # Randomize geo data based on gpx file.\n",
    "    randomized_data = []\n",
    "    for point in gpx_data:\n",
    "        speed_factor = random.uniform(0.8, 0.9)\n",
    "        # Randomize lat, lon\n",
    "        lat_variation = random.uniform(-0.0001, 0.0001)\n",
    "        lon_variation = random.uniform(-0.0001, 0.0001)\n",
    "        # Randomize elevation.\n",
    "        randomized_elevation = point['elevation'] * speed_factor\n",
    "        # Randomize time span max 40 minutes.\n",
    "        time_variation = timedelta(minutes=random.uniform(1, 7))\n",
    "        # 5% chance for reverse direction\n",
    "        if random.random() < 0.05:  # \n",
    "            lat_variation *= -1\n",
    "            lon_variation *= -1\n",
    "\n",
    "        # Generate randomized data point\n",
    "        randomized_point = {\n",
    "            'latitude': point['latitude'] + lat_variation,\n",
    "            'longitude': point['longitude'] + lon_variation,\n",
    "            'elevation': randomized_elevation,\n",
    "            'time': point['time'] + time_variation\n",
    "        }\n",
    "        randomized_data.append(randomized_point)\n",
    "    return randomized_data"
   ],
   "metadata": {
    "collapsed": false,
    "ExecuteTime": {
     "end_time": "2024-05-03T10:27:27.698055Z",
     "start_time": "2024-05-03T10:27:27.691523Z"
    }
   },
   "execution_count": 9
  },
  {
   "cell_type": "code",
   "outputs": [
    {
     "ename": "TypeError",
     "evalue": "unhashable type: 'DataFrame'",
     "output_type": "error",
     "traceback": [
      "\u001B[0;31m---------------------------------------------------------------------------\u001B[0m",
      "\u001B[0;31mTypeError\u001B[0m                                 Traceback (most recent call last)",
      "Cell \u001B[0;32mIn[10], line 1\u001B[0m\n\u001B[0;32m----> 1\u001B[0m gpx_data \u001B[38;5;241m=\u001B[39m \u001B[43mread_gpx\u001B[49m\u001B[43m(\u001B[49m\u001B[43mdf\u001B[49m\u001B[43m)\u001B[49m\n\u001B[1;32m      2\u001B[0m randomized_data \u001B[38;5;241m=\u001B[39m randomize_user_behavior(gpx_data)\n",
      "Cell \u001B[0;32mIn[9], line 2\u001B[0m, in \u001B[0;36mread_gpx\u001B[0;34m(file_path)\u001B[0m\n\u001B[1;32m      1\u001B[0m \u001B[38;5;28;01mdef\u001B[39;00m \u001B[38;5;21mread_gpx\u001B[39m(file_path):\n\u001B[0;32m----> 2\u001B[0m     gpx \u001B[38;5;241m=\u001B[39m gpxpy\u001B[38;5;241m.\u001B[39mparse(\u001B[38;5;28;43mopen\u001B[39;49m\u001B[43m(\u001B[49m\u001B[43mfile_path\u001B[49m\u001B[43m,\u001B[49m\u001B[43m \u001B[49m\u001B[38;5;124;43m'\u001B[39;49m\u001B[38;5;124;43mr\u001B[39;49m\u001B[38;5;124;43m'\u001B[39;49m\u001B[43m)\u001B[49m)\n\u001B[1;32m      3\u001B[0m     data \u001B[38;5;241m=\u001B[39m []\n\u001B[1;32m      4\u001B[0m     \u001B[38;5;28;01mfor\u001B[39;00m track \u001B[38;5;129;01min\u001B[39;00m gpx\u001B[38;5;241m.\u001B[39mtracks:\n",
      "File \u001B[0;32m~/anaconda3/envs/geo_env/lib/python3.12/site-packages/IPython/core/interactiveshell.py:303\u001B[0m, in \u001B[0;36m_modified_open\u001B[0;34m(file, *args, **kwargs)\u001B[0m\n\u001B[1;32m    301\u001B[0m \u001B[38;5;129m@functools\u001B[39m\u001B[38;5;241m.\u001B[39mwraps(io_open)\n\u001B[1;32m    302\u001B[0m \u001B[38;5;28;01mdef\u001B[39;00m \u001B[38;5;21m_modified_open\u001B[39m(file, \u001B[38;5;241m*\u001B[39margs, \u001B[38;5;241m*\u001B[39m\u001B[38;5;241m*\u001B[39mkwargs):\n\u001B[0;32m--> 303\u001B[0m     \u001B[38;5;28;01mif\u001B[39;00m \u001B[43mfile\u001B[49m\u001B[43m \u001B[49m\u001B[38;5;129;43;01min\u001B[39;49;00m\u001B[43m \u001B[49m\u001B[43m{\u001B[49m\u001B[38;5;241;43m0\u001B[39;49m\u001B[43m,\u001B[49m\u001B[43m \u001B[49m\u001B[38;5;241;43m1\u001B[39;49m\u001B[43m,\u001B[49m\u001B[43m \u001B[49m\u001B[38;5;241;43m2\u001B[39;49m\u001B[43m}\u001B[49m:\n\u001B[1;32m    304\u001B[0m         \u001B[38;5;28;01mraise\u001B[39;00m \u001B[38;5;167;01mValueError\u001B[39;00m(\n\u001B[1;32m    305\u001B[0m             \u001B[38;5;124mf\u001B[39m\u001B[38;5;124m\"\u001B[39m\u001B[38;5;124mIPython won\u001B[39m\u001B[38;5;124m'\u001B[39m\u001B[38;5;124mt let you open fd=\u001B[39m\u001B[38;5;132;01m{\u001B[39;00mfile\u001B[38;5;132;01m}\u001B[39;00m\u001B[38;5;124m by default \u001B[39m\u001B[38;5;124m\"\u001B[39m\n\u001B[1;32m    306\u001B[0m             \u001B[38;5;124m\"\u001B[39m\u001B[38;5;124mas it is likely to crash IPython. If you know what you are doing, \u001B[39m\u001B[38;5;124m\"\u001B[39m\n\u001B[1;32m    307\u001B[0m             \u001B[38;5;124m\"\u001B[39m\u001B[38;5;124myou can use builtins\u001B[39m\u001B[38;5;124m'\u001B[39m\u001B[38;5;124m open.\u001B[39m\u001B[38;5;124m\"\u001B[39m\n\u001B[1;32m    308\u001B[0m         )\n\u001B[1;32m    310\u001B[0m     \u001B[38;5;28;01mreturn\u001B[39;00m io_open(file, \u001B[38;5;241m*\u001B[39margs, \u001B[38;5;241m*\u001B[39m\u001B[38;5;241m*\u001B[39mkwargs)\n",
      "\u001B[0;31mTypeError\u001B[0m: unhashable type: 'DataFrame'"
     ]
    }
   ],
   "source": [
    "\n",
    "gpx_data = read_gpx(df)\n",
    "randomized_data = randomize_user_behavior(gpx_data)"
   ],
   "metadata": {
    "collapsed": false,
    "ExecuteTime": {
     "end_time": "2024-05-03T10:27:31.139964Z",
     "start_time": "2024-05-03T10:27:31.092386Z"
    }
   },
   "execution_count": 10
  },
  {
   "cell_type": "code",
   "outputs": [],
   "source": [
    "randomized_data"
   ],
   "metadata": {
    "collapsed": false,
    "ExecuteTime": {
     "end_time": "2024-05-03T10:24:20.005875Z",
     "start_time": "2024-05-03T10:24:20.005630Z"
    }
   },
   "execution_count": null
  },
  {
   "cell_type": "code",
   "outputs": [],
   "source": [
    "import matplotlib.pyplot as plt\n",
    "plt.plot([point['latitude'] for point in randomized_data], [point['longitude'] for point in randomized_data])\n"
   ],
   "metadata": {
    "collapsed": false
   },
   "execution_count": null
  },
  {
   "cell_type": "code",
   "outputs": [],
   "source": [],
   "metadata": {
    "collapsed": false
   },
   "execution_count": null
  }
 ],
 "metadata": {
  "kernelspec": {
   "display_name": "Python 3 (ipykernel)",
   "language": "python",
   "name": "python3"
  },
  "language_info": {
   "codemirror_mode": {
    "name": "ipython",
    "version": 3
   },
   "file_extension": ".py",
   "mimetype": "text/x-python",
   "name": "python",
   "nbconvert_exporter": "python",
   "pygments_lexer": "ipython3",
   "version": "3.12.1"
  }
 },
 "nbformat": 4,
 "nbformat_minor": 4
}

{
 "cells": [
  {
   "cell_type": "code",
   "execution_count": 25,
   "id": "initial_id",
   "metadata": {
    "collapsed": true,
    "ExecuteTime": {
     "end_time": "2024-03-24T20:21:34.726142Z",
     "start_time": "2024-03-24T20:21:34.723409Z"
    }
   },
   "outputs": [],
   "source": [
    "import pandas as pd\n",
    "from pyraptor import query_mcraptor\n",
    "from pyraptor import query_raptor as raptor\n",
    "from pyraptor.gtfs import timetable as tt \n",
    "import datetime as dt\n",
    "import gtfs_kit as gk\n",
    "import sys\n",
    "from pathlib import Path"
   ]
  },
  {
   "cell_type": "code",
   "outputs": [],
   "source": [
    "DIR = Path('..')\n",
    "sys.path.append(str(DIR))\n",
    "\n",
    "DATA_DIR = DIR/'data/sl/'"
   ],
   "metadata": {
    "collapsed": false,
    "ExecuteTime": {
     "end_time": "2024-03-24T20:21:35.954937Z",
     "start_time": "2024-03-24T20:21:35.946062Z"
    }
   },
   "id": "c6d6a703801a6a13",
   "execution_count": 26
  },
  {
   "cell_type": "markdown",
   "source": [],
   "metadata": {
    "collapsed": false
   },
   "id": "7e6169efb764a7d6"
  },
  {
   "cell_type": "code",
   "outputs": [],
   "source": [
    "gtfs_path = DATA_DIR/'/home/pablo/dev23/data_sets/sl.zip'\n",
    "feed = gk.list_feed(gtfs_path)"
   ],
   "metadata": {
    "collapsed": false,
    "ExecuteTime": {
     "end_time": "2024-03-24T20:21:38.348741Z",
     "start_time": "2024-03-24T20:21:38.341930Z"
    }
   },
   "id": "6e169564da671ad3",
   "execution_count": 27
  },
  {
   "cell_type": "code",
   "outputs": [],
   "source": [],
   "metadata": {
    "collapsed": false,
    "ExecuteTime": {
     "end_time": "2024-03-24T20:21:41.307037Z",
     "start_time": "2024-03-24T20:21:41.304083Z"
    }
   },
   "id": "510f12ae92c7b289",
   "execution_count": 27
  },
  {
   "cell_type": "code",
   "outputs": [
    {
     "ename": "TypeError",
     "evalue": "'module' object is not callable",
     "output_type": "error",
     "traceback": [
      "\u001B[0;31m---------------------------------------------------------------------------\u001B[0m",
      "\u001B[0;31mTypeError\u001B[0m                                 Traceback (most recent call last)",
      "Cell \u001B[0;32mIn[35], line 1\u001B[0m\n\u001B[0;32m----> 1\u001B[0m \u001B[43mquery_mcraptor\u001B[49m\u001B[43m(\u001B[49m\u001B[43m)\u001B[49m\n",
      "\u001B[0;31mTypeError\u001B[0m: 'module' object is not callable"
     ]
    }
   ],
   "source": [
    "query_mcraptor()\n"
   ],
   "metadata": {
    "collapsed": false,
    "ExecuteTime": {
     "end_time": "2024-03-24T20:26:02.879044Z",
     "start_time": "2024-03-24T20:26:02.856515Z"
    }
   },
   "id": "e4f9fa7def982a65",
   "execution_count": 35
  },
  {
   "cell_type": "code",
   "outputs": [],
   "source": [],
   "metadata": {
    "collapsed": false,
    "ExecuteTime": {
     "end_time": "2024-03-24T20:20:51.738855Z",
     "start_time": "2024-03-24T20:20:51.738685Z"
    }
   },
   "id": "7afa3a401724e490"
  }
 ],
 "metadata": {
  "kernelspec": {
   "display_name": "Python 3",
   "language": "python",
   "name": "python3"
  },
  "language_info": {
   "codemirror_mode": {
    "name": "ipython",
    "version": 2
   },
   "file_extension": ".py",
   "mimetype": "text/x-python",
   "name": "python",
   "nbconvert_exporter": "python",
   "pygments_lexer": "ipython2",
   "version": "2.7.6"
  }
 },
 "nbformat": 4,
 "nbformat_minor": 5
}

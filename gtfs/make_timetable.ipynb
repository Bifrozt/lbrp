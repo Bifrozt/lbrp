{
 "cells": [
  {
   "cell_type": "code",
   "execution_count": 1,
   "id": "initial_id",
   "metadata": {
    "collapsed": true,
    "ExecuteTime": {
     "end_time": "2024-05-11T16:27:44.876202Z",
     "start_time": "2024-05-11T16:27:43.647604Z"
    }
   },
   "outputs": [
    {
     "ename": "TypeError",
     "evalue": "read_feed() got an unexpected keyword argument 'dates'",
     "output_type": "error",
     "traceback": [
      "\u001B[0;31m---------------------------------------------------------------------------\u001B[0m",
      "\u001B[0;31mTypeError\u001B[0m                                 Traceback (most recent call last)",
      "Cell \u001B[0;32mIn[1], line 46\u001B[0m\n\u001B[1;32m     44\u001B[0m dates \u001B[38;5;241m=\u001B[39m [\u001B[38;5;124m\"\u001B[39m\u001B[38;5;124m20240217\u001B[39m\u001B[38;5;124m\"\u001B[39m]\n\u001B[1;32m     45\u001B[0m gtfs_folder \u001B[38;5;241m=\u001B[39m \u001B[38;5;124m'\u001B[39m\u001B[38;5;124msl\u001B[39m\u001B[38;5;124m'\u001B[39m\n\u001B[0;32m---> 46\u001B[0m feed \u001B[38;5;241m=\u001B[39m \u001B[43mgk\u001B[49m\u001B[38;5;241;43m.\u001B[39;49m\u001B[43mread_feed\u001B[49m\u001B[43m(\u001B[49m\u001B[43mdist_units\u001B[49m\u001B[38;5;241;43m=\u001B[39;49m\u001B[38;5;124;43m'\u001B[39;49m\u001B[38;5;124;43mkm\u001B[39;49m\u001B[38;5;124;43m'\u001B[39;49m\u001B[43m,\u001B[49m\u001B[43m \u001B[49m\u001B[43mdates\u001B[49m\u001B[38;5;241;43m=\u001B[39;49m\u001B[43mdates\u001B[49m\u001B[43m,\u001B[49m\u001B[43m \u001B[49m\u001B[43mfolder\u001B[49m\u001B[38;5;241;43m=\u001B[39;49m\u001B[43mgtfs_folder\u001B[49m\u001B[43m)\u001B[49m\n\u001B[1;32m     48\u001B[0m nearby_stops \u001B[38;5;241m=\u001B[39m find_nearby_stops(feed, user_latitude, user_longitude)\n\u001B[1;32m     49\u001B[0m relevant_routes \u001B[38;5;241m=\u001B[39m find_relevant_routes(feed, nearby_stops)\n",
      "\u001B[0;31mTypeError\u001B[0m: read_feed() got an unexpected keyword argument 'dates'"
     ]
    }
   ],
   "source": [
    "from datetime import datetime\n",
    "import gtfs_kit as gk\n",
    "from gtfs_functions import Feed\n",
    "from shapely.geometry import Point\n",
    "\n",
    "\n",
    "# Obtain User Geolocation\n",
    "user_latitude = 59.314849\n",
    "user_longitude = 18.051655\n",
    "\n",
    "# Nearby Stops\n",
    "def find_nearby_stops(feed, user_latitude, user_longitude, distance_threshold=100):\n",
    "    user_point = Point(user_longitude, user_latitude)\n",
    "    stops = feed.stops.copy()\n",
    "    stops['geometry'] = gk.utils.geoseries_from_latlon(stops['stop_lat'], stops['stop_lon'])\n",
    "    stops['distance'] = stops['geometry'].distance(user_point)\n",
    "    nearby_stops = stops[stops['distance'] < distance_threshold]\n",
    "    return nearby_stops\n",
    "\n",
    "# Extract Relevant Routes\n",
    "def find_relevant_routes(feed, nearby_stops):\n",
    "    stop_times = feed.stop_times.copy()\n",
    "    relevant_stop_times = stop_times[stop_times['stop_id'].isin(nearby_stops['stop_id'])]\n",
    "    relevant_trips = feed.trips[feed.trips['trip_id'].isin(relevant_stop_times['trip_id'])]\n",
    "    relevant_routes = feed.routes[feed.routes['route_id'].isin(relevant_trips['route_id'].unique())]\n",
    "    return relevant_routes\n",
    "\n",
    "# Filter Timetable\n",
    "def filter_timetable(feed, relevant_routes):\n",
    "    relevant_trips = feed.trips[feed.trips['route_id'].isin(relevant_routes['route_id'])]\n",
    "    relevant_stop_times = feed.stop_times[feed.stop_times['trip_id'].isin(relevant_trips['trip_id'])]\n",
    "    return relevant_stop_times\n",
    "\n",
    "# Generate New Timetable\n",
    "def generate_new_timetable(feed, relevant_stop_times):\n",
    "    # Convert relevant_stop_times to a DataFrame or other suitable format\n",
    "    new_timetable = relevant_stop_times\n",
    "    return new_timetable\n",
    "\n",
    "# Example usage\n",
    "dates = [\"20240217\"]\n",
    "gtfs_folder = 'sl'\n",
    "feed = gk.read_feed(dist_units='km', dates=dates, folder=gtfs_folder)\n",
    "\n",
    "nearby_stops = find_nearby_stops(feed, user_latitude, user_longitude)\n",
    "relevant_routes = find_relevant_routes(feed, nearby_stops)\n",
    "relevant_stop_times = filter_timetable(feed, relevant_routes)\n",
    "new_timetable = generate_new_timetable(feed, relevant_stop_times)\n"
   ]
  },
  {
   "cell_type": "code",
   "outputs": [],
   "source": [
    "new_timetable"
   ],
   "metadata": {
    "collapsed": false
   },
   "id": "a7791913bad3a83",
   "execution_count": null
  },
  {
   "cell_type": "code",
   "outputs": [],
   "source": [
    "import sys\n",
    "import sl_rtd as sl\n",
    "import json\n",
    "\n",
    "import pandas as pd\n",
    "import numpy as np\n",
    "import geopandas as gp\n",
    "import matplotlib\n",
    "import gtfs_kit as gk\n",
    "\n",
    "\n",
    "%load_ext autoreload\n",
    "%autoreload 2\n",
    "%matplotlib inline\n"
   ],
   "metadata": {
    "collapsed": false,
    "ExecuteTime": {
     "end_time": "2024-05-11T16:27:50.505104Z",
     "start_time": "2024-05-11T16:27:50.095463Z"
    }
   },
   "id": "c547f29501a1dd8f",
   "execution_count": 2
  },
  {
   "cell_type": "code",
   "outputs": [
    {
     "data": {
      "text/plain": "                                                       0\nmetro  [{'id': 10, 'gid': 9011001001000000, 'name': '...\ntram   [{'id': 7, 'gid': 9011001000700000, 'name': 'S...\ntrain  [{'id': 40, 'gid': 9011001004000000, 'name': '...\nbus    [{'id': 1, 'gid': 9011001000100000, 'name': ''...\nship   [{'id': 80, 'gid': 9011001008000000, 'name': '...",
      "text/html": "<div>\n<style scoped>\n    .dataframe tbody tr th:only-of-type {\n        vertical-align: middle;\n    }\n\n    .dataframe tbody tr th {\n        vertical-align: top;\n    }\n\n    .dataframe thead th {\n        text-align: right;\n    }\n</style>\n<table border=\"1\" class=\"dataframe\">\n  <thead>\n    <tr style=\"text-align: right;\">\n      <th></th>\n      <th>0</th>\n    </tr>\n  </thead>\n  <tbody>\n    <tr>\n      <th>metro</th>\n      <td>[{'id': 10, 'gid': 9011001001000000, 'name': '...</td>\n    </tr>\n    <tr>\n      <th>tram</th>\n      <td>[{'id': 7, 'gid': 9011001000700000, 'name': 'S...</td>\n    </tr>\n    <tr>\n      <th>train</th>\n      <td>[{'id': 40, 'gid': 9011001004000000, 'name': '...</td>\n    </tr>\n    <tr>\n      <th>bus</th>\n      <td>[{'id': 1, 'gid': 9011001000100000, 'name': ''...</td>\n    </tr>\n    <tr>\n      <th>ship</th>\n      <td>[{'id': 80, 'gid': 9011001008000000, 'name': '...</td>\n    </tr>\n  </tbody>\n</table>\n</div>"
     },
     "execution_count": 11,
     "metadata": {},
     "output_type": "execute_result"
    }
   ],
   "source": [
    "data = pd.read_pickle('timetable_data.pkl')\n",
    "df = pd.Series(data)\n",
    "df = pd.DataFrame(df)\n",
    "df.head()"
   ],
   "metadata": {
    "collapsed": false,
    "ExecuteTime": {
     "end_time": "2024-05-11T16:44:31.678299Z",
     "start_time": "2024-05-11T16:44:31.594284Z"
    }
   },
   "id": "cbed2c2906f82b2f",
   "execution_count": 11
  },
  {
   "cell_type": "code",
   "outputs": [],
   "source": [],
   "metadata": {
    "collapsed": false
   },
   "id": "c2363ac2181c311d"
  }
 ],
 "metadata": {
  "kernelspec": {
   "display_name": "Python 3",
   "language": "python",
   "name": "python3"
  },
  "language_info": {
   "codemirror_mode": {
    "name": "ipython",
    "version": 2
   },
   "file_extension": ".py",
   "mimetype": "text/x-python",
   "name": "python",
   "nbconvert_exporter": "python",
   "pygments_lexer": "ipython2",
   "version": "2.7.6"
  }
 },
 "nbformat": 4,
 "nbformat_minor": 5
}

{
 "cells": [
  {
   "cell_type": "code",
   "execution_count": 1,
   "id": "initial_id",
   "metadata": {
    "ExecuteTime": {
     "end_time": "2024-04-08T17:00:10.367145Z",
     "start_time": "2024-04-08T17:00:09.105805Z"
    }
   },
   "outputs": [],
   "source": [
    "import sys\n",
    "from pathlib import Path\n",
    "import json\n",
    "\n",
    "import pandas as pd\n",
    "import numpy as np\n",
    "import geopandas as gp\n",
    "import matplotlib\n",
    "\n",
    "DIR = Path('..')\n",
    "sys.path.append(str(DIR))\n",
    "\n",
    "import gtfs_kit as gk\n",
    "\n",
    "DATA_DIR = DIR/'data/sl/'\n",
    "\n",
    "%load_ext autoreload\n",
    "%autoreload 2\n",
    "%matplotlib inline"
   ]
  },
  {
   "cell_type": "code",
   "execution_count": 2,
   "id": "b713b8eb249e4f3b",
   "metadata": {
    "collapsed": false,
    "scrolled": true,
    "ExecuteTime": {
     "end_time": "2024-04-08T17:00:10.388890Z",
     "start_time": "2024-04-08T17:00:10.368633Z"
    }
   },
   "outputs": [
    {
     "data": {
      "text/plain": "             file_name  file_size\n0       stop_times.txt  132092280\n1         calendar.txt      27620\n2           agency.txt       1278\n3            stops.txt    1434719\n4   calendar_dates.txt     676779\n5        feed_info.txt        144\n6           routes.txt      30622\n7     attributions.txt    2279559\n8            trips.txt    4804496\n9        transfers.txt    1287404\n10          shapes.txt  143941150",
      "text/html": "<div>\n<style scoped>\n    .dataframe tbody tr th:only-of-type {\n        vertical-align: middle;\n    }\n\n    .dataframe tbody tr th {\n        vertical-align: top;\n    }\n\n    .dataframe thead th {\n        text-align: right;\n    }\n</style>\n<table border=\"1\" class=\"dataframe\">\n  <thead>\n    <tr style=\"text-align: right;\">\n      <th></th>\n      <th>file_name</th>\n      <th>file_size</th>\n    </tr>\n  </thead>\n  <tbody>\n    <tr>\n      <th>0</th>\n      <td>stop_times.txt</td>\n      <td>132092280</td>\n    </tr>\n    <tr>\n      <th>1</th>\n      <td>calendar.txt</td>\n      <td>27620</td>\n    </tr>\n    <tr>\n      <th>2</th>\n      <td>agency.txt</td>\n      <td>1278</td>\n    </tr>\n    <tr>\n      <th>3</th>\n      <td>stops.txt</td>\n      <td>1434719</td>\n    </tr>\n    <tr>\n      <th>4</th>\n      <td>calendar_dates.txt</td>\n      <td>676779</td>\n    </tr>\n    <tr>\n      <th>5</th>\n      <td>feed_info.txt</td>\n      <td>144</td>\n    </tr>\n    <tr>\n      <th>6</th>\n      <td>routes.txt</td>\n      <td>30622</td>\n    </tr>\n    <tr>\n      <th>7</th>\n      <td>attributions.txt</td>\n      <td>2279559</td>\n    </tr>\n    <tr>\n      <th>8</th>\n      <td>trips.txt</td>\n      <td>4804496</td>\n    </tr>\n    <tr>\n      <th>9</th>\n      <td>transfers.txt</td>\n      <td>1287404</td>\n    </tr>\n    <tr>\n      <th>10</th>\n      <td>shapes.txt</td>\n      <td>143941150</td>\n    </tr>\n  </tbody>\n</table>\n</div>"
     },
     "execution_count": 2,
     "metadata": {},
     "output_type": "execute_result"
    }
   ],
   "source": [
    "path = DATA_DIR/'/home/pablo/dev23/data_sets/sl.zip'\n",
    "gk.list_feed(path)"
   ]
  },
  {
   "cell_type": "code",
   "execution_count": 3,
   "id": "8470f2ef2481498b",
   "metadata": {
    "collapsed": false,
    "ExecuteTime": {
     "end_time": "2024-04-08T17:00:27.155657Z",
     "start_time": "2024-04-08T17:00:10.389935Z"
    }
   },
   "outputs": [
    {
     "data": {
      "text/plain": "                           indicator  \\\n0                           agencies   \n1                           timezone   \n2                         start_date   \n3                           end_date   \n4                         num_routes   \n5                          num_trips   \n6                          num_stops   \n7                         num_shapes   \n8                        sample_date   \n9   num_routes_active_on_sample_date   \n10   num_trips_active_on_sample_date   \n11   num_stops_active_on_sample_date   \n\n                                                value  \n0   [Upplands lokaltrafik, Kommuner i Stockholms L...  \n1                                    Europe/Stockholm  \n2                                            20240212  \n3                                            20241230  \n4                                                 610  \n5                                               77417  \n6                                               21568  \n7                                                3211  \n8                                            20240215  \n9                                                 575  \n10                                              34661  \n11                                              11540  ",
      "text/html": "<div>\n<style scoped>\n    .dataframe tbody tr th:only-of-type {\n        vertical-align: middle;\n    }\n\n    .dataframe tbody tr th {\n        vertical-align: top;\n    }\n\n    .dataframe thead th {\n        text-align: right;\n    }\n</style>\n<table border=\"1\" class=\"dataframe\">\n  <thead>\n    <tr style=\"text-align: right;\">\n      <th></th>\n      <th>indicator</th>\n      <th>value</th>\n    </tr>\n  </thead>\n  <tbody>\n    <tr>\n      <th>0</th>\n      <td>agencies</td>\n      <td>[Upplands lokaltrafik, Kommuner i Stockholms L...</td>\n    </tr>\n    <tr>\n      <th>1</th>\n      <td>timezone</td>\n      <td>Europe/Stockholm</td>\n    </tr>\n    <tr>\n      <th>2</th>\n      <td>start_date</td>\n      <td>20240212</td>\n    </tr>\n    <tr>\n      <th>3</th>\n      <td>end_date</td>\n      <td>20241230</td>\n    </tr>\n    <tr>\n      <th>4</th>\n      <td>num_routes</td>\n      <td>610</td>\n    </tr>\n    <tr>\n      <th>5</th>\n      <td>num_trips</td>\n      <td>77417</td>\n    </tr>\n    <tr>\n      <th>6</th>\n      <td>num_stops</td>\n      <td>21568</td>\n    </tr>\n    <tr>\n      <th>7</th>\n      <td>num_shapes</td>\n      <td>3211</td>\n    </tr>\n    <tr>\n      <th>8</th>\n      <td>sample_date</td>\n      <td>20240215</td>\n    </tr>\n    <tr>\n      <th>9</th>\n      <td>num_routes_active_on_sample_date</td>\n      <td>575</td>\n    </tr>\n    <tr>\n      <th>10</th>\n      <td>num_trips_active_on_sample_date</td>\n      <td>34661</td>\n    </tr>\n    <tr>\n      <th>11</th>\n      <td>num_stops_active_on_sample_date</td>\n      <td>11540</td>\n    </tr>\n  </tbody>\n</table>\n</div>"
     },
     "execution_count": 3,
     "metadata": {},
     "output_type": "execute_result"
    }
   ],
   "source": [
    "feed = gk.read_feed(path, dist_units='km')\n",
    "feed.describe()"
   ]
  },
  {
   "cell_type": "code",
   "execution_count": 4,
   "id": "2bda549cd1b589a1",
   "metadata": {
    "collapsed": false,
    "ExecuteTime": {
     "end_time": "2024-04-08T17:00:49.048081Z",
     "start_time": "2024-04-08T17:00:27.156347Z"
    }
   },
   "outputs": [
    {
     "name": "stdout",
     "output_type": "stream",
     "text": [
      "feed_info: dropping invalid column feed_id\n",
      "stops: dropping invalid column platform_code\n",
      "transfers: dropping invalid column from_trip_id\n",
      "transfers: dropping invalid column to_trip_id\n"
     ]
    },
    {
     "data": {
      "text/plain": "<gtfs_kit.feed.Feed at 0x7db23af84ce0>"
     },
     "execution_count": 4,
     "metadata": {},
     "output_type": "execute_result"
    }
   ],
   "source": [
    "feed.validate()\n",
    "feed.drop_invalid_columns()\n",
    "feed.drop_zombies()"
   ]
  },
  {
   "cell_type": "code",
   "execution_count": null,
   "id": "69cbb6c3bc4a169d",
   "metadata": {
    "collapsed": false,
    "is_executing": true,
    "ExecuteTime": {
     "start_time": "2024-04-08T17:00:49.049865Z"
    }
   },
   "outputs": [
    {
     "data": {
      "text/plain": "                                     0                  1                  2  \\\ntrip_id              14010000635912911  14010000635912911  14010000635912911   \narrival_time                  05:53:00           05:53:56           05:54:23   \ndeparture_time                05:53:00           05:53:56           05:54:23   \nstop_id               9022001010028003   9022001010052003   9022001010054002   \nstop_sequence                        1                  2                  3   \nstop_headsign           Stora Essingen     Stora Essingen     Stora Essingen   \npickup_type                          3                  3                  3   \ndrop_off_type                        1                  3                  3   \nshape_dist_traveled                0.0             398.26             570.67   \ntimepoint                            1                  0                  0   \n\n                                     3                  4  \ntrip_id              14010000635912911  14010000635912911  \narrival_time                  05:54:57           05:55:45  \ndeparture_time                05:54:57           05:55:45  \nstop_id               9022001010056002   9022001010058002  \nstop_sequence                        4                  5  \nstop_headsign           Stora Essingen     Stora Essingen  \npickup_type                          3                  3  \ndrop_off_type                        3                  3  \nshape_dist_traveled             808.54             1107.9  \ntimepoint                            0                  0  ",
      "text/html": "<div>\n<style scoped>\n    .dataframe tbody tr th:only-of-type {\n        vertical-align: middle;\n    }\n\n    .dataframe tbody tr th {\n        vertical-align: top;\n    }\n\n    .dataframe thead th {\n        text-align: right;\n    }\n</style>\n<table border=\"1\" class=\"dataframe\">\n  <thead>\n    <tr style=\"text-align: right;\">\n      <th></th>\n      <th>0</th>\n      <th>1</th>\n      <th>2</th>\n      <th>3</th>\n      <th>4</th>\n    </tr>\n  </thead>\n  <tbody>\n    <tr>\n      <th>trip_id</th>\n      <td>14010000635912911</td>\n      <td>14010000635912911</td>\n      <td>14010000635912911</td>\n      <td>14010000635912911</td>\n      <td>14010000635912911</td>\n    </tr>\n    <tr>\n      <th>arrival_time</th>\n      <td>05:53:00</td>\n      <td>05:53:56</td>\n      <td>05:54:23</td>\n      <td>05:54:57</td>\n      <td>05:55:45</td>\n    </tr>\n    <tr>\n      <th>departure_time</th>\n      <td>05:53:00</td>\n      <td>05:53:56</td>\n      <td>05:54:23</td>\n      <td>05:54:57</td>\n      <td>05:55:45</td>\n    </tr>\n    <tr>\n      <th>stop_id</th>\n      <td>9022001010028003</td>\n      <td>9022001010052003</td>\n      <td>9022001010054002</td>\n      <td>9022001010056002</td>\n      <td>9022001010058002</td>\n    </tr>\n    <tr>\n      <th>stop_sequence</th>\n      <td>1</td>\n      <td>2</td>\n      <td>3</td>\n      <td>4</td>\n      <td>5</td>\n    </tr>\n    <tr>\n      <th>stop_headsign</th>\n      <td>Stora Essingen</td>\n      <td>Stora Essingen</td>\n      <td>Stora Essingen</td>\n      <td>Stora Essingen</td>\n      <td>Stora Essingen</td>\n    </tr>\n    <tr>\n      <th>pickup_type</th>\n      <td>3</td>\n      <td>3</td>\n      <td>3</td>\n      <td>3</td>\n      <td>3</td>\n    </tr>\n    <tr>\n      <th>drop_off_type</th>\n      <td>1</td>\n      <td>3</td>\n      <td>3</td>\n      <td>3</td>\n      <td>3</td>\n    </tr>\n    <tr>\n      <th>shape_dist_traveled</th>\n      <td>0.0</td>\n      <td>398.26</td>\n      <td>570.67</td>\n      <td>808.54</td>\n      <td>1107.9</td>\n    </tr>\n    <tr>\n      <th>timepoint</th>\n      <td>1</td>\n      <td>0</td>\n      <td>0</td>\n      <td>0</td>\n      <td>0</td>\n    </tr>\n  </tbody>\n</table>\n</div>"
     },
     "metadata": {},
     "output_type": "display_data"
    },
    {
     "data": {
      "text/plain": "                                     0                  1                  2  \\\ntrip_id              14010000331224227  14010000331224227  14010000331224227   \narrival_time                  06:39:00           06:40:00           06:42:00   \ndeparture_time                06:39:00           06:40:00           06:42:00   \nstop_id               9022001004201001   9022001004411001   9022001004421001   \nstop_sequence                        1                  2                  3   \nstop_headsign                  Nockeby            Nockeby            Nockeby   \npickup_type                          3                  3                  3   \ndrop_off_type                        1                  3                  3   \ntimepoint                            1                  1                  1   \nshape_dist_traveled                0.0           0.864388           1.329668   \n\n                                     3                  4  \ntrip_id              14010000331224227  14010000331224227  \narrival_time                  06:44:00           06:45:00  \ndeparture_time                06:44:00           06:45:00  \nstop_id               9022001004431001   9022001004441001  \nstop_sequence                        4                  5  \nstop_headsign                  Nockeby            Nockeby  \npickup_type                          3                  3  \ndrop_off_type                        3                  3  \ntimepoint                            1                  1  \nshape_dist_traveled           2.189957           2.741705  ",
      "text/html": "<div>\n<style scoped>\n    .dataframe tbody tr th:only-of-type {\n        vertical-align: middle;\n    }\n\n    .dataframe tbody tr th {\n        vertical-align: top;\n    }\n\n    .dataframe thead th {\n        text-align: right;\n    }\n</style>\n<table border=\"1\" class=\"dataframe\">\n  <thead>\n    <tr style=\"text-align: right;\">\n      <th></th>\n      <th>0</th>\n      <th>1</th>\n      <th>2</th>\n      <th>3</th>\n      <th>4</th>\n    </tr>\n  </thead>\n  <tbody>\n    <tr>\n      <th>trip_id</th>\n      <td>14010000331224227</td>\n      <td>14010000331224227</td>\n      <td>14010000331224227</td>\n      <td>14010000331224227</td>\n      <td>14010000331224227</td>\n    </tr>\n    <tr>\n      <th>arrival_time</th>\n      <td>06:39:00</td>\n      <td>06:40:00</td>\n      <td>06:42:00</td>\n      <td>06:44:00</td>\n      <td>06:45:00</td>\n    </tr>\n    <tr>\n      <th>departure_time</th>\n      <td>06:39:00</td>\n      <td>06:40:00</td>\n      <td>06:42:00</td>\n      <td>06:44:00</td>\n      <td>06:45:00</td>\n    </tr>\n    <tr>\n      <th>stop_id</th>\n      <td>9022001004201001</td>\n      <td>9022001004411001</td>\n      <td>9022001004421001</td>\n      <td>9022001004431001</td>\n      <td>9022001004441001</td>\n    </tr>\n    <tr>\n      <th>stop_sequence</th>\n      <td>1</td>\n      <td>2</td>\n      <td>3</td>\n      <td>4</td>\n      <td>5</td>\n    </tr>\n    <tr>\n      <th>stop_headsign</th>\n      <td>Nockeby</td>\n      <td>Nockeby</td>\n      <td>Nockeby</td>\n      <td>Nockeby</td>\n      <td>Nockeby</td>\n    </tr>\n    <tr>\n      <th>pickup_type</th>\n      <td>3</td>\n      <td>3</td>\n      <td>3</td>\n      <td>3</td>\n      <td>3</td>\n    </tr>\n    <tr>\n      <th>drop_off_type</th>\n      <td>1</td>\n      <td>3</td>\n      <td>3</td>\n      <td>3</td>\n      <td>3</td>\n    </tr>\n    <tr>\n      <th>timepoint</th>\n      <td>1</td>\n      <td>1</td>\n      <td>1</td>\n      <td>1</td>\n      <td>1</td>\n    </tr>\n    <tr>\n      <th>shape_dist_traveled</th>\n      <td>0.0</td>\n      <td>0.864388</td>\n      <td>1.329668</td>\n      <td>2.189957</td>\n      <td>2.741705</td>\n    </tr>\n  </tbody>\n</table>\n</div>"
     },
     "metadata": {},
     "output_type": "display_data"
    }
   ],
   "source": [
    "# Append shape_dist_traveled column to stop times\n",
    "display(feed.stop_times.head().T)\n",
    "feed = feed.append_dist_to_stop_times()\n",
    "display(feed.stop_times.head().T)"
   ]
  },
  {
   "cell_type": "code",
   "execution_count": null,
   "id": "ad62da378ec7a936",
   "metadata": {
    "collapsed": false,
    "is_executing": true
   },
   "outputs": [],
   "source": [
    "week = feed.get_first_week()\n",
    "dates = [week[4], week[6]]  # First Friday and Sunday"
   ]
  },
  {
   "cell_type": "code",
   "execution_count": null,
   "id": "344bdfa726af2a73",
   "metadata": {
    "collapsed": false,
    "is_executing": true
   },
   "outputs": [],
   "source": [
    "# Compute feed time series\n",
    "trip_stats = feed.compute_trip_stats()\n",
    "trip_stats.head().T\n",
    "fts = feed.compute_feed_time_series(trip_stats, dates, freq='6H')\n",
    "fts"
   ]
  },
  {
   "cell_type": "code",
   "execution_count": null,
   "id": "6985a4cc5f136312",
   "metadata": {
    "collapsed": false,
    "is_executing": true
   },
   "outputs": [],
   "source": []
  },
  {
   "cell_type": "code",
   "execution_count": null,
   "id": "e1d91587-c834-4b2b-807e-b988dc9c483e",
   "metadata": {
    "is_executing": true
   },
   "outputs": [],
   "source": []
  },
  {
   "cell_type": "code",
   "execution_count": null,
   "id": "32efe5f939bbc718",
   "metadata": {
    "collapsed": false,
    "is_executing": true
   },
   "outputs": [],
   "source": [
    "gk.downsample(fts, freq='12H')"
   ]
  },
  {
   "cell_type": "code",
   "execution_count": null,
   "id": "fc3c4b11a4f61552",
   "metadata": {
    "collapsed": false,
    "is_executing": true
   },
   "outputs": [],
   "source": [
    "# Compute feed stats for first week\n",
    "feed_stats = feed.compute_feed_stats(trip_stats, week)\n",
    "feed_stats"
   ]
  },
  {
   "cell_type": "code",
   "execution_count": null,
   "id": "e55eae351df01a4d",
   "metadata": {
    "collapsed": false,
    "is_executing": true
   },
   "outputs": [],
   "source": [
    "# Compute route time series\n",
    "rts = feed.compute_route_time_series(trip_stats, dates, freq='12H')\n",
    "rts"
   ]
  },
  {
   "cell_type": "code",
   "execution_count": null,
   "id": "9ca393a4d35a1184",
   "metadata": {
    "collapsed": false,
    "is_executing": true
   },
   "outputs": [],
   "source": [
    "# Slice time series\n",
    "inds = ['service_distance', 'service_duration', 'service_speed']\n",
    "rids = ['9011001000200000', '9011001000300000'] # [478, 480, 481, 607, 608]\n",
    "rts.loc[:, (inds, rids)]"
   ]
  },
  {
   "cell_type": "code",
   "execution_count": null,
   "id": "10c4a7c43137cf4e",
   "metadata": {
    "collapsed": false,
    "is_executing": true
   },
   "outputs": [],
   "source": [
    "# Slice again by cross-section\n",
    "rts.xs(rids[0], axis=\"columns\", level=1)"
   ]
  },
  {
   "cell_type": "code",
   "execution_count": null,
   "id": "25db47b33732c65a",
   "metadata": {
    "collapsed": false,
    "is_executing": true
   },
   "outputs": [],
   "source": [
    "# Compute trip locations for every hour\n",
    "rng = pd.date_range('2/16/2024', periods=24, freq='h')\n",
    "times = [t.strftime('%H:%M:%S') for t in rng]\n",
    "loc = feed.locate_trips(dates[0], times)\n",
    "loc.head()"
   ]
  },
  {
   "cell_type": "code",
   "execution_count": null,
   "id": "6dd1cefe30c75a5a",
   "metadata": {
    "collapsed": false,
    "is_executing": true
   },
   "outputs": [],
   "source": [
    "# Build a route timetable\n",
    "route_id = feed.routes['route_id'].iat[0]\n",
    "feed.build_route_timetable(route_id, dates).T"
   ]
  },
  {
   "cell_type": "code",
   "execution_count": null,
   "id": "5b232176-c609-4d32-9962-936df52f3444",
   "metadata": {
    "is_executing": true
   },
   "outputs": [],
   "source": [
    "rids = feed.routes.route_id.loc[2:4]\n",
    "feed.map_routes(rids)"
   ]
  },
  {
   "cell_type": "code",
   "outputs": [],
   "source": [
    "with open('timetable.pcl', 'r') as f:\n",
    "    f.read()"
   ],
   "metadata": {
    "collapsed": false,
    "is_executing": true
   },
   "id": "8dd675e5584b9bb9"
  },
  {
   "cell_type": "code",
   "execution_count": null,
   "id": "abe40403602e2a22",
   "metadata": {
    "collapsed": false,
    "is_executing": true
   },
   "outputs": [],
   "source": [
    "# Compute screen line counts\n",
    "\n",
    "#lines = gp.read_file(path)\n",
    "#display(lines)\n",
    "#feed.compute_screen_line_counts(lines, dates)"
   ]
  },
  {
   "cell_type": "code",
   "execution_count": null,
   "id": "f936ca1af26d4093",
   "metadata": {
    "collapsed": false,
    "is_executing": true
   },
   "outputs": [],
   "source": [
    "# Map routes\n",
    "#rids = feed.routes.route_id.loc[2:4]\n",
    "#feed.map_routes(rids, include_stops=True)"
   ]
  },
  {
   "cell_type": "code",
   "execution_count": null,
   "id": "483aa5c5fc2266a",
   "metadata": {
    "collapsed": false,
    "is_executing": true
   },
   "outputs": [],
   "source": []
  }
 ],
 "metadata": {
  "kernelspec": {
   "display_name": "Python 3 (ipykernel)",
   "language": "python",
   "name": "python3"
  },
  "language_info": {
   "codemirror_mode": {
    "name": "ipython",
    "version": 3
   },
   "file_extension": ".py",
   "mimetype": "text/x-python",
   "name": "python",
   "nbconvert_exporter": "python",
   "pygments_lexer": "ipython3",
   "version": "3.12.1"
  }
 },
 "nbformat": 4,
 "nbformat_minor": 5
}

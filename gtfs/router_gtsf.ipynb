{
 "cells": [
  {
   "cell_type": "code",
   "execution_count": 1,
   "id": "initial_id",
   "metadata": {
    "collapsed": true,
    "ExecuteTime": {
     "end_time": "2024-03-08T19:05:52.065438Z",
     "start_time": "2024-03-08T19:05:50.930734Z"
    }
   },
   "outputs": [],
   "source": [
    "%matplotlib inline\n",
    "import os\n",
    "import contextily as ctx\n",
    "import partridge as ptg\n",
    "import pandas as pd\n",
    "from gtfs_router.raptor import raptor_assignment\n",
    "from gtfs_router import log_stop_information"
   ]
  },
  {
   "cell_type": "code",
   "outputs": [
    {
     "name": "stdout",
     "output_type": "stream",
     "text": [
      "Date Selected: 2024-03-28\n"
     ]
    }
   ],
   "source": [
    "gtfs_path = os.path.join('data', 'sl')\n",
    "_date, service_ids = ptg.read_busiest_date(gtfs_path)\n",
    "view = {'routes.txt': {'service_id': service_ids}}\n",
    "feed = ptg.load_geo_feed(gtfs_path, view)\n",
    "\n",
    "print('Date Selected: {}'.format(_date))"
   ],
   "metadata": {
    "collapsed": false,
    "ExecuteTime": {
     "end_time": "2024-03-08T19:31:05.834810Z",
     "start_time": "2024-03-08T19:31:02.004499Z"
    }
   },
   "id": "7fb57c65d5e3d7d8",
   "execution_count": 22
  },
  {
   "cell_type": "code",
   "outputs": [],
   "source": [
    "# Depart at 8:30AM (in seconds)\n",
    "departure_time = 8.5 * 60 * 60\n",
    "\n",
    "# Up to two transfers are allowed\n",
    "max_transfers = 3\n",
    "\n",
    "# Stockholm West\n",
    "from_stop_id = '9021001001281000' #Råcksta\n",
    "\n",
    "#South of Stockholm\n",
    "to_stop_id = '9021001000313000' #Henriksdals brygga"
   ],
   "metadata": {
    "collapsed": false,
    "ExecuteTime": {
     "end_time": "2024-03-08T19:31:08.565979Z",
     "start_time": "2024-03-08T19:31:08.561460Z"
    }
   },
   "id": "69e009279a1c9835",
   "execution_count": 23
  },
  {
   "cell_type": "code",
   "outputs": [
    {
     "name": "stderr",
     "output_type": "stream",
     "text": [
      "INFO:root:No valid transfers found after iteration 0 for stop pair 9021001001281000->9021001000313000\n",
      "WARNING:root:Unable to find route to destination (9021001001281000->9021001000313000) within transfer limit\n"
     ]
    },
    {
     "ename": "KeyError",
     "evalue": "'9021001000313000'",
     "output_type": "error",
     "traceback": [
      "\u001B[0;31m---------------------------------------------------------------------------\u001B[0m",
      "\u001B[0;31mKeyError\u001B[0m                                  Traceback (most recent call last)",
      "Cell \u001B[0;32mIn[19], line 2\u001B[0m\n\u001B[1;32m      1\u001B[0m stop_state \u001B[38;5;241m=\u001B[39m raptor_assignment(feed, from_stop_id, to_stop_id, departure_time, feed\u001B[38;5;241m.\u001B[39mtransfers, max_transfers)\n\u001B[0;32m----> 2\u001B[0m \u001B[38;5;28mprint\u001B[39m(\u001B[38;5;124m'\u001B[39m\u001B[38;5;124mTravel Time: \u001B[39m\u001B[38;5;132;01m{:.1f}\u001B[39;00m\u001B[38;5;124m minutes\u001B[39m\u001B[38;5;124m'\u001B[39m\u001B[38;5;241m.\u001B[39mformat(\u001B[43mstop_state\u001B[49m\u001B[38;5;241;43m.\u001B[39;49m\u001B[43mget_stop\u001B[49m\u001B[43m(\u001B[49m\u001B[43mto_stop_id\u001B[49m\u001B[43m)\u001B[49m[\u001B[38;5;124m'\u001B[39m\u001B[38;5;124mtime_to_reach\u001B[39m\u001B[38;5;124m'\u001B[39m] \u001B[38;5;241m/\u001B[39m \u001B[38;5;241m60\u001B[39m))\n",
      "File \u001B[0;32m~/anaconda3/envs/geo_env/lib/python3.12/site-packages/gtfs_router/raptor/raptor.py:36\u001B[0m, in \u001B[0;36mStopAccessState.get_stop\u001B[0;34m(self, stop_id)\u001B[0m\n\u001B[1;32m     35\u001B[0m \u001B[38;5;28;01mdef\u001B[39;00m \u001B[38;5;21mget_stop\u001B[39m(\u001B[38;5;28mself\u001B[39m, stop_id: \u001B[38;5;28mstr\u001B[39m):\n\u001B[0;32m---> 36\u001B[0m     \u001B[38;5;28;01mreturn\u001B[39;00m \u001B[38;5;28;43mself\u001B[39;49m\u001B[38;5;241;43m.\u001B[39;49m\u001B[43m_stops\u001B[49m\u001B[43m[\u001B[49m\u001B[43mstop_id\u001B[49m\u001B[43m]\u001B[49m\n",
      "\u001B[0;31mKeyError\u001B[0m: '9021001000313000'"
     ]
    }
   ],
   "source": [
    "stop_state = raptor_assignment(feed, from_stop_id, to_stop_id, departure_time, feed.transfers, max_transfers)\n",
    "print('Travel Time: {:.1f} minutes'.format(stop_state.get_stop(to_stop_id)['time_to_reach'] / 60))"
   ],
   "metadata": {
    "collapsed": false,
    "ExecuteTime": {
     "end_time": "2024-03-08T19:29:37.572186Z",
     "start_time": "2024-03-08T19:29:37.507981Z"
    }
   },
   "id": "a9e984ac1e6e4213",
   "execution_count": 19
  },
  {
   "cell_type": "code",
   "outputs": [
    {
     "ename": "KeyError",
     "evalue": "'9021001006061000'",
     "output_type": "error",
     "traceback": [
      "\u001B[0;31m---------------------------------------------------------------------------\u001B[0m",
      "\u001B[0;31mKeyError\u001B[0m                                  Traceback (most recent call last)",
      "Cell \u001B[0;32mIn[17], line 1\u001B[0m\n\u001B[0;32m----> 1\u001B[0m paths \u001B[38;5;241m=\u001B[39m \u001B[43mstop_state\u001B[49m\u001B[38;5;241;43m.\u001B[39;49m\u001B[43mdescribe_path\u001B[49m\u001B[43m(\u001B[49m\u001B[43mto_stop_id\u001B[49m\u001B[43m)\u001B[49m\n\u001B[1;32m      3\u001B[0m paths \u001B[38;5;241m=\u001B[39m paths\u001B[38;5;241m.\u001B[39msort_index()\n\u001B[1;32m      5\u001B[0m \u001B[38;5;28;01mfor\u001B[39;00m idx, desc \u001B[38;5;129;01min\u001B[39;00m \u001B[38;5;28mzip\u001B[39m(paths\u001B[38;5;241m.\u001B[39mindex, paths[\u001B[38;5;124m'\u001B[39m\u001B[38;5;124mdesc\u001B[39m\u001B[38;5;124m'\u001B[39m]):\n",
      "File \u001B[0;32m~/anaconda3/envs/geo_env/lib/python3.12/site-packages/gtfs_router/raptor/raptor.py:134\u001B[0m, in \u001B[0;36mStopAccessState.describe_path\u001B[0;34m(self, to_stop_id, epsg)\u001B[0m\n\u001B[1;32m    131\u001B[0m routes \u001B[38;5;241m=\u001B[39m \u001B[38;5;28mself\u001B[39m\u001B[38;5;241m.\u001B[39m_gtfs_feed\u001B[38;5;241m.\u001B[39mroutes\n\u001B[1;32m    133\u001B[0m current_stop_id \u001B[38;5;241m=\u001B[39m to_stop_id\n\u001B[0;32m--> 134\u001B[0m current_stop \u001B[38;5;241m=\u001B[39m \u001B[38;5;28;43mself\u001B[39;49m\u001B[38;5;241;43m.\u001B[39;49m\u001B[43mget_stop\u001B[49m\u001B[43m(\u001B[49m\u001B[43mto_stop_id\u001B[49m\u001B[43m)\u001B[49m\n\u001B[1;32m    135\u001B[0m max_segment_num \u001B[38;5;241m=\u001B[39m current_stop[\u001B[38;5;124m\"\u001B[39m\u001B[38;5;124mprior_segment\u001B[39m\u001B[38;5;124m\"\u001B[39m][\u001B[38;5;124m\"\u001B[39m\u001B[38;5;124msegment_num\u001B[39m\u001B[38;5;124m\"\u001B[39m]\n\u001B[1;32m    137\u001B[0m out_messages \u001B[38;5;241m=\u001B[39m {}\n",
      "File \u001B[0;32m~/anaconda3/envs/geo_env/lib/python3.12/site-packages/gtfs_router/raptor/raptor.py:36\u001B[0m, in \u001B[0;36mStopAccessState.get_stop\u001B[0;34m(self, stop_id)\u001B[0m\n\u001B[1;32m     35\u001B[0m \u001B[38;5;28;01mdef\u001B[39;00m \u001B[38;5;21mget_stop\u001B[39m(\u001B[38;5;28mself\u001B[39m, stop_id: \u001B[38;5;28mstr\u001B[39m):\n\u001B[0;32m---> 36\u001B[0m     \u001B[38;5;28;01mreturn\u001B[39;00m \u001B[38;5;28;43mself\u001B[39;49m\u001B[38;5;241;43m.\u001B[39;49m\u001B[43m_stops\u001B[49m\u001B[43m[\u001B[49m\u001B[43mstop_id\u001B[49m\u001B[43m]\u001B[49m\n",
      "\u001B[0;31mKeyError\u001B[0m: '9021001006061000'"
     ]
    }
   ],
   "source": [
    "paths = stop_state.describe_path(to_stop_id)\n",
    "\n",
    "paths = paths.sort_index()\n",
    "\n",
    "for idx, desc in zip(paths.index, paths['desc']):\n",
    "    print('{}: {} \\n'.format(idx + 1, desc))\n",
    "\n",
    "ax = paths.to_crs(epsg=3857).plot(figsize=(10, 10), color='#FFFFFF', lw=8)\n",
    "paths.to_crs(epsg=3857).plot(ax=ax, color=paths['color'], lw=4)\n",
    "\n",
    "ctx.add_basemap(ax, zoom=14)\n",
    "\n",
    "ax.set_axis_off()"
   ],
   "metadata": {
    "collapsed": false,
    "ExecuteTime": {
     "end_time": "2024-03-08T19:26:34.491529Z",
     "start_time": "2024-03-08T19:26:34.426613Z"
    }
   },
   "id": "e67ce116d892009b",
   "execution_count": 17
  },
  {
   "cell_type": "code",
   "outputs": [],
   "source": [],
   "metadata": {
    "collapsed": false
   },
   "id": "b626570206c4bc7c"
  }
 ],
 "metadata": {
  "kernelspec": {
   "display_name": "Python 3",
   "language": "python",
   "name": "python3"
  },
  "language_info": {
   "codemirror_mode": {
    "name": "ipython",
    "version": 2
   },
   "file_extension": ".py",
   "mimetype": "text/x-python",
   "name": "python",
   "nbconvert_exporter": "python",
   "pygments_lexer": "ipython2",
   "version": "2.7.6"
  }
 },
 "nbformat": 4,
 "nbformat_minor": 5
}
